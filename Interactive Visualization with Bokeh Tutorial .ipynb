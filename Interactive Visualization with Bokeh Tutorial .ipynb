{
 "cells": [
  {
   "cell_type": "markdown",
   "metadata": {},
   "source": [
    "# Practical Data Science Tutorial- Interactive Visualization with Bokeh\n",
    "*Author: Yuwei Zhu*"
   ]
  },
  {
   "cell_type": "markdown",
   "metadata": {},
   "source": [
    "## Introduction"
   ]
  },
  {
   "cell_type": "markdown",
   "metadata": {},
   "source": [
    "This tutorial will introduce you to some basic elements and methods for creating an **interactive plot** using `Bokeh` in Jupyter Notebook. \n",
    "\n",
    "Telling attractive stories by visualizing data is one of the most important abilities that a successful data scientist should acquire. To improve audiences' understanding of the data, we want to enable them the freedom to fully explore analyzed data in many cases. However, although matplotlib (the most popular python visualization library) provides concise construction of versatile graphics for data visualization, it doesn't support interactive visualization. Therefore, I want to introduce Bokeh, an interactive visualization library, to help you better presenting your data analysis result. \n",
    "\n",
    "A famous example of interactive data visualization is the following video, shown by Hans Rosling's in his iconic TED Talk in 2006. After reading this tutorial, you will be able to create similar fantastic plots."
   ]
  },
  {
   "cell_type": "code",
   "execution_count": 21,
   "metadata": {},
   "outputs": [
    {
     "data": {
      "text/html": [
       "<div align=\"middle\">\n",
       "<video width=\"80%\" controls autoplay>\n",
       "      <source src=\"gapminder_demo.mp4\" type=\"video/mp4\">\n",
       "</video></div>\n"
      ],
      "text/plain": [
       "<IPython.core.display.HTML object>"
      ]
     },
     "metadata": {},
     "output_type": "display_data"
    }
   ],
   "source": [
    "%%HTML\n",
    "<div align=\"middle\">\n",
    "<video width=\"80%\" controls autoplay>\n",
    "      <source src=\"gapminder_demo.mp4\" type=\"video/mp4\">\n",
    "</video></div>"
   ]
  },
  {
   "cell_type": "markdown",
   "metadata": {},
   "source": [
    "[Bokeh](https://bokeh.pydata.org/en/1.3.4/) is an interactive visualization library that targets modern web browsers for presentation by rendering its graphics using HTML and JavaScript. It's also a great candidate for exploring and presenting your data since it supports Jupyter Notebook inline display. More importantly, it allows your notebook take inputs from readers and present corresponding result, making your notebook more appealing."
   ]
  },
  {
   "cell_type": "markdown",
   "metadata": {},
   "source": [
    "### Tutorial content\n",
    "In this tutorial, I will show you how to make your plots become interactive in Python using Bokeh. \n",
    "\n",
    "I will cover the following topics in this tutorial:\n",
    "1. [Installing the libraries](#1.-Installing-the-Libraries)\n",
    "2. [Ploting with basic glyphs](#2.-Ploting-with-Basic-Glyphs)\n",
    "    - 2.1 [Bokeh visualization template](#2.1-Bokeh-visualization-template)\n",
    "    - 2.2 [Organizing multiple glyphs](#2.2-Organizing-Multiple-Glyphs)\n",
    "3. [Transforming data](#3.-Transforming-Data)\n",
    "4. [Adding interactions](#4.-Adding-Interactions)\n",
    "    - 4.1 [Interactive plots with widgets](#4.1-Interactive-Plots-with-Widgets)\n",
    "    - 4.2 [Linking behavior](#4.2-Linking-Behavior)\n",
    "5. [Example application: World Happiness Report](#Example-application:-World-Happiness-Report)\n",
    "6. [Example application: Airbnb NYC data](#Example-application:-Airbnb-NYC-data)"
   ]
  },
  {
   "cell_type": "markdown",
   "metadata": {},
   "source": [
    "## 1. Installing the Libraries"
   ]
  },
  {
   "cell_type": "markdown",
   "metadata": {},
   "source": [
    "Before getting started, you'll need to install the library that we will use. You can install Bokeh using `pip`:\n",
    "\n",
    "    $ pip install bokeh\n",
    "\n",
    "If you are already an Anaconda user, you can simply run the command:\n",
    "\n",
    "    $ conda install bokeh\n",
    "    \n",
    "Please note that Bokeh is officially supported (and continuously tested) on CPython versions 2.7 and 3.5+ only. Other Python versions or implementations may function, possibly limited capacity, but no guarantees or support is provided.\n",
    "\n",
    "Also, for basic usage, your machine should have the following libraries install:\n",
    "- Jinja2 >=2.7\n",
    "- numpy >=1.7.1\n",
    "- packaging >=16.8\n",
    "- pillow >=4.0\n",
    "- python-dateutil >=2.1\n",
    "- PyYAML >=3.10\n",
    "- six >=1.5.2\n",
    "- tornado >=4.3"
   ]
  },
  {
   "cell_type": "code",
   "execution_count": 2,
   "metadata": {},
   "outputs": [],
   "source": [
    "# Data handling\n",
    "import numpy as np\n",
    "import pandas as pd\n",
    "\n",
    "import warnings\n",
    "warnings.filterwarnings(\"ignore\")\n",
    "\n",
    "# Bokeh libraries\n",
    "from bokeh.io import output_notebook\n",
    "from bokeh.plotting import figure, show\n",
    "from bokeh.models import ColumnDataSource\n",
    "from bokeh.layouts import gridplot, column, row\n",
    "from bokeh.transform import factor_cmap, factor_mark\n",
    "from bokeh.models.widgets import CheckboxButtonGroup, RangeSlider, Panel, Tabs,\\\n",
    "                                 Slider, TextInput, Button, Paragraph, Select, CheckboxGroup\n",
    "from bokeh.palettes import all_palettes"
   ]
  },
  {
   "cell_type": "code",
   "execution_count": 3,
   "metadata": {},
   "outputs": [
    {
     "data": {
      "text/html": [
       "\n",
       "    <div class=\"bk-root\">\n",
       "        <a href=\"https://bokeh.pydata.org\" target=\"_blank\" class=\"bk-logo bk-logo-small bk-logo-notebook\"></a>\n",
       "        <span id=\"1001\">Loading BokehJS ...</span>\n",
       "    </div>"
      ]
     },
     "metadata": {},
     "output_type": "display_data"
    },
    {
     "data": {
      "application/javascript": [
       "\n",
       "(function(root) {\n",
       "  function now() {\n",
       "    return new Date();\n",
       "  }\n",
       "\n",
       "  var force = true;\n",
       "\n",
       "  if (typeof root._bokeh_onload_callbacks === \"undefined\" || force === true) {\n",
       "    root._bokeh_onload_callbacks = [];\n",
       "    root._bokeh_is_loading = undefined;\n",
       "  }\n",
       "\n",
       "  var JS_MIME_TYPE = 'application/javascript';\n",
       "  var HTML_MIME_TYPE = 'text/html';\n",
       "  var EXEC_MIME_TYPE = 'application/vnd.bokehjs_exec.v0+json';\n",
       "  var CLASS_NAME = 'output_bokeh rendered_html';\n",
       "\n",
       "  /**\n",
       "   * Render data to the DOM node\n",
       "   */\n",
       "  function render(props, node) {\n",
       "    var script = document.createElement(\"script\");\n",
       "    node.appendChild(script);\n",
       "  }\n",
       "\n",
       "  /**\n",
       "   * Handle when an output is cleared or removed\n",
       "   */\n",
       "  function handleClearOutput(event, handle) {\n",
       "    var cell = handle.cell;\n",
       "\n",
       "    var id = cell.output_area._bokeh_element_id;\n",
       "    var server_id = cell.output_area._bokeh_server_id;\n",
       "    // Clean up Bokeh references\n",
       "    if (id != null && id in Bokeh.index) {\n",
       "      Bokeh.index[id].model.document.clear();\n",
       "      delete Bokeh.index[id];\n",
       "    }\n",
       "\n",
       "    if (server_id !== undefined) {\n",
       "      // Clean up Bokeh references\n",
       "      var cmd = \"from bokeh.io.state import curstate; print(curstate().uuid_to_server['\" + server_id + \"'].get_sessions()[0].document.roots[0]._id)\";\n",
       "      cell.notebook.kernel.execute(cmd, {\n",
       "        iopub: {\n",
       "          output: function(msg) {\n",
       "            var id = msg.content.text.trim();\n",
       "            if (id in Bokeh.index) {\n",
       "              Bokeh.index[id].model.document.clear();\n",
       "              delete Bokeh.index[id];\n",
       "            }\n",
       "          }\n",
       "        }\n",
       "      });\n",
       "      // Destroy server and session\n",
       "      var cmd = \"import bokeh.io.notebook as ion; ion.destroy_server('\" + server_id + \"')\";\n",
       "      cell.notebook.kernel.execute(cmd);\n",
       "    }\n",
       "  }\n",
       "\n",
       "  /**\n",
       "   * Handle when a new output is added\n",
       "   */\n",
       "  function handleAddOutput(event, handle) {\n",
       "    var output_area = handle.output_area;\n",
       "    var output = handle.output;\n",
       "\n",
       "    // limit handleAddOutput to display_data with EXEC_MIME_TYPE content only\n",
       "    if ((output.output_type != \"display_data\") || (!output.data.hasOwnProperty(EXEC_MIME_TYPE))) {\n",
       "      return\n",
       "    }\n",
       "\n",
       "    var toinsert = output_area.element.find(\".\" + CLASS_NAME.split(' ')[0]);\n",
       "\n",
       "    if (output.metadata[EXEC_MIME_TYPE][\"id\"] !== undefined) {\n",
       "      toinsert[toinsert.length - 1].firstChild.textContent = output.data[JS_MIME_TYPE];\n",
       "      // store reference to embed id on output_area\n",
       "      output_area._bokeh_element_id = output.metadata[EXEC_MIME_TYPE][\"id\"];\n",
       "    }\n",
       "    if (output.metadata[EXEC_MIME_TYPE][\"server_id\"] !== undefined) {\n",
       "      var bk_div = document.createElement(\"div\");\n",
       "      bk_div.innerHTML = output.data[HTML_MIME_TYPE];\n",
       "      var script_attrs = bk_div.children[0].attributes;\n",
       "      for (var i = 0; i < script_attrs.length; i++) {\n",
       "        toinsert[toinsert.length - 1].firstChild.setAttribute(script_attrs[i].name, script_attrs[i].value);\n",
       "      }\n",
       "      // store reference to server id on output_area\n",
       "      output_area._bokeh_server_id = output.metadata[EXEC_MIME_TYPE][\"server_id\"];\n",
       "    }\n",
       "  }\n",
       "\n",
       "  function register_renderer(events, OutputArea) {\n",
       "\n",
       "    function append_mime(data, metadata, element) {\n",
       "      // create a DOM node to render to\n",
       "      var toinsert = this.create_output_subarea(\n",
       "        metadata,\n",
       "        CLASS_NAME,\n",
       "        EXEC_MIME_TYPE\n",
       "      );\n",
       "      this.keyboard_manager.register_events(toinsert);\n",
       "      // Render to node\n",
       "      var props = {data: data, metadata: metadata[EXEC_MIME_TYPE]};\n",
       "      render(props, toinsert[toinsert.length - 1]);\n",
       "      element.append(toinsert);\n",
       "      return toinsert\n",
       "    }\n",
       "\n",
       "    /* Handle when an output is cleared or removed */\n",
       "    events.on('clear_output.CodeCell', handleClearOutput);\n",
       "    events.on('delete.Cell', handleClearOutput);\n",
       "\n",
       "    /* Handle when a new output is added */\n",
       "    events.on('output_added.OutputArea', handleAddOutput);\n",
       "\n",
       "    /**\n",
       "     * Register the mime type and append_mime function with output_area\n",
       "     */\n",
       "    OutputArea.prototype.register_mime_type(EXEC_MIME_TYPE, append_mime, {\n",
       "      /* Is output safe? */\n",
       "      safe: true,\n",
       "      /* Index of renderer in `output_area.display_order` */\n",
       "      index: 0\n",
       "    });\n",
       "  }\n",
       "\n",
       "  // register the mime type if in Jupyter Notebook environment and previously unregistered\n",
       "  if (root.Jupyter !== undefined) {\n",
       "    var events = require('base/js/events');\n",
       "    var OutputArea = require('notebook/js/outputarea').OutputArea;\n",
       "\n",
       "    if (OutputArea.prototype.mime_types().indexOf(EXEC_MIME_TYPE) == -1) {\n",
       "      register_renderer(events, OutputArea);\n",
       "    }\n",
       "  }\n",
       "\n",
       "  \n",
       "  if (typeof (root._bokeh_timeout) === \"undefined\" || force === true) {\n",
       "    root._bokeh_timeout = Date.now() + 5000;\n",
       "    root._bokeh_failed_load = false;\n",
       "  }\n",
       "\n",
       "  var NB_LOAD_WARNING = {'data': {'text/html':\n",
       "     \"<div style='background-color: #fdd'>\\n\"+\n",
       "     \"<p>\\n\"+\n",
       "     \"BokehJS does not appear to have successfully loaded. If loading BokehJS from CDN, this \\n\"+\n",
       "     \"may be due to a slow or bad network connection. Possible fixes:\\n\"+\n",
       "     \"</p>\\n\"+\n",
       "     \"<ul>\\n\"+\n",
       "     \"<li>re-rerun `output_notebook()` to attempt to load from CDN again, or</li>\\n\"+\n",
       "     \"<li>use INLINE resources instead, as so:</li>\\n\"+\n",
       "     \"</ul>\\n\"+\n",
       "     \"<code>\\n\"+\n",
       "     \"from bokeh.resources import INLINE\\n\"+\n",
       "     \"output_notebook(resources=INLINE)\\n\"+\n",
       "     \"</code>\\n\"+\n",
       "     \"</div>\"}};\n",
       "\n",
       "  function display_loaded() {\n",
       "    var el = document.getElementById(\"1001\");\n",
       "    if (el != null) {\n",
       "      el.textContent = \"BokehJS is loading...\";\n",
       "    }\n",
       "    if (root.Bokeh !== undefined) {\n",
       "      if (el != null) {\n",
       "        el.textContent = \"BokehJS \" + root.Bokeh.version + \" successfully loaded.\";\n",
       "      }\n",
       "    } else if (Date.now() < root._bokeh_timeout) {\n",
       "      setTimeout(display_loaded, 100)\n",
       "    }\n",
       "  }\n",
       "\n",
       "\n",
       "  function run_callbacks() {\n",
       "    try {\n",
       "      root._bokeh_onload_callbacks.forEach(function(callback) {\n",
       "        if (callback != null)\n",
       "          callback();\n",
       "      });\n",
       "    } finally {\n",
       "      delete root._bokeh_onload_callbacks\n",
       "    }\n",
       "    console.debug(\"Bokeh: all callbacks have finished\");\n",
       "  }\n",
       "\n",
       "  function load_libs(css_urls, js_urls, callback) {\n",
       "    if (css_urls == null) css_urls = [];\n",
       "    if (js_urls == null) js_urls = [];\n",
       "\n",
       "    root._bokeh_onload_callbacks.push(callback);\n",
       "    if (root._bokeh_is_loading > 0) {\n",
       "      console.debug(\"Bokeh: BokehJS is being loaded, scheduling callback at\", now());\n",
       "      return null;\n",
       "    }\n",
       "    if (js_urls == null || js_urls.length === 0) {\n",
       "      run_callbacks();\n",
       "      return null;\n",
       "    }\n",
       "    console.debug(\"Bokeh: BokehJS not loaded, scheduling load and callback at\", now());\n",
       "    root._bokeh_is_loading = css_urls.length + js_urls.length;\n",
       "\n",
       "    function on_load() {\n",
       "      root._bokeh_is_loading--;\n",
       "      if (root._bokeh_is_loading === 0) {\n",
       "        console.debug(\"Bokeh: all BokehJS libraries/stylesheets loaded\");\n",
       "        run_callbacks()\n",
       "      }\n",
       "    }\n",
       "\n",
       "    function on_error() {\n",
       "      console.error(\"failed to load \" + url);\n",
       "    }\n",
       "\n",
       "    for (var i = 0; i < css_urls.length; i++) {\n",
       "      var url = css_urls[i];\n",
       "      const element = document.createElement(\"link\");\n",
       "      element.onload = on_load;\n",
       "      element.onerror = on_error;\n",
       "      element.rel = \"stylesheet\";\n",
       "      element.type = \"text/css\";\n",
       "      element.href = url;\n",
       "      console.debug(\"Bokeh: injecting link tag for BokehJS stylesheet: \", url);\n",
       "      document.body.appendChild(element);\n",
       "    }\n",
       "\n",
       "    for (var i = 0; i < js_urls.length; i++) {\n",
       "      var url = js_urls[i];\n",
       "      var element = document.createElement('script');\n",
       "      element.onload = on_load;\n",
       "      element.onerror = on_error;\n",
       "      element.async = false;\n",
       "      element.src = url;\n",
       "      console.debug(\"Bokeh: injecting script tag for BokehJS library: \", url);\n",
       "      document.head.appendChild(element);\n",
       "    }\n",
       "  };var element = document.getElementById(\"1001\");\n",
       "  if (element == null) {\n",
       "    console.error(\"Bokeh: ERROR: autoload.js configured with elementid '1001' but no matching script tag was found. \")\n",
       "    return false;\n",
       "  }\n",
       "\n",
       "  function inject_raw_css(css) {\n",
       "    const element = document.createElement(\"style\");\n",
       "    element.appendChild(document.createTextNode(css));\n",
       "    document.body.appendChild(element);\n",
       "  }\n",
       "\n",
       "  var js_urls = [\"https://cdn.pydata.org/bokeh/release/bokeh-1.3.4.min.js\", \"https://cdn.pydata.org/bokeh/release/bokeh-widgets-1.3.4.min.js\", \"https://cdn.pydata.org/bokeh/release/bokeh-tables-1.3.4.min.js\", \"https://cdn.pydata.org/bokeh/release/bokeh-gl-1.3.4.min.js\"];\n",
       "  var css_urls = [];\n",
       "\n",
       "  var inline_js = [\n",
       "    function(Bokeh) {\n",
       "      Bokeh.set_log_level(\"info\");\n",
       "    },\n",
       "    \n",
       "    function(Bokeh) {\n",
       "      \n",
       "    },\n",
       "    function(Bokeh) {} // ensure no trailing comma for IE\n",
       "  ];\n",
       "\n",
       "  function run_inline_js() {\n",
       "    \n",
       "    if ((root.Bokeh !== undefined) || (force === true)) {\n",
       "      for (var i = 0; i < inline_js.length; i++) {\n",
       "        inline_js[i].call(root, root.Bokeh);\n",
       "      }if (force === true) {\n",
       "        display_loaded();\n",
       "      }} else if (Date.now() < root._bokeh_timeout) {\n",
       "      setTimeout(run_inline_js, 100);\n",
       "    } else if (!root._bokeh_failed_load) {\n",
       "      console.log(\"Bokeh: BokehJS failed to load within specified timeout.\");\n",
       "      root._bokeh_failed_load = true;\n",
       "    } else if (force !== true) {\n",
       "      var cell = $(document.getElementById(\"1001\")).parents('.cell').data().cell;\n",
       "      cell.output_area.append_execute_result(NB_LOAD_WARNING)\n",
       "    }\n",
       "\n",
       "  }\n",
       "\n",
       "  if (root._bokeh_is_loading === 0) {\n",
       "    console.debug(\"Bokeh: BokehJS loaded, going straight to plotting\");\n",
       "    run_inline_js();\n",
       "  } else {\n",
       "    load_libs(css_urls, js_urls, function() {\n",
       "      console.debug(\"Bokeh: BokehJS plotting callback run at\", now());\n",
       "      run_inline_js();\n",
       "    });\n",
       "  }\n",
       "}(window));"
      ],
      "application/vnd.bokehjs_load.v0+json": "\n(function(root) {\n  function now() {\n    return new Date();\n  }\n\n  var force = true;\n\n  if (typeof root._bokeh_onload_callbacks === \"undefined\" || force === true) {\n    root._bokeh_onload_callbacks = [];\n    root._bokeh_is_loading = undefined;\n  }\n\n  \n\n  \n  if (typeof (root._bokeh_timeout) === \"undefined\" || force === true) {\n    root._bokeh_timeout = Date.now() + 5000;\n    root._bokeh_failed_load = false;\n  }\n\n  var NB_LOAD_WARNING = {'data': {'text/html':\n     \"<div style='background-color: #fdd'>\\n\"+\n     \"<p>\\n\"+\n     \"BokehJS does not appear to have successfully loaded. If loading BokehJS from CDN, this \\n\"+\n     \"may be due to a slow or bad network connection. Possible fixes:\\n\"+\n     \"</p>\\n\"+\n     \"<ul>\\n\"+\n     \"<li>re-rerun `output_notebook()` to attempt to load from CDN again, or</li>\\n\"+\n     \"<li>use INLINE resources instead, as so:</li>\\n\"+\n     \"</ul>\\n\"+\n     \"<code>\\n\"+\n     \"from bokeh.resources import INLINE\\n\"+\n     \"output_notebook(resources=INLINE)\\n\"+\n     \"</code>\\n\"+\n     \"</div>\"}};\n\n  function display_loaded() {\n    var el = document.getElementById(\"1001\");\n    if (el != null) {\n      el.textContent = \"BokehJS is loading...\";\n    }\n    if (root.Bokeh !== undefined) {\n      if (el != null) {\n        el.textContent = \"BokehJS \" + root.Bokeh.version + \" successfully loaded.\";\n      }\n    } else if (Date.now() < root._bokeh_timeout) {\n      setTimeout(display_loaded, 100)\n    }\n  }\n\n\n  function run_callbacks() {\n    try {\n      root._bokeh_onload_callbacks.forEach(function(callback) {\n        if (callback != null)\n          callback();\n      });\n    } finally {\n      delete root._bokeh_onload_callbacks\n    }\n    console.debug(\"Bokeh: all callbacks have finished\");\n  }\n\n  function load_libs(css_urls, js_urls, callback) {\n    if (css_urls == null) css_urls = [];\n    if (js_urls == null) js_urls = [];\n\n    root._bokeh_onload_callbacks.push(callback);\n    if (root._bokeh_is_loading > 0) {\n      console.debug(\"Bokeh: BokehJS is being loaded, scheduling callback at\", now());\n      return null;\n    }\n    if (js_urls == null || js_urls.length === 0) {\n      run_callbacks();\n      return null;\n    }\n    console.debug(\"Bokeh: BokehJS not loaded, scheduling load and callback at\", now());\n    root._bokeh_is_loading = css_urls.length + js_urls.length;\n\n    function on_load() {\n      root._bokeh_is_loading--;\n      if (root._bokeh_is_loading === 0) {\n        console.debug(\"Bokeh: all BokehJS libraries/stylesheets loaded\");\n        run_callbacks()\n      }\n    }\n\n    function on_error() {\n      console.error(\"failed to load \" + url);\n    }\n\n    for (var i = 0; i < css_urls.length; i++) {\n      var url = css_urls[i];\n      const element = document.createElement(\"link\");\n      element.onload = on_load;\n      element.onerror = on_error;\n      element.rel = \"stylesheet\";\n      element.type = \"text/css\";\n      element.href = url;\n      console.debug(\"Bokeh: injecting link tag for BokehJS stylesheet: \", url);\n      document.body.appendChild(element);\n    }\n\n    for (var i = 0; i < js_urls.length; i++) {\n      var url = js_urls[i];\n      var element = document.createElement('script');\n      element.onload = on_load;\n      element.onerror = on_error;\n      element.async = false;\n      element.src = url;\n      console.debug(\"Bokeh: injecting script tag for BokehJS library: \", url);\n      document.head.appendChild(element);\n    }\n  };var element = document.getElementById(\"1001\");\n  if (element == null) {\n    console.error(\"Bokeh: ERROR: autoload.js configured with elementid '1001' but no matching script tag was found. \")\n    return false;\n  }\n\n  function inject_raw_css(css) {\n    const element = document.createElement(\"style\");\n    element.appendChild(document.createTextNode(css));\n    document.body.appendChild(element);\n  }\n\n  var js_urls = [\"https://cdn.pydata.org/bokeh/release/bokeh-1.3.4.min.js\", \"https://cdn.pydata.org/bokeh/release/bokeh-widgets-1.3.4.min.js\", \"https://cdn.pydata.org/bokeh/release/bokeh-tables-1.3.4.min.js\", \"https://cdn.pydata.org/bokeh/release/bokeh-gl-1.3.4.min.js\"];\n  var css_urls = [];\n\n  var inline_js = [\n    function(Bokeh) {\n      Bokeh.set_log_level(\"info\");\n    },\n    \n    function(Bokeh) {\n      \n    },\n    function(Bokeh) {} // ensure no trailing comma for IE\n  ];\n\n  function run_inline_js() {\n    \n    if ((root.Bokeh !== undefined) || (force === true)) {\n      for (var i = 0; i < inline_js.length; i++) {\n        inline_js[i].call(root, root.Bokeh);\n      }if (force === true) {\n        display_loaded();\n      }} else if (Date.now() < root._bokeh_timeout) {\n      setTimeout(run_inline_js, 100);\n    } else if (!root._bokeh_failed_load) {\n      console.log(\"Bokeh: BokehJS failed to load within specified timeout.\");\n      root._bokeh_failed_load = true;\n    } else if (force !== true) {\n      var cell = $(document.getElementById(\"1001\")).parents('.cell').data().cell;\n      cell.output_area.append_execute_result(NB_LOAD_WARNING)\n    }\n\n  }\n\n  if (root._bokeh_is_loading === 0) {\n    console.debug(\"Bokeh: BokehJS loaded, going straight to plotting\");\n    run_inline_js();\n  } else {\n    load_libs(css_urls, js_urls, function() {\n      console.debug(\"Bokeh: BokehJS plotting callback run at\", now());\n      run_inline_js();\n    });\n  }\n}(window));"
     },
     "metadata": {},
     "output_type": "display_data"
    }
   ],
   "source": [
    "# display in notebook\n",
    "output_notebook() "
   ]
  },
  {
   "cell_type": "markdown",
   "metadata": {},
   "source": [
    "## *After install the library, please trust and re-run the entire notebook to make sure the interaction shows!*\n",
    "---"
   ]
  },
  {
   "cell_type": "markdown",
   "metadata": {},
   "source": [
    "Before we officially start the tutorial, **let's play a quick game!**<br>\n",
    "*Please run the cell below and start our little game!*"
   ]
  },
  {
   "cell_type": "code",
   "execution_count": 4,
   "metadata": {
    "scrolled": false
   },
   "outputs": [
    {
     "data": {
      "application/vnd.bokehjs_exec.v0+json": "",
      "text/html": [
       "\n",
       "<script src=\"http://localhost:55774/autoload.js?bokeh-autoload-element=1002&bokeh-absolute-url=http://localhost:55774&resources=none\" id=\"1002\"></script>"
      ]
     },
     "metadata": {
      "application/vnd.bokehjs_exec.v0+json": {
       "server_id": "fe95ee64376340d29d2948674032c82f"
      }
     },
     "output_type": "display_data"
    }
   ],
   "source": [
    "def modify_doc(doc):   \n",
    "    input = TextInput(value=\"default\", title = 'Your name:')\n",
    "    button = Button(label=\"Push !\", button_type=\"success\")\n",
    "    output = Paragraph()\n",
    "\n",
    "    def update():\n",
    "        output.text = \"Hello, \" + input.value +'.  Welcome to this tutorial. Hope you can enjoy it!'\n",
    "    button.on_click(update)\n",
    "\n",
    "    layout = column(input, button, output)\n",
    "\n",
    "    doc.add_root(layout)\n",
    "    \n",
    "show(modify_doc) "
   ]
  },
  {
   "cell_type": "markdown",
   "metadata": {},
   "source": [
    "It's fun, right? <br>\n",
    "Want to learn how to make similar interaction? <br>\n",
    "Keep on reading this tutorial!"
   ]
  },
  {
   "cell_type": "markdown",
   "metadata": {},
   "source": [
    "## 2. Ploting with Basic Glyphs"
   ]
  },
  {
   "cell_type": "markdown",
   "metadata": {},
   "source": [
    "Now that we've installed the required library, let's first create some static plots using Bokeh to be familair with basic concepts and methods."
   ]
  },
  {
   "cell_type": "markdown",
   "metadata": {},
   "source": [
    "### 2.1 Bokeh Visualization Template"
   ]
  },
  {
   "cell_type": "markdown",
   "metadata": {},
   "source": [
    "Below is a simple static plot example. Bascially, creating a plot using Bokeh is quite similar to using Matplotlib to generate a plot. There are mainly four step:\n",
    "- prepare your data for ploting\n",
    "- determine location of rendered plots\n",
    "- configure the canvas\n",
    "- draw the data"
   ]
  },
  {
   "cell_type": "code",
   "execution_count": 5,
   "metadata": {
    "scrolled": false
   },
   "outputs": [
    {
     "data": {
      "text/html": [
       "\n",
       "    <div class=\"bk-root\">\n",
       "        <a href=\"https://bokeh.pydata.org\" target=\"_blank\" class=\"bk-logo bk-logo-small bk-logo-notebook\"></a>\n",
       "        <span id=\"1003\">Loading BokehJS ...</span>\n",
       "    </div>"
      ]
     },
     "metadata": {},
     "output_type": "display_data"
    },
    {
     "data": {
      "application/javascript": [
       "\n",
       "(function(root) {\n",
       "  function now() {\n",
       "    return new Date();\n",
       "  }\n",
       "\n",
       "  var force = true;\n",
       "\n",
       "  if (typeof root._bokeh_onload_callbacks === \"undefined\" || force === true) {\n",
       "    root._bokeh_onload_callbacks = [];\n",
       "    root._bokeh_is_loading = undefined;\n",
       "  }\n",
       "\n",
       "  var JS_MIME_TYPE = 'application/javascript';\n",
       "  var HTML_MIME_TYPE = 'text/html';\n",
       "  var EXEC_MIME_TYPE = 'application/vnd.bokehjs_exec.v0+json';\n",
       "  var CLASS_NAME = 'output_bokeh rendered_html';\n",
       "\n",
       "  /**\n",
       "   * Render data to the DOM node\n",
       "   */\n",
       "  function render(props, node) {\n",
       "    var script = document.createElement(\"script\");\n",
       "    node.appendChild(script);\n",
       "  }\n",
       "\n",
       "  /**\n",
       "   * Handle when an output is cleared or removed\n",
       "   */\n",
       "  function handleClearOutput(event, handle) {\n",
       "    var cell = handle.cell;\n",
       "\n",
       "    var id = cell.output_area._bokeh_element_id;\n",
       "    var server_id = cell.output_area._bokeh_server_id;\n",
       "    // Clean up Bokeh references\n",
       "    if (id != null && id in Bokeh.index) {\n",
       "      Bokeh.index[id].model.document.clear();\n",
       "      delete Bokeh.index[id];\n",
       "    }\n",
       "\n",
       "    if (server_id !== undefined) {\n",
       "      // Clean up Bokeh references\n",
       "      var cmd = \"from bokeh.io.state import curstate; print(curstate().uuid_to_server['\" + server_id + \"'].get_sessions()[0].document.roots[0]._id)\";\n",
       "      cell.notebook.kernel.execute(cmd, {\n",
       "        iopub: {\n",
       "          output: function(msg) {\n",
       "            var id = msg.content.text.trim();\n",
       "            if (id in Bokeh.index) {\n",
       "              Bokeh.index[id].model.document.clear();\n",
       "              delete Bokeh.index[id];\n",
       "            }\n",
       "          }\n",
       "        }\n",
       "      });\n",
       "      // Destroy server and session\n",
       "      var cmd = \"import bokeh.io.notebook as ion; ion.destroy_server('\" + server_id + \"')\";\n",
       "      cell.notebook.kernel.execute(cmd);\n",
       "    }\n",
       "  }\n",
       "\n",
       "  /**\n",
       "   * Handle when a new output is added\n",
       "   */\n",
       "  function handleAddOutput(event, handle) {\n",
       "    var output_area = handle.output_area;\n",
       "    var output = handle.output;\n",
       "\n",
       "    // limit handleAddOutput to display_data with EXEC_MIME_TYPE content only\n",
       "    if ((output.output_type != \"display_data\") || (!output.data.hasOwnProperty(EXEC_MIME_TYPE))) {\n",
       "      return\n",
       "    }\n",
       "\n",
       "    var toinsert = output_area.element.find(\".\" + CLASS_NAME.split(' ')[0]);\n",
       "\n",
       "    if (output.metadata[EXEC_MIME_TYPE][\"id\"] !== undefined) {\n",
       "      toinsert[toinsert.length - 1].firstChild.textContent = output.data[JS_MIME_TYPE];\n",
       "      // store reference to embed id on output_area\n",
       "      output_area._bokeh_element_id = output.metadata[EXEC_MIME_TYPE][\"id\"];\n",
       "    }\n",
       "    if (output.metadata[EXEC_MIME_TYPE][\"server_id\"] !== undefined) {\n",
       "      var bk_div = document.createElement(\"div\");\n",
       "      bk_div.innerHTML = output.data[HTML_MIME_TYPE];\n",
       "      var script_attrs = bk_div.children[0].attributes;\n",
       "      for (var i = 0; i < script_attrs.length; i++) {\n",
       "        toinsert[toinsert.length - 1].firstChild.setAttribute(script_attrs[i].name, script_attrs[i].value);\n",
       "      }\n",
       "      // store reference to server id on output_area\n",
       "      output_area._bokeh_server_id = output.metadata[EXEC_MIME_TYPE][\"server_id\"];\n",
       "    }\n",
       "  }\n",
       "\n",
       "  function register_renderer(events, OutputArea) {\n",
       "\n",
       "    function append_mime(data, metadata, element) {\n",
       "      // create a DOM node to render to\n",
       "      var toinsert = this.create_output_subarea(\n",
       "        metadata,\n",
       "        CLASS_NAME,\n",
       "        EXEC_MIME_TYPE\n",
       "      );\n",
       "      this.keyboard_manager.register_events(toinsert);\n",
       "      // Render to node\n",
       "      var props = {data: data, metadata: metadata[EXEC_MIME_TYPE]};\n",
       "      render(props, toinsert[toinsert.length - 1]);\n",
       "      element.append(toinsert);\n",
       "      return toinsert\n",
       "    }\n",
       "\n",
       "    /* Handle when an output is cleared or removed */\n",
       "    events.on('clear_output.CodeCell', handleClearOutput);\n",
       "    events.on('delete.Cell', handleClearOutput);\n",
       "\n",
       "    /* Handle when a new output is added */\n",
       "    events.on('output_added.OutputArea', handleAddOutput);\n",
       "\n",
       "    /**\n",
       "     * Register the mime type and append_mime function with output_area\n",
       "     */\n",
       "    OutputArea.prototype.register_mime_type(EXEC_MIME_TYPE, append_mime, {\n",
       "      /* Is output safe? */\n",
       "      safe: true,\n",
       "      /* Index of renderer in `output_area.display_order` */\n",
       "      index: 0\n",
       "    });\n",
       "  }\n",
       "\n",
       "  // register the mime type if in Jupyter Notebook environment and previously unregistered\n",
       "  if (root.Jupyter !== undefined) {\n",
       "    var events = require('base/js/events');\n",
       "    var OutputArea = require('notebook/js/outputarea').OutputArea;\n",
       "\n",
       "    if (OutputArea.prototype.mime_types().indexOf(EXEC_MIME_TYPE) == -1) {\n",
       "      register_renderer(events, OutputArea);\n",
       "    }\n",
       "  }\n",
       "\n",
       "  \n",
       "  if (typeof (root._bokeh_timeout) === \"undefined\" || force === true) {\n",
       "    root._bokeh_timeout = Date.now() + 5000;\n",
       "    root._bokeh_failed_load = false;\n",
       "  }\n",
       "\n",
       "  var NB_LOAD_WARNING = {'data': {'text/html':\n",
       "     \"<div style='background-color: #fdd'>\\n\"+\n",
       "     \"<p>\\n\"+\n",
       "     \"BokehJS does not appear to have successfully loaded. If loading BokehJS from CDN, this \\n\"+\n",
       "     \"may be due to a slow or bad network connection. Possible fixes:\\n\"+\n",
       "     \"</p>\\n\"+\n",
       "     \"<ul>\\n\"+\n",
       "     \"<li>re-rerun `output_notebook()` to attempt to load from CDN again, or</li>\\n\"+\n",
       "     \"<li>use INLINE resources instead, as so:</li>\\n\"+\n",
       "     \"</ul>\\n\"+\n",
       "     \"<code>\\n\"+\n",
       "     \"from bokeh.resources import INLINE\\n\"+\n",
       "     \"output_notebook(resources=INLINE)\\n\"+\n",
       "     \"</code>\\n\"+\n",
       "     \"</div>\"}};\n",
       "\n",
       "  function display_loaded() {\n",
       "    var el = document.getElementById(\"1003\");\n",
       "    if (el != null) {\n",
       "      el.textContent = \"BokehJS is loading...\";\n",
       "    }\n",
       "    if (root.Bokeh !== undefined) {\n",
       "      if (el != null) {\n",
       "        el.textContent = \"BokehJS \" + root.Bokeh.version + \" successfully loaded.\";\n",
       "      }\n",
       "    } else if (Date.now() < root._bokeh_timeout) {\n",
       "      setTimeout(display_loaded, 100)\n",
       "    }\n",
       "  }\n",
       "\n",
       "\n",
       "  function run_callbacks() {\n",
       "    try {\n",
       "      root._bokeh_onload_callbacks.forEach(function(callback) {\n",
       "        if (callback != null)\n",
       "          callback();\n",
       "      });\n",
       "    } finally {\n",
       "      delete root._bokeh_onload_callbacks\n",
       "    }\n",
       "    console.debug(\"Bokeh: all callbacks have finished\");\n",
       "  }\n",
       "\n",
       "  function load_libs(css_urls, js_urls, callback) {\n",
       "    if (css_urls == null) css_urls = [];\n",
       "    if (js_urls == null) js_urls = [];\n",
       "\n",
       "    root._bokeh_onload_callbacks.push(callback);\n",
       "    if (root._bokeh_is_loading > 0) {\n",
       "      console.debug(\"Bokeh: BokehJS is being loaded, scheduling callback at\", now());\n",
       "      return null;\n",
       "    }\n",
       "    if (js_urls == null || js_urls.length === 0) {\n",
       "      run_callbacks();\n",
       "      return null;\n",
       "    }\n",
       "    console.debug(\"Bokeh: BokehJS not loaded, scheduling load and callback at\", now());\n",
       "    root._bokeh_is_loading = css_urls.length + js_urls.length;\n",
       "\n",
       "    function on_load() {\n",
       "      root._bokeh_is_loading--;\n",
       "      if (root._bokeh_is_loading === 0) {\n",
       "        console.debug(\"Bokeh: all BokehJS libraries/stylesheets loaded\");\n",
       "        run_callbacks()\n",
       "      }\n",
       "    }\n",
       "\n",
       "    function on_error() {\n",
       "      console.error(\"failed to load \" + url);\n",
       "    }\n",
       "\n",
       "    for (var i = 0; i < css_urls.length; i++) {\n",
       "      var url = css_urls[i];\n",
       "      const element = document.createElement(\"link\");\n",
       "      element.onload = on_load;\n",
       "      element.onerror = on_error;\n",
       "      element.rel = \"stylesheet\";\n",
       "      element.type = \"text/css\";\n",
       "      element.href = url;\n",
       "      console.debug(\"Bokeh: injecting link tag for BokehJS stylesheet: \", url);\n",
       "      document.body.appendChild(element);\n",
       "    }\n",
       "\n",
       "    for (var i = 0; i < js_urls.length; i++) {\n",
       "      var url = js_urls[i];\n",
       "      var element = document.createElement('script');\n",
       "      element.onload = on_load;\n",
       "      element.onerror = on_error;\n",
       "      element.async = false;\n",
       "      element.src = url;\n",
       "      console.debug(\"Bokeh: injecting script tag for BokehJS library: \", url);\n",
       "      document.head.appendChild(element);\n",
       "    }\n",
       "  };var element = document.getElementById(\"1003\");\n",
       "  if (element == null) {\n",
       "    console.error(\"Bokeh: ERROR: autoload.js configured with elementid '1003' but no matching script tag was found. \")\n",
       "    return false;\n",
       "  }\n",
       "\n",
       "  function inject_raw_css(css) {\n",
       "    const element = document.createElement(\"style\");\n",
       "    element.appendChild(document.createTextNode(css));\n",
       "    document.body.appendChild(element);\n",
       "  }\n",
       "\n",
       "  var js_urls = [\"https://cdn.pydata.org/bokeh/release/bokeh-1.3.4.min.js\", \"https://cdn.pydata.org/bokeh/release/bokeh-widgets-1.3.4.min.js\", \"https://cdn.pydata.org/bokeh/release/bokeh-tables-1.3.4.min.js\", \"https://cdn.pydata.org/bokeh/release/bokeh-gl-1.3.4.min.js\"];\n",
       "  var css_urls = [];\n",
       "\n",
       "  var inline_js = [\n",
       "    function(Bokeh) {\n",
       "      Bokeh.set_log_level(\"info\");\n",
       "    },\n",
       "    \n",
       "    function(Bokeh) {\n",
       "      \n",
       "    },\n",
       "    function(Bokeh) {} // ensure no trailing comma for IE\n",
       "  ];\n",
       "\n",
       "  function run_inline_js() {\n",
       "    \n",
       "    if ((root.Bokeh !== undefined) || (force === true)) {\n",
       "      for (var i = 0; i < inline_js.length; i++) {\n",
       "        inline_js[i].call(root, root.Bokeh);\n",
       "      }if (force === true) {\n",
       "        display_loaded();\n",
       "      }} else if (Date.now() < root._bokeh_timeout) {\n",
       "      setTimeout(run_inline_js, 100);\n",
       "    } else if (!root._bokeh_failed_load) {\n",
       "      console.log(\"Bokeh: BokehJS failed to load within specified timeout.\");\n",
       "      root._bokeh_failed_load = true;\n",
       "    } else if (force !== true) {\n",
       "      var cell = $(document.getElementById(\"1003\")).parents('.cell').data().cell;\n",
       "      cell.output_area.append_execute_result(NB_LOAD_WARNING)\n",
       "    }\n",
       "\n",
       "  }\n",
       "\n",
       "  if (root._bokeh_is_loading === 0) {\n",
       "    console.debug(\"Bokeh: BokehJS loaded, going straight to plotting\");\n",
       "    run_inline_js();\n",
       "  } else {\n",
       "    load_libs(css_urls, js_urls, function() {\n",
       "      console.debug(\"Bokeh: BokehJS plotting callback run at\", now());\n",
       "      run_inline_js();\n",
       "    });\n",
       "  }\n",
       "}(window));"
      ],
      "application/vnd.bokehjs_load.v0+json": "\n(function(root) {\n  function now() {\n    return new Date();\n  }\n\n  var force = true;\n\n  if (typeof root._bokeh_onload_callbacks === \"undefined\" || force === true) {\n    root._bokeh_onload_callbacks = [];\n    root._bokeh_is_loading = undefined;\n  }\n\n  \n\n  \n  if (typeof (root._bokeh_timeout) === \"undefined\" || force === true) {\n    root._bokeh_timeout = Date.now() + 5000;\n    root._bokeh_failed_load = false;\n  }\n\n  var NB_LOAD_WARNING = {'data': {'text/html':\n     \"<div style='background-color: #fdd'>\\n\"+\n     \"<p>\\n\"+\n     \"BokehJS does not appear to have successfully loaded. If loading BokehJS from CDN, this \\n\"+\n     \"may be due to a slow or bad network connection. Possible fixes:\\n\"+\n     \"</p>\\n\"+\n     \"<ul>\\n\"+\n     \"<li>re-rerun `output_notebook()` to attempt to load from CDN again, or</li>\\n\"+\n     \"<li>use INLINE resources instead, as so:</li>\\n\"+\n     \"</ul>\\n\"+\n     \"<code>\\n\"+\n     \"from bokeh.resources import INLINE\\n\"+\n     \"output_notebook(resources=INLINE)\\n\"+\n     \"</code>\\n\"+\n     \"</div>\"}};\n\n  function display_loaded() {\n    var el = document.getElementById(\"1003\");\n    if (el != null) {\n      el.textContent = \"BokehJS is loading...\";\n    }\n    if (root.Bokeh !== undefined) {\n      if (el != null) {\n        el.textContent = \"BokehJS \" + root.Bokeh.version + \" successfully loaded.\";\n      }\n    } else if (Date.now() < root._bokeh_timeout) {\n      setTimeout(display_loaded, 100)\n    }\n  }\n\n\n  function run_callbacks() {\n    try {\n      root._bokeh_onload_callbacks.forEach(function(callback) {\n        if (callback != null)\n          callback();\n      });\n    } finally {\n      delete root._bokeh_onload_callbacks\n    }\n    console.debug(\"Bokeh: all callbacks have finished\");\n  }\n\n  function load_libs(css_urls, js_urls, callback) {\n    if (css_urls == null) css_urls = [];\n    if (js_urls == null) js_urls = [];\n\n    root._bokeh_onload_callbacks.push(callback);\n    if (root._bokeh_is_loading > 0) {\n      console.debug(\"Bokeh: BokehJS is being loaded, scheduling callback at\", now());\n      return null;\n    }\n    if (js_urls == null || js_urls.length === 0) {\n      run_callbacks();\n      return null;\n    }\n    console.debug(\"Bokeh: BokehJS not loaded, scheduling load and callback at\", now());\n    root._bokeh_is_loading = css_urls.length + js_urls.length;\n\n    function on_load() {\n      root._bokeh_is_loading--;\n      if (root._bokeh_is_loading === 0) {\n        console.debug(\"Bokeh: all BokehJS libraries/stylesheets loaded\");\n        run_callbacks()\n      }\n    }\n\n    function on_error() {\n      console.error(\"failed to load \" + url);\n    }\n\n    for (var i = 0; i < css_urls.length; i++) {\n      var url = css_urls[i];\n      const element = document.createElement(\"link\");\n      element.onload = on_load;\n      element.onerror = on_error;\n      element.rel = \"stylesheet\";\n      element.type = \"text/css\";\n      element.href = url;\n      console.debug(\"Bokeh: injecting link tag for BokehJS stylesheet: \", url);\n      document.body.appendChild(element);\n    }\n\n    for (var i = 0; i < js_urls.length; i++) {\n      var url = js_urls[i];\n      var element = document.createElement('script');\n      element.onload = on_load;\n      element.onerror = on_error;\n      element.async = false;\n      element.src = url;\n      console.debug(\"Bokeh: injecting script tag for BokehJS library: \", url);\n      document.head.appendChild(element);\n    }\n  };var element = document.getElementById(\"1003\");\n  if (element == null) {\n    console.error(\"Bokeh: ERROR: autoload.js configured with elementid '1003' but no matching script tag was found. \")\n    return false;\n  }\n\n  function inject_raw_css(css) {\n    const element = document.createElement(\"style\");\n    element.appendChild(document.createTextNode(css));\n    document.body.appendChild(element);\n  }\n\n  var js_urls = [\"https://cdn.pydata.org/bokeh/release/bokeh-1.3.4.min.js\", \"https://cdn.pydata.org/bokeh/release/bokeh-widgets-1.3.4.min.js\", \"https://cdn.pydata.org/bokeh/release/bokeh-tables-1.3.4.min.js\", \"https://cdn.pydata.org/bokeh/release/bokeh-gl-1.3.4.min.js\"];\n  var css_urls = [];\n\n  var inline_js = [\n    function(Bokeh) {\n      Bokeh.set_log_level(\"info\");\n    },\n    \n    function(Bokeh) {\n      \n    },\n    function(Bokeh) {} // ensure no trailing comma for IE\n  ];\n\n  function run_inline_js() {\n    \n    if ((root.Bokeh !== undefined) || (force === true)) {\n      for (var i = 0; i < inline_js.length; i++) {\n        inline_js[i].call(root, root.Bokeh);\n      }if (force === true) {\n        display_loaded();\n      }} else if (Date.now() < root._bokeh_timeout) {\n      setTimeout(run_inline_js, 100);\n    } else if (!root._bokeh_failed_load) {\n      console.log(\"Bokeh: BokehJS failed to load within specified timeout.\");\n      root._bokeh_failed_load = true;\n    } else if (force !== true) {\n      var cell = $(document.getElementById(\"1003\")).parents('.cell').data().cell;\n      cell.output_area.append_execute_result(NB_LOAD_WARNING)\n    }\n\n  }\n\n  if (root._bokeh_is_loading === 0) {\n    console.debug(\"Bokeh: BokehJS loaded, going straight to plotting\");\n    run_inline_js();\n  } else {\n    load_libs(css_urls, js_urls, function() {\n      console.debug(\"Bokeh: BokehJS plotting callback run at\", now());\n      run_inline_js();\n    });\n  }\n}(window));"
     },
     "metadata": {},
     "output_type": "display_data"
    },
    {
     "data": {
      "text/html": [
       "\n",
       "\n",
       "\n",
       "\n",
       "\n",
       "\n",
       "  <div class=\"bk-root\" id=\"757a6a1e-dd1c-454f-a963-9172406a1249\" data-root-id=\"1004\"></div>\n"
      ]
     },
     "metadata": {},
     "output_type": "display_data"
    },
    {
     "data": {
      "application/javascript": [
       "(function(root) {\n",
       "  function embed_document(root) {\n",
       "    \n",
       "  var docs_json = {\"c81518ca-161c-49fb-a638-67fcf04df4aa\":{\"roots\":{\"references\":[{\"attributes\":{\"background_fill_alpha\":{\"value\":0.4},\"background_fill_color\":{\"value\":\"cornsilk\"},\"below\":[{\"id\":\"1015\",\"type\":\"LinearAxis\"}],\"center\":[{\"id\":\"1019\",\"type\":\"Grid\"},{\"id\":\"1024\",\"type\":\"Grid\"},{\"id\":\"1049\",\"type\":\"Legend\"}],\"left\":[{\"id\":\"1020\",\"type\":\"LinearAxis\"}],\"plot_height\":400,\"plot_width\":500,\"renderers\":[{\"id\":\"1041\",\"type\":\"GlyphRenderer\"},{\"id\":\"1054\",\"type\":\"GlyphRenderer\"},{\"id\":\"1067\",\"type\":\"GlyphRenderer\"},{\"id\":\"1083\",\"type\":\"GlyphRenderer\"},{\"id\":\"1101\",\"type\":\"GlyphRenderer\"},{\"id\":\"1121\",\"type\":\"GlyphRenderer\"}],\"title\":{\"id\":\"1005\",\"type\":\"Title\"},\"toolbar\":{\"id\":\"1031\",\"type\":\"Toolbar\"},\"x_range\":{\"id\":\"1007\",\"type\":\"Range1d\"},\"x_scale\":{\"id\":\"1011\",\"type\":\"LinearScale\"},\"y_range\":{\"id\":\"1009\",\"type\":\"Range1d\"},\"y_scale\":{\"id\":\"1013\",\"type\":\"LinearScale\"}},\"id\":\"1004\",\"subtype\":\"Figure\",\"type\":\"Plot\"},{\"attributes\":{\"text\":\"Simple plot example\"},\"id\":\"1005\",\"type\":\"Title\"},{\"attributes\":{\"active_drag\":\"auto\",\"active_inspect\":\"auto\",\"active_multi\":null,\"active_scroll\":\"auto\",\"active_tap\":\"auto\",\"tools\":[{\"id\":\"1025\",\"type\":\"PanTool\"},{\"id\":\"1026\",\"type\":\"WheelZoomTool\"},{\"id\":\"1027\",\"type\":\"BoxZoomTool\"},{\"id\":\"1028\",\"type\":\"SaveTool\"},{\"id\":\"1029\",\"type\":\"ResetTool\"},{\"id\":\"1030\",\"type\":\"HelpTool\"}]},\"id\":\"1031\",\"type\":\"Toolbar\"},{\"attributes\":{\"callback\":null,\"end\":10,\"start\":-2},\"id\":\"1009\",\"type\":\"Range1d\"},{\"attributes\":{\"data_source\":{\"id\":\"1064\",\"type\":\"ColumnDataSource\"},\"glyph\":{\"id\":\"1065\",\"type\":\"Line\"},\"hover_glyph\":null,\"muted_glyph\":null,\"nonselection_glyph\":{\"id\":\"1066\",\"type\":\"Line\"},\"selection_glyph\":null,\"view\":{\"id\":\"1068\",\"type\":\"CDSView\"}},\"id\":\"1067\",\"type\":\"GlyphRenderer\"},{\"attributes\":{},\"id\":\"1116\",\"type\":\"UnionRenderers\"},{\"attributes\":{},\"id\":\"1011\",\"type\":\"LinearScale\"},{\"attributes\":{\"source\":{\"id\":\"1064\",\"type\":\"ColumnDataSource\"}},\"id\":\"1068\",\"type\":\"CDSView\"},{\"attributes\":{\"label\":{\"value\":\"y=log(x)\"},\"renderers\":[{\"id\":\"1101\",\"type\":\"GlyphRenderer\"}]},\"id\":\"1117\",\"type\":\"LegendItem\"},{\"attributes\":{\"data_source\":{\"id\":\"1038\",\"type\":\"ColumnDataSource\"},\"glyph\":{\"id\":\"1039\",\"type\":\"Line\"},\"hover_glyph\":null,\"muted_glyph\":null,\"nonselection_glyph\":{\"id\":\"1040\",\"type\":\"Line\"},\"selection_glyph\":null,\"view\":{\"id\":\"1042\",\"type\":\"CDSView\"}},\"id\":\"1041\",\"type\":\"GlyphRenderer\"},{\"attributes\":{\"callback\":null,\"data\":{\"x\":{\"__ndarray__\":\"AAAAAAAAFMDMKXg5BS8TwJhT8HIKXhLAY31orA+NEcAvp+DlFLwQwPahsT401g/AjfWhsT40DsAkSZIkSZIMwLycgpdT8ArAVPByCl5OCcDrQ2N9aKwHwIKXU/ByCgbAGutDY31oBMCyPjTWh8YCwEmSJEmSJAHAwMspeDkF/7/wcgpeTsH7vyAa60Njffi/TsHLKXg59b98aKwPjfXxv1gfGutDY+2/uG3btm3b5r8QvJyCl1Pgv+AUvJyCl9O/gMb60Fgfur+AxvrQWB+6P+AUvJyCl9M/GLycgpdT4D+4bdu2bdvmP1gfGutDY+0/gGisD4318T9QwcspeDn1PyAa60Njffg/8HIKXk7B+z/Ayyl4OQX/P0qSJEmSJAFAsj401ofGAkAa60NjfWgEQISXU/ByCgZA7ENjfWisB0BU8HIKXk4JQLycgpdT8ApAJEmSJEmSDECM9aGxPjQOQPihsT401g9AMKfg5RS8EEBkfWisD40RQJhT8HIKXhJAzCl4OQUvE0AAAAAAAAAUQA==\",\"dtype\":\"float64\",\"shape\":[50]},\"y\":{\"__ndarray__\":\"AAAAAAAAOUD0uTCXNgA3QNIWaj3AFTVAmhas8pxAM0BPufa2zIAxQN/9kxSfrC9A9M5L2UqCLEDg5RS8nIIpQKNC77yUrSZAPuXa2zIDJECszdcYd4MhQOT3y+fCXB5AHuAK2uMHGkAGVGwIUQgWQJdT8HIKXhJArL0tMyASDkCH67/4wxIIQLswlzYAvgJAjBpn2akn/D9VAio2hCj0P64x7gYf/eo/F7ycgpdT4D+4R7++46jQP45It+lw/bc/KeuiCA9ThT8p66IID1OFP45It+lw/bc/yEe/vuOo0D8XvJyCl1PgP64x7gYf/eo/XgIqNoQo9D+RGmfZqSf8P7swlzYAvgJAh+u/+MMSCECsvS0zIBIOQJlT8HIKXhJABlRsCFEIFkAe4Ara4wcaQOn3y+fCXB5Ars3XGHeDIUA+5drbMgMkQKNC77yUrSZA4OUUvJyCKUDyzkvZSoIsQOP9kxSfrC9AUbn2tsyAMUCcFqzynEAzQNIWaj3AFTVA9LkwlzYAN0AAAAAAAAA5QA==\",\"dtype\":\"float64\",\"shape\":[50]}},\"selected\":{\"id\":\"1062\",\"type\":\"Selection\"},\"selection_policy\":{\"id\":\"1063\",\"type\":\"UnionRenderers\"}},\"id\":\"1038\",\"type\":\"ColumnDataSource\"},{\"attributes\":{},\"id\":\"1013\",\"type\":\"LinearScale\"},{\"attributes\":{},\"id\":\"1077\",\"type\":\"Selection\"},{\"attributes\":{\"source\":{\"id\":\"1038\",\"type\":\"ColumnDataSource\"}},\"id\":\"1042\",\"type\":\"CDSView\"},{\"attributes\":{},\"id\":\"1078\",\"type\":\"UnionRenderers\"},{\"attributes\":{\"formatter\":{\"id\":\"1046\",\"type\":\"BasicTickFormatter\"},\"ticker\":{\"id\":\"1016\",\"type\":\"BasicTicker\"}},\"id\":\"1015\",\"type\":\"LinearAxis\"},{\"attributes\":{\"line_color\":\"green\",\"line_width\":2,\"x\":{\"field\":\"x\"},\"y\":{\"field\":\"y\"}},\"id\":\"1119\",\"type\":\"Line\"},{\"attributes\":{\"label\":{\"value\":\"y=exp(x)\"},\"renderers\":[{\"id\":\"1067\",\"type\":\"GlyphRenderer\"}]},\"id\":\"1079\",\"type\":\"LegendItem\"},{\"attributes\":{},\"id\":\"1016\",\"type\":\"BasicTicker\"},{\"attributes\":{\"fill_alpha\":{\"value\":0.1},\"fill_color\":{\"value\":\"#1f77b4\"},\"line_alpha\":{\"value\":0.1},\"line_color\":{\"value\":\"#1f77b4\"},\"x\":{\"field\":\"x\"},\"y\":{\"field\":\"y\"}},\"id\":\"1100\",\"type\":\"Circle\"},{\"attributes\":{\"callback\":null,\"data\":{\"x\":{\"__ndarray__\":\"AAAAAAAAFMDMKXg5BS8TwJhT8HIKXhLAY31orA+NEcAvp+DlFLwQwPahsT401g/AjfWhsT40DsAkSZIkSZIMwLycgpdT8ArAVPByCl5OCcDrQ2N9aKwHwIKXU/ByCgbAGutDY31oBMCyPjTWh8YCwEmSJEmSJAHAwMspeDkF/7/wcgpeTsH7vyAa60Njffi/TsHLKXg59b98aKwPjfXxv1gfGutDY+2/uG3btm3b5r8QvJyCl1Pgv+AUvJyCl9O/gMb60Fgfur+AxvrQWB+6P+AUvJyCl9M/GLycgpdT4D+4bdu2bdvmP1gfGutDY+0/gGisD4318T9QwcspeDn1PyAa60Njffg/8HIKXk7B+z/Ayyl4OQX/P0qSJEmSJAFAsj401ofGAkAa60NjfWgEQISXU/ByCgZA7ENjfWisB0BU8HIKXk4JQLycgpdT8ApAJEmSJEmSDECM9aGxPjQOQPihsT401g9AMKfg5RS8EEBkfWisD40RQJhT8HIKXhJAzCl4OQUvE0AAAAAAAAAUQA==\",\"dtype\":\"float64\",\"shape\":[50]},\"y\":{\"__ndarray__\":\"M43t90HA+T/yuar6kBX5P85r0IhzY/g/p7Cyxzyp9z8gMaYmJ+b2PzL0mGxPGfY//2f+d65B9T8PwKhBEV70PydKNIUObfM/OS+rLPls8j/C1CQzzlvxP6ThjwscN/A/1+XHFsH37T/KgFgusUzrP81r0IhzY+g/un0kT5Ev5T/wrvs+aKDhPw2jjTgkPts/msSvx5MV0j+vcXSoQJK9P2gW0vHmzLW/jDQT2cKI1b+ZNBPZwojlv3Ukyum48PK/wJM7slFCAsDAkzuyUUICwHUkyum48PK/ijQT2cKI5b+MNBPZwojVv2gW0vHmzLW/6HF0qECSvT+gxK/HkxXSPw2jjTgkPts/8K77Pmig4T+6fSRPkS/lP89r0IhzY+g/yoBYLrFM6z/X5ccWwfftP6bhjwscN/A/w9QkM85b8T85L6ss+WzyPydKNIUObfM/D8CoQRFe9D//Z/53rkH1PzP0mGxPGfY/ITGmJifm9j+osLLHPKn3P85r0IhzY/g/8rmq+pAV+T8zje33QcD5Pw==\",\"dtype\":\"float64\",\"shape\":[50]}},\"selected\":{\"id\":\"1137\",\"type\":\"Selection\"},\"selection_policy\":{\"id\":\"1138\",\"type\":\"UnionRenderers\"}},\"id\":\"1098\",\"type\":\"ColumnDataSource\"},{\"attributes\":{\"line_alpha\":0.1,\"line_color\":\"#1f77b4\",\"line_width\":2,\"x\":{\"field\":\"x\"},\"y\":{\"field\":\"y\"}},\"id\":\"1120\",\"type\":\"Line\"},{\"attributes\":{},\"id\":\"1046\",\"type\":\"BasicTickFormatter\"},{\"attributes\":{\"ticker\":{\"id\":\"1016\",\"type\":\"BasicTicker\"}},\"id\":\"1019\",\"type\":\"Grid\"},{\"attributes\":{\"data_source\":{\"id\":\"1118\",\"type\":\"ColumnDataSource\"},\"glyph\":{\"id\":\"1119\",\"type\":\"Line\"},\"hover_glyph\":null,\"muted_glyph\":null,\"nonselection_glyph\":{\"id\":\"1120\",\"type\":\"Line\"},\"selection_glyph\":null,\"view\":{\"id\":\"1122\",\"type\":\"CDSView\"}},\"id\":\"1121\",\"type\":\"GlyphRenderer\"},{\"attributes\":{\"line_alpha\":{\"value\":0.5},\"line_color\":{\"value\":\"indigo\"},\"x\":{\"field\":\"x\"},\"y\":{\"field\":\"y\"}},\"id\":\"1081\",\"type\":\"Step\"},{\"attributes\":{\"bottom_units\":\"screen\",\"fill_alpha\":{\"value\":0.5},\"fill_color\":{\"value\":\"lightgrey\"},\"left_units\":\"screen\",\"level\":\"overlay\",\"line_alpha\":{\"value\":1.0},\"line_color\":{\"value\":\"black\"},\"line_dash\":[4,4],\"line_width\":{\"value\":2},\"render_mode\":\"css\",\"right_units\":\"screen\",\"top_units\":\"screen\"},\"id\":\"1048\",\"type\":\"BoxAnnotation\"},{\"attributes\":{\"formatter\":{\"id\":\"1044\",\"type\":\"BasicTickFormatter\"},\"ticker\":{\"id\":\"1021\",\"type\":\"BasicTicker\"}},\"id\":\"1020\",\"type\":\"LinearAxis\"},{\"attributes\":{\"source\":{\"id\":\"1118\",\"type\":\"ColumnDataSource\"}},\"id\":\"1122\",\"type\":\"CDSView\"},{\"attributes\":{\"line_alpha\":{\"value\":0.1},\"line_color\":{\"value\":\"#1f77b4\"},\"x\":{\"field\":\"x\"},\"y\":{\"field\":\"y\"}},\"id\":\"1082\",\"type\":\"Step\"},{\"attributes\":{\"items\":[{\"id\":\"1050\",\"type\":\"LegendItem\"},{\"id\":\"1079\",\"type\":\"LegendItem\"},{\"id\":\"1097\",\"type\":\"LegendItem\"},{\"id\":\"1117\",\"type\":\"LegendItem\"},{\"id\":\"1139\",\"type\":\"LegendItem\"}]},\"id\":\"1049\",\"type\":\"Legend\"},{\"attributes\":{},\"id\":\"1021\",\"type\":\"BasicTicker\"},{\"attributes\":{},\"id\":\"1137\",\"type\":\"Selection\"},{\"attributes\":{\"data_source\":{\"id\":\"1080\",\"type\":\"ColumnDataSource\"},\"glyph\":{\"id\":\"1081\",\"type\":\"Step\"},\"hover_glyph\":null,\"muted_glyph\":null,\"nonselection_glyph\":{\"id\":\"1082\",\"type\":\"Step\"},\"selection_glyph\":null,\"view\":{\"id\":\"1084\",\"type\":\"CDSView\"}},\"id\":\"1083\",\"type\":\"GlyphRenderer\"},{\"attributes\":{\"label\":{\"value\":\"y=sqrt(x)\"},\"renderers\":[{\"id\":\"1041\",\"type\":\"GlyphRenderer\"},{\"id\":\"1054\",\"type\":\"GlyphRenderer\"}]},\"id\":\"1050\",\"type\":\"LegendItem\"},{\"attributes\":{\"dimension\":1,\"ticker\":{\"id\":\"1021\",\"type\":\"BasicTicker\"}},\"id\":\"1024\",\"type\":\"Grid\"},{\"attributes\":{},\"id\":\"1138\",\"type\":\"UnionRenderers\"},{\"attributes\":{\"source\":{\"id\":\"1080\",\"type\":\"ColumnDataSource\"}},\"id\":\"1084\",\"type\":\"CDSView\"},{\"attributes\":{\"callback\":null,\"data\":{\"x\":{\"__ndarray__\":\"AAAAAAAAFMDMKXg5BS8TwJhT8HIKXhLAY31orA+NEcAvp+DlFLwQwPahsT401g/AjfWhsT40DsAkSZIkSZIMwLycgpdT8ArAVPByCl5OCcDrQ2N9aKwHwIKXU/ByCgbAGutDY31oBMCyPjTWh8YCwEmSJEmSJAHAwMspeDkF/7/wcgpeTsH7vyAa60Njffi/TsHLKXg59b98aKwPjfXxv1gfGutDY+2/uG3btm3b5r8QvJyCl1Pgv+AUvJyCl9O/gMb60Fgfur+AxvrQWB+6P+AUvJyCl9M/GLycgpdT4D+4bdu2bdvmP1gfGutDY+0/gGisD4318T9QwcspeDn1PyAa60Njffg/8HIKXk7B+z/Ayyl4OQX/P0qSJEmSJAFAsj401ofGAkAa60NjfWgEQISXU/ByCgZA7ENjfWisB0BU8HIKXk4JQLycgpdT8ApAJEmSJEmSDECM9aGxPjQOQPihsT401g9AMKfg5RS8EEBkfWisD40RQJhT8HIKXhJAzCl4OQUvE0AAAAAAAAAUQA==\",\"dtype\":\"float64\",\"shape\":[50]},\"y\":{\"__ndarray__\":\"dlMN4D+Zez+gZ1ilZ+yAP4TBY/lAwYQ/LRs0TSp0iT9vM5bqaTePP5GKd/VTJJM/pwnh8sB5lz+KWoL8WcqcP/Fs1D5+p6E/qwfx07KmpT8mPKpNjo2qP61PN19BSLA/fc4t7vD3sz/KG0OWRn24P9Kckf2gCL4/oyGbGalqwj/dcp4vDZbGP7Vf3BEZs8s/n57ITUH80D9xMGNHsdTUPwZxpTsBjNk/UOh0iqZU3z9WHCuGQTbjPxj0ZZW9j+c/Jx8y71Dl7D8RnowgB7jxP2y+1Ab6uvU/P5TSx2ym+j9ok0tKgVcAQB44YbCkCgRA6ZgpSTaUCEBL3SAIwiQOQAUis8XoexJAJjsMjzSrFkBcMTl5Cs0bQE1+js4pDCFAuOcbyjPoJEBmFP597qMpQL7/TIz+cS9A7EFh4T9IM0BDTZrPzqU3QFFsESNhAD1APgy3fp/IQUAf5bU3VM9FQB9ct4xiv0pABw64fc9mUEBeGrf2aR1UQGLVZXc7q1hA7xIQa/1AXkCPM3CZOI1iQA==\",\"dtype\":\"float64\",\"shape\":[50]}},\"selected\":{\"id\":\"1095\",\"type\":\"Selection\"},\"selection_policy\":{\"id\":\"1096\",\"type\":\"UnionRenderers\"}},\"id\":\"1064\",\"type\":\"ColumnDataSource\"},{\"attributes\":{\"line_alpha\":0.1,\"line_color\":\"#1f77b4\",\"x\":{\"field\":\"x\"},\"y\":{\"field\":\"y\"}},\"id\":\"1040\",\"type\":\"Line\"},{\"attributes\":{\"label\":{\"value\":\"y=cos(x)\"},\"renderers\":[{\"id\":\"1121\",\"type\":\"GlyphRenderer\"}]},\"id\":\"1139\",\"type\":\"LegendItem\"},{\"attributes\":{\"line_color\":\"coral\",\"x\":{\"field\":\"x\"},\"y\":{\"field\":\"y\"}},\"id\":\"1039\",\"type\":\"Line\"},{\"attributes\":{},\"id\":\"1095\",\"type\":\"Selection\"},{\"attributes\":{\"fill_color\":{\"value\":null},\"line_color\":{\"value\":\"coral\"},\"x\":{\"field\":\"x\"},\"y\":{\"field\":\"y\"}},\"id\":\"1052\",\"type\":\"Square\"},{\"attributes\":{},\"id\":\"1156\",\"type\":\"Selection\"},{\"attributes\":{},\"id\":\"1096\",\"type\":\"UnionRenderers\"},{\"attributes\":{\"fill_alpha\":{\"value\":0.1},\"fill_color\":{\"value\":\"#1f77b4\"},\"line_alpha\":{\"value\":0.1},\"line_color\":{\"value\":\"#1f77b4\"},\"x\":{\"field\":\"x\"},\"y\":{\"field\":\"y\"}},\"id\":\"1053\",\"type\":\"Square\"},{\"attributes\":{\"callback\":null,\"data\":{\"x\":{\"__ndarray__\":\"AAAAAAAAFMDMKXg5BS8TwJhT8HIKXhLAY31orA+NEcAvp+DlFLwQwPahsT401g/AjfWhsT40DsAkSZIkSZIMwLycgpdT8ArAVPByCl5OCcDrQ2N9aKwHwIKXU/ByCgbAGutDY31oBMCyPjTWh8YCwEmSJEmSJAHAwMspeDkF/7/wcgpeTsH7vyAa60Njffi/TsHLKXg59b98aKwPjfXxv1gfGutDY+2/uG3btm3b5r8QvJyCl1Pgv+AUvJyCl9O/gMb60Fgfur+AxvrQWB+6P+AUvJyCl9M/GLycgpdT4D+4bdu2bdvmP1gfGutDY+0/gGisD4318T9QwcspeDn1PyAa60Njffg/8HIKXk7B+z/Ayyl4OQX/P0qSJEmSJAFAsj401ofGAkAa60NjfWgEQISXU/ByCgZA7ENjfWisB0BU8HIKXk4JQLycgpdT8ApAJEmSJEmSDECM9aGxPjQOQPihsT401g9AMKfg5RS8EEBkfWisD40RQJhT8HIKXhJAzCl4OQUvE0AAAAAAAAAUQA==\",\"dtype\":\"float64\",\"shape\":[50]},\"y\":{\"__ndarray__\":\"AAAAAAAAOUD0uTCXNgA3QNIWaj3AFTVAmhas8pxAM0BPufa2zIAxQN/9kxSfrC9A9M5L2UqCLEDg5RS8nIIpQKNC77yUrSZAPuXa2zIDJECszdcYd4MhQOT3y+fCXB5AHuAK2uMHGkAGVGwIUQgWQJdT8HIKXhJArL0tMyASDkCH67/4wxIIQLswlzYAvgJAjBpn2akn/D9VAio2hCj0P64x7gYf/eo/F7ycgpdT4D+4R7++46jQP45It+lw/bc/KeuiCA9ThT8p66IID1OFP45It+lw/bc/yEe/vuOo0D8XvJyCl1PgP64x7gYf/eo/XgIqNoQo9D+RGmfZqSf8P7swlzYAvgJAh+u/+MMSCECsvS0zIBIOQJlT8HIKXhJABlRsCFEIFkAe4Ara4wcaQOn3y+fCXB5Ars3XGHeDIUA+5drbMgMkQKNC77yUrSZA4OUUvJyCKUDyzkvZSoIsQOP9kxSfrC9AUbn2tsyAMUCcFqzynEAzQNIWaj3AFTVA9LkwlzYAN0AAAAAAAAA5QA==\",\"dtype\":\"float64\",\"shape\":[50]}},\"selected\":{\"id\":\"1077\",\"type\":\"Selection\"},\"selection_policy\":{\"id\":\"1078\",\"type\":\"UnionRenderers\"}},\"id\":\"1051\",\"type\":\"ColumnDataSource\"},{\"attributes\":{},\"id\":\"1025\",\"type\":\"PanTool\"},{\"attributes\":{\"label\":{\"value\":\"y=log(|x|)\"},\"renderers\":[{\"id\":\"1083\",\"type\":\"GlyphRenderer\"}]},\"id\":\"1097\",\"type\":\"LegendItem\"},{\"attributes\":{\"data_source\":{\"id\":\"1051\",\"type\":\"ColumnDataSource\"},\"glyph\":{\"id\":\"1052\",\"type\":\"Square\"},\"hover_glyph\":null,\"muted_glyph\":null,\"nonselection_glyph\":{\"id\":\"1053\",\"type\":\"Square\"},\"selection_glyph\":null,\"view\":{\"id\":\"1055\",\"type\":\"CDSView\"}},\"id\":\"1054\",\"type\":\"GlyphRenderer\"},{\"attributes\":{},\"id\":\"1157\",\"type\":\"UnionRenderers\"},{\"attributes\":{},\"id\":\"1026\",\"type\":\"WheelZoomTool\"},{\"attributes\":{\"callback\":null,\"data\":{\"x\":{\"__ndarray__\":\"AAAAAAAAFMDMKXg5BS8TwJhT8HIKXhLAY31orA+NEcAvp+DlFLwQwPahsT401g/AjfWhsT40DsAkSZIkSZIMwLycgpdT8ArAVPByCl5OCcDrQ2N9aKwHwIKXU/ByCgbAGutDY31oBMCyPjTWh8YCwEmSJEmSJAHAwMspeDkF/7/wcgpeTsH7vyAa60Njffi/TsHLKXg59b98aKwPjfXxv1gfGutDY+2/uG3btm3b5r8QvJyCl1Pgv+AUvJyCl9O/gMb60Fgfur+AxvrQWB+6P+AUvJyCl9M/GLycgpdT4D+4bdu2bdvmP1gfGutDY+0/gGisD4318T9QwcspeDn1PyAa60Njffg/8HIKXk7B+z/Ayyl4OQX/P0qSJEmSJAFAsj401ofGAkAa60NjfWgEQISXU/ByCgZA7ENjfWisB0BU8HIKXk4JQLycgpdT8ApAJEmSJEmSDECM9aGxPjQOQPihsT401g9AMKfg5RS8EEBkfWisD40RQJhT8HIKXhJAzCl4OQUvE0AAAAAAAAAUQA==\",\"dtype\":\"float64\",\"shape\":[50]},\"y\":{\"__ndarray__\":\"2kprcIUn0j8YbeCD0Vu1P7Uv3cRjyb6/tN+Xyt5p1L8chVIuPyTgvx52QbsMaOW/5FM7R2fI6b/m3fnCzhbtv0C6pOghMO+/qWHDfxP+77/hmj5TF3jvvy9hqwO9o+2/o5fe8HSU6r9H2puuwWrmvwvo9ZbeUuG/K2dKodMF17/cnMYrleLEv1Bn1TGXkaQ/LQdbsL30zj91N1GJFb7bPzQBFFaDbeM/TnBG/Y4t6D/JF6DqtOzrP+1ZDOklg+4/rChUWmPV7z+sKFRaY9XvP+1ZDOklg+4/xReg6rTs6z9OcEb9ji3oPzQBFFaDbeM/ZjdRiRW+2z8dB1uwvfTOP1Bn1TGXkaQ/3JzGK5XixL8rZ0qh0wXXvw7o9ZbeUuG/R9qbrsFq5r+jl97wdJTqvzJhqwO9o+2/4po+Uxd477+pYcN/E/7vv0C6pOghMO+/5t35ws4W7b/nUztHZ8jpvxh2QbsMaOW/FYVSLj8k4L+k35fK3mnUv7Uv3cRjyb6/GG3gg9FbtT/aSmtwhSfSPw==\",\"dtype\":\"float64\",\"shape\":[50]}},\"selected\":{\"id\":\"1156\",\"type\":\"Selection\"},\"selection_policy\":{\"id\":\"1157\",\"type\":\"UnionRenderers\"}},\"id\":\"1118\",\"type\":\"ColumnDataSource\"},{\"attributes\":{},\"id\":\"1044\",\"type\":\"BasicTickFormatter\"},{\"attributes\":{\"source\":{\"id\":\"1051\",\"type\":\"ColumnDataSource\"}},\"id\":\"1055\",\"type\":\"CDSView\"},{\"attributes\":{\"overlay\":{\"id\":\"1048\",\"type\":\"BoxAnnotation\"}},\"id\":\"1027\",\"type\":\"BoxZoomTool\"},{\"attributes\":{\"fill_color\":{\"value\":null},\"line_color\":{\"value\":\"indigo\"},\"x\":{\"field\":\"x\"},\"y\":{\"field\":\"y\"}},\"id\":\"1099\",\"type\":\"Circle\"},{\"attributes\":{},\"id\":\"1062\",\"type\":\"Selection\"},{\"attributes\":{},\"id\":\"1063\",\"type\":\"UnionRenderers\"},{\"attributes\":{},\"id\":\"1028\",\"type\":\"SaveTool\"},{\"attributes\":{\"data_source\":{\"id\":\"1098\",\"type\":\"ColumnDataSource\"},\"glyph\":{\"id\":\"1099\",\"type\":\"Circle\"},\"hover_glyph\":null,\"muted_glyph\":null,\"nonselection_glyph\":{\"id\":\"1100\",\"type\":\"Circle\"},\"selection_glyph\":null,\"view\":{\"id\":\"1102\",\"type\":\"CDSView\"}},\"id\":\"1101\",\"type\":\"GlyphRenderer\"},{\"attributes\":{\"callback\":null,\"end\":5,\"start\":-5},\"id\":\"1007\",\"type\":\"Range1d\"},{\"attributes\":{},\"id\":\"1029\",\"type\":\"ResetTool\"},{\"attributes\":{\"callback\":null,\"data\":{\"x\":{\"__ndarray__\":\"AAAAAAAAFMDMKXg5BS8TwJhT8HIKXhLAY31orA+NEcAvp+DlFLwQwPahsT401g/AjfWhsT40DsAkSZIkSZIMwLycgpdT8ArAVPByCl5OCcDrQ2N9aKwHwIKXU/ByCgbAGutDY31oBMCyPjTWh8YCwEmSJEmSJAHAwMspeDkF/7/wcgpeTsH7vyAa60Njffi/TsHLKXg59b98aKwPjfXxv1gfGutDY+2/uG3btm3b5r8QvJyCl1Pgv+AUvJyCl9O/gMb60Fgfur+AxvrQWB+6P+AUvJyCl9M/GLycgpdT4D+4bdu2bdvmP1gfGutDY+0/gGisD4318T9QwcspeDn1PyAa60Njffg/8HIKXk7B+z/Ayyl4OQX/P0qSJEmSJAFAsj401ofGAkAa60NjfWgEQISXU/ByCgZA7ENjfWisB0BU8HIKXk4JQLycgpdT8ApAJEmSJEmSDECM9aGxPjQOQPihsT401g9AMKfg5RS8EEBkfWisD40RQJhT8HIKXhJAzCl4OQUvE0AAAAAAAAAUQA==\",\"dtype\":\"float64\",\"shape\":[50]},\"y\":{\"__ndarray__\":\"M43t90HA+T/yuar6kBX5P85r0IhzY/g/p7Cyxzyp9z8gMaYmJ+b2PzL0mGxPGfY//2f+d65B9T8PwKhBEV70PydKNIUObfM/OS+rLPls8j/C1CQzzlvxP6ThjwscN/A/1+XHFsH37T/KgFgusUzrP81r0IhzY+g/un0kT5Ev5T/wrvs+aKDhPw2jjTgkPts/msSvx5MV0j+vcXSoQJK9P2gW0vHmzLW/jDQT2cKI1b+ZNBPZwojlv3Ukyum48PK/wJM7slFCAsDAkzuyUUICwHUkyum48PK/ijQT2cKI5b+MNBPZwojVv2gW0vHmzLW/6HF0qECSvT+gxK/HkxXSPw2jjTgkPts/8K77Pmig4T+6fSRPkS/lP89r0IhzY+g/yoBYLrFM6z/X5ccWwfftP6bhjwscN/A/w9QkM85b8T85L6ss+WzyPydKNIUObfM/D8CoQRFe9D//Z/53rkH1PzP0mGxPGfY/ITGmJifm9j+osLLHPKn3P85r0IhzY/g/8rmq+pAV+T8zje33QcD5Pw==\",\"dtype\":\"float64\",\"shape\":[50]}},\"selected\":{\"id\":\"1115\",\"type\":\"Selection\"},\"selection_policy\":{\"id\":\"1116\",\"type\":\"UnionRenderers\"}},\"id\":\"1080\",\"type\":\"ColumnDataSource\"},{\"attributes\":{\"source\":{\"id\":\"1098\",\"type\":\"ColumnDataSource\"}},\"id\":\"1102\",\"type\":\"CDSView\"},{\"attributes\":{\"line_color\":\"dodgerblue\",\"line_dash\":[6],\"x\":{\"field\":\"x\"},\"y\":{\"field\":\"y\"}},\"id\":\"1065\",\"type\":\"Line\"},{\"attributes\":{},\"id\":\"1030\",\"type\":\"HelpTool\"},{\"attributes\":{},\"id\":\"1115\",\"type\":\"Selection\"},{\"attributes\":{\"line_alpha\":0.1,\"line_color\":\"#1f77b4\",\"line_dash\":[6],\"x\":{\"field\":\"x\"},\"y\":{\"field\":\"y\"}},\"id\":\"1066\",\"type\":\"Line\"}],\"root_ids\":[\"1004\"]},\"title\":\"Bokeh Application\",\"version\":\"1.3.4\"}};\n",
       "  var render_items = [{\"docid\":\"c81518ca-161c-49fb-a638-67fcf04df4aa\",\"roots\":{\"1004\":\"757a6a1e-dd1c-454f-a963-9172406a1249\"}}];\n",
       "  root.Bokeh.embed.embed_items_notebook(docs_json, render_items);\n",
       "\n",
       "  }\n",
       "  if (root.Bokeh !== undefined) {\n",
       "    embed_document(root);\n",
       "  } else {\n",
       "    var attempts = 0;\n",
       "    var timer = setInterval(function(root) {\n",
       "      if (root.Bokeh !== undefined) {\n",
       "        embed_document(root);\n",
       "        clearInterval(timer);\n",
       "      }\n",
       "      attempts++;\n",
       "      if (attempts > 100) {\n",
       "        console.log(\"Bokeh: ERROR: Unable to run BokehJS code because BokehJS library is missing\");\n",
       "        clearInterval(timer);\n",
       "      }\n",
       "    }, 10, root)\n",
       "  }\n",
       "})(window);"
      ],
      "application/vnd.bokehjs_exec.v0+json": ""
     },
     "metadata": {
      "application/vnd.bokehjs_exec.v0+json": {
       "id": "1004"
      }
     },
     "output_type": "display_data"
    }
   ],
   "source": [
    "# Prepare the data\n",
    "x = np.linspace(-5, 5, 50)\n",
    "y_square = x ** 2\n",
    "y_exp = np.exp(x)\n",
    "y_log = np.log(np.absolute(x))\n",
    "y_cos = np.cos(x)\n",
    "\n",
    "# Determine where the visualization will be rendered\n",
    "output_notebook()  # Render inline in a Jupyter Notebook\n",
    "# If you want to render to a static HTML, use: \n",
    "# from bokeh.io import output_file\n",
    "# output_file('filename.html')\n",
    "\n",
    "# Configure the figure(s)\n",
    "fig = figure(plot_height=400, plot_width=500, # configure canvas size\n",
    "             x_range = (-5,5), y_range = (-2, 10),\n",
    "             title = 'Simple plot example',\n",
    "             background_fill_color = \"cornsilk\", background_fill_alpha = 0.4)# set up background\n",
    "\n",
    "# Connect to data and draw plots\n",
    "fig.line(x, y_square, legend=\"y=sqrt(x)\",line_color = \"coral\") # line 1\n",
    "fig.square(x, y_square, legend=\"y=sqrt(x)\", fill_color=None, line_color=\"coral\") # add square to points in line 1\n",
    "\n",
    "fig.line(x, y_exp, legend=\"y=exp(x)\", line_color = \"dodgerblue\", line_dash = 'dashed')# line 2\n",
    "\n",
    "fig.step(x, y_log , legend=\"y=log(|x|)\", line_color = \"indigo\", line_alpha = 0.5)# line3 draw as step line\n",
    "fig.circle(x, y_log, legend = \"y=log(x)\",line_color = 'indigo', fill_color = None)# add circle to points\n",
    "\n",
    "fig.line(x, y_cos, legend=\"y=cos(x)\",line_color = \"green\", line_width = 2)# line 4\n",
    "\n",
    "fig.legend.location = \"top_right\" # set legend position\n",
    "\n",
    "# Organize the multiple layers/plots(optional)\n",
    "\n",
    "# Preview\n",
    "show(fig) "
   ]
  },
  {
   "cell_type": "markdown",
   "metadata": {},
   "source": [
    "As we can see from the code above, Bohek provides mutliple figure options along with various styling visual attributes to customize the plots. To see available figure opitions, please refer the [bokeh.plotting](https://bokeh.pydata.org/en/1.3.4/docs/reference/plotting.html#bokeh-plotting) interface. See [Styling Visual Attributes](https://bokeh.pydata.org/en/1.3.4/docs/user_guide/styling.html#userguide-styling) for information about how to customize the visual style of plots.\n",
    "\n"
   ]
  },
  {
   "cell_type": "markdown",
   "metadata": {},
   "source": [
    "An intersting element in the above plot you might notice is the `toolbar` on the right side of the plot. `Tools` is an important feature Bokeh provides to let you interact with your plots. You can use different tools to report information, to change plot parameters such as zoom level or range extents, or to add, edit, or delete glyphs. \n",
    "\n",
    "Be default, the toolbar comes with the following tools (from top to bottom):\n",
    "- Link to the [Bokeh homepage](https://bokeh.pydata.org/en/latest/)\n",
    "- Pan\n",
    "- Box Zoom\n",
    "- Wheel Zoom\n",
    "- Save\n",
    "- Reset\n",
    "- A link Bokeh's user guide for [Configuring Plot Tools](https://bokeh.pydata.org/en/latest/docs/user_guide/tools.html#built-in-tools)\n",
    "\n",
    "You can simply click the tool on the toolbar and then interact with your plot! (Please try)\n",
    "\n",
    "The toolbar can be removed by passing *toolbar_location=None* when instantiating a figure() object, or relocated by passing any of 'above', 'below', 'left', or 'right'. Additionally, the toolbar can be configured to include any combination of tools you desire. To check available tool options, please visit [Configuring Plot Tools](https://bokeh.pydata.org/en/latest/docs/user_guide/tools.html#built-in-tools)."
   ]
  },
  {
   "cell_type": "markdown",
   "metadata": {},
   "source": [
    "### 2.2 Organizing Multiple Glyphs"
   ]
  },
  {
   "cell_type": "markdown",
   "metadata": {},
   "source": [
    "You already learned how to create a single plot using Bokeh. Then the next step is to create multiple plots and put them together.\n",
    "\n",
    "Similar to the functionality of Matplotlib’s subplot, Bokeh offers the `column`, `row`, and `gridplot` functions in its [bokeh.layouts](https://bokeh.pydata.org/en/latest/docs/reference/layouts.html) module. These functions can more generally be classified as layouts.\n",
    "\n",
    "The usage is very straightforward. If you want to put two visualizations in a vertical configuration, you can do so with the following:\n",
    "\n",
    "    $ show(column(figure_1, figure_2)\n",
    "\n",
    "If you want to create plots with complex layout design, you might want to use gridplot instead. Below is a example using gridplot to generate customized layout."
   ]
  },
  {
   "cell_type": "code",
   "execution_count": 6,
   "metadata": {
    "scrolled": true
   },
   "outputs": [
    {
     "data": {
      "text/html": [
       "\n",
       "\n",
       "\n",
       "\n",
       "\n",
       "\n",
       "  <div class=\"bk-root\" id=\"e939e833-930f-4b4c-adef-c0daf115eb4f\" data-root-id=\"1461\"></div>\n"
      ]
     },
     "metadata": {},
     "output_type": "display_data"
    },
    {
     "data": {
      "application/javascript": [
       "(function(root) {\n",
       "  function embed_document(root) {\n",
       "    \n",
       "  var docs_json = {\"ec3212b0-fe4a-4218-8ddd-806b3755cfd5\":{\"roots\":{\"references\":[{\"attributes\":{\"children\":[{\"id\":\"1460\",\"type\":\"ToolbarBox\"},{\"id\":\"1458\",\"type\":\"GridBox\"}]},\"id\":\"1461\",\"type\":\"Column\"},{\"attributes\":{},\"id\":\"1446\",\"type\":\"Selection\"},{\"attributes\":{},\"id\":\"1278\",\"type\":\"BasicTicker\"},{\"attributes\":{},\"id\":\"1447\",\"type\":\"UnionRenderers\"},{\"attributes\":{},\"id\":\"1450\",\"type\":\"BasicTickFormatter\"},{\"attributes\":{\"ticker\":{\"id\":\"1278\",\"type\":\"BasicTicker\"}},\"id\":\"1281\",\"type\":\"Grid\"},{\"attributes\":{},\"id\":\"1452\",\"type\":\"BasicTickFormatter\"},{\"attributes\":{\"dimension\":1,\"ticker\":{\"id\":\"1283\",\"type\":\"BasicTicker\"}},\"id\":\"1286\",\"type\":\"Grid\"},{\"attributes\":{\"bottom_units\":\"screen\",\"fill_alpha\":{\"value\":0.5},\"fill_color\":{\"value\":\"lightgrey\"},\"left_units\":\"screen\",\"level\":\"overlay\",\"line_alpha\":{\"value\":1.0},\"line_color\":{\"value\":\"black\"},\"line_dash\":[4,4],\"line_width\":{\"value\":2},\"render_mode\":\"css\",\"right_units\":\"screen\",\"top_units\":\"screen\"},\"id\":\"1454\",\"type\":\"BoxAnnotation\"},{\"attributes\":{\"line_alpha\":0.1,\"line_color\":\"#1f77b4\",\"x\":{\"field\":\"x\"},\"y\":{\"field\":\"y\"}},\"id\":\"1302\",\"type\":\"Line\"},{\"attributes\":{},\"id\":\"1283\",\"type\":\"BasicTicker\"},{\"attributes\":{},\"id\":\"1455\",\"type\":\"Selection\"},{\"attributes\":{\"formatter\":{\"id\":\"1423\",\"type\":\"BasicTickFormatter\"},\"ticker\":{\"id\":\"1283\",\"type\":\"BasicTicker\"}},\"id\":\"1282\",\"type\":\"LinearAxis\"},{\"attributes\":{\"line_color\":\"coral\",\"x\":{\"field\":\"x\"},\"y\":{\"field\":\"y\"}},\"id\":\"1301\",\"type\":\"Line\"},{\"attributes\":{},\"id\":\"1456\",\"type\":\"UnionRenderers\"},{\"attributes\":{\"tools\":[{\"id\":\"1287\",\"type\":\"PanTool\"},{\"id\":\"1288\",\"type\":\"WheelZoomTool\"},{\"id\":\"1289\",\"type\":\"BoxZoomTool\"},{\"id\":\"1290\",\"type\":\"SaveTool\"},{\"id\":\"1291\",\"type\":\"ResetTool\"},{\"id\":\"1292\",\"type\":\"HelpTool\"},{\"id\":\"1326\",\"type\":\"PanTool\"},{\"id\":\"1327\",\"type\":\"WheelZoomTool\"},{\"id\":\"1328\",\"type\":\"BoxZoomTool\"},{\"id\":\"1329\",\"type\":\"SaveTool\"},{\"id\":\"1330\",\"type\":\"ResetTool\"},{\"id\":\"1331\",\"type\":\"HelpTool\"},{\"id\":\"1365\",\"type\":\"PanTool\"},{\"id\":\"1366\",\"type\":\"WheelZoomTool\"},{\"id\":\"1367\",\"type\":\"BoxZoomTool\"},{\"id\":\"1368\",\"type\":\"SaveTool\"},{\"id\":\"1369\",\"type\":\"ResetTool\"},{\"id\":\"1370\",\"type\":\"HelpTool\"},{\"id\":\"1404\",\"type\":\"PanTool\"},{\"id\":\"1405\",\"type\":\"WheelZoomTool\"},{\"id\":\"1406\",\"type\":\"BoxZoomTool\"},{\"id\":\"1407\",\"type\":\"SaveTool\"},{\"id\":\"1408\",\"type\":\"ResetTool\"},{\"id\":\"1409\",\"type\":\"HelpTool\"}]},\"id\":\"1459\",\"type\":\"ProxyToolbar\"},{\"attributes\":{\"toolbar\":{\"id\":\"1459\",\"type\":\"ProxyToolbar\"},\"toolbar_location\":\"above\"},\"id\":\"1460\",\"type\":\"ToolbarBox\"},{\"attributes\":{},\"id\":\"1287\",\"type\":\"PanTool\"},{\"attributes\":{},\"id\":\"1288\",\"type\":\"WheelZoomTool\"},{\"attributes\":{},\"id\":\"1322\",\"type\":\"BasicTicker\"},{\"attributes\":{\"formatter\":{\"id\":\"1425\",\"type\":\"BasicTickFormatter\"},\"ticker\":{\"id\":\"1278\",\"type\":\"BasicTicker\"}},\"id\":\"1277\",\"type\":\"LinearAxis\"},{\"attributes\":{\"dimension\":1,\"ticker\":{\"id\":\"1322\",\"type\":\"BasicTicker\"}},\"id\":\"1325\",\"type\":\"Grid\"},{\"attributes\":{\"active_drag\":\"auto\",\"active_inspect\":\"auto\",\"active_multi\":null,\"active_scroll\":\"auto\",\"active_tap\":\"auto\",\"tools\":[{\"id\":\"1287\",\"type\":\"PanTool\"},{\"id\":\"1288\",\"type\":\"WheelZoomTool\"},{\"id\":\"1289\",\"type\":\"BoxZoomTool\"},{\"id\":\"1290\",\"type\":\"SaveTool\"},{\"id\":\"1291\",\"type\":\"ResetTool\"},{\"id\":\"1292\",\"type\":\"HelpTool\"}]},\"id\":\"1293\",\"type\":\"Toolbar\"},{\"attributes\":{\"overlay\":{\"id\":\"1427\",\"type\":\"BoxAnnotation\"}},\"id\":\"1289\",\"type\":\"BoxZoomTool\"},{\"attributes\":{\"source\":{\"id\":\"1300\",\"type\":\"ColumnDataSource\"}},\"id\":\"1304\",\"type\":\"CDSView\"},{\"attributes\":{},\"id\":\"1292\",\"type\":\"HelpTool\"},{\"attributes\":{\"callback\":null,\"data\":{\"x\":{\"__ndarray__\":\"AAAAAAAAFMDMKXg5BS8TwJhT8HIKXhLAY31orA+NEcAvp+DlFLwQwPahsT401g/AjfWhsT40DsAkSZIkSZIMwLycgpdT8ArAVPByCl5OCcDrQ2N9aKwHwIKXU/ByCgbAGutDY31oBMCyPjTWh8YCwEmSJEmSJAHAwMspeDkF/7/wcgpeTsH7vyAa60Njffi/TsHLKXg59b98aKwPjfXxv1gfGutDY+2/uG3btm3b5r8QvJyCl1Pgv+AUvJyCl9O/gMb60Fgfur+AxvrQWB+6P+AUvJyCl9M/GLycgpdT4D+4bdu2bdvmP1gfGutDY+0/gGisD4318T9QwcspeDn1PyAa60Njffg/8HIKXk7B+z/Ayyl4OQX/P0qSJEmSJAFAsj401ofGAkAa60NjfWgEQISXU/ByCgZA7ENjfWisB0BU8HIKXk4JQLycgpdT8ApAJEmSJEmSDECM9aGxPjQOQPihsT401g9AMKfg5RS8EEBkfWisD40RQJhT8HIKXhJAzCl4OQUvE0AAAAAAAAAUQA==\",\"dtype\":\"float64\",\"shape\":[50]},\"y\":{\"__ndarray__\":\"M43t90HA+T/yuar6kBX5P85r0IhzY/g/p7Cyxzyp9z8gMaYmJ+b2PzL0mGxPGfY//2f+d65B9T8PwKhBEV70PydKNIUObfM/OS+rLPls8j/C1CQzzlvxP6ThjwscN/A/1+XHFsH37T/KgFgusUzrP81r0IhzY+g/un0kT5Ev5T/wrvs+aKDhPw2jjTgkPts/msSvx5MV0j+vcXSoQJK9P2gW0vHmzLW/jDQT2cKI1b+ZNBPZwojlv3Ukyum48PK/wJM7slFCAsDAkzuyUUICwHUkyum48PK/ijQT2cKI5b+MNBPZwojVv2gW0vHmzLW/6HF0qECSvT+gxK/HkxXSPw2jjTgkPts/8K77Pmig4T+6fSRPkS/lP89r0IhzY+g/yoBYLrFM6z/X5ccWwfftP6bhjwscN/A/w9QkM85b8T85L6ss+WzyPydKNIUObfM/D8CoQRFe9D//Z/53rkH1PzP0mGxPGfY/ITGmJifm9j+osLLHPKn3P85r0IhzY/g/8rmq+pAV+T8zje33QcD5Pw==\",\"dtype\":\"float64\",\"shape\":[50]}},\"selected\":{\"id\":\"1437\",\"type\":\"Selection\"},\"selection_policy\":{\"id\":\"1438\",\"type\":\"UnionRenderers\"}},\"id\":\"1339\",\"type\":\"ColumnDataSource\"},{\"attributes\":{\"data_source\":{\"id\":\"1300\",\"type\":\"ColumnDataSource\"},\"glyph\":{\"id\":\"1301\",\"type\":\"Line\"},\"hover_glyph\":null,\"muted_glyph\":null,\"nonselection_glyph\":{\"id\":\"1302\",\"type\":\"Line\"},\"selection_glyph\":null,\"view\":{\"id\":\"1304\",\"type\":\"CDSView\"}},\"id\":\"1303\",\"type\":\"GlyphRenderer\"},{\"attributes\":{},\"id\":\"1290\",\"type\":\"SaveTool\"},{\"attributes\":{},\"id\":\"1291\",\"type\":\"ResetTool\"},{\"attributes\":{},\"id\":\"1314\",\"type\":\"LinearScale\"},{\"attributes\":{\"formatter\":{\"id\":\"1432\",\"type\":\"BasicTickFormatter\"},\"ticker\":{\"id\":\"1322\",\"type\":\"BasicTicker\"}},\"id\":\"1321\",\"type\":\"LinearAxis\"},{\"attributes\":{\"below\":[{\"id\":\"1355\",\"type\":\"LinearAxis\"}],\"center\":[{\"id\":\"1359\",\"type\":\"Grid\"},{\"id\":\"1364\",\"type\":\"Grid\"}],\"left\":[{\"id\":\"1360\",\"type\":\"LinearAxis\"}],\"plot_height\":200,\"plot_width\":200,\"renderers\":[{\"id\":\"1381\",\"type\":\"GlyphRenderer\"}],\"title\":{\"id\":\"1345\",\"type\":\"Title\"},\"toolbar\":{\"id\":\"1371\",\"type\":\"Toolbar\"},\"toolbar_location\":null,\"x_range\":{\"id\":\"1347\",\"type\":\"DataRange1d\"},\"x_scale\":{\"id\":\"1351\",\"type\":\"LinearScale\"},\"y_range\":{\"id\":\"1349\",\"type\":\"DataRange1d\"},\"y_scale\":{\"id\":\"1353\",\"type\":\"LinearScale\"}},\"id\":\"1344\",\"subtype\":\"Figure\",\"type\":\"Plot\"},{\"attributes\":{\"text\":\"y = log(|x|)\"},\"id\":\"1306\",\"type\":\"Title\"},{\"attributes\":{\"callback\":null},\"id\":\"1308\",\"type\":\"DataRange1d\"},{\"attributes\":{},\"id\":\"1432\",\"type\":\"BasicTickFormatter\"},{\"attributes\":{\"callback\":null},\"id\":\"1310\",\"type\":\"DataRange1d\"},{\"attributes\":{},\"id\":\"1312\",\"type\":\"LinearScale\"},{\"attributes\":{\"formatter\":{\"id\":\"1434\",\"type\":\"BasicTickFormatter\"},\"ticker\":{\"id\":\"1317\",\"type\":\"BasicTicker\"}},\"id\":\"1316\",\"type\":\"LinearAxis\"},{\"attributes\":{},\"id\":\"1317\",\"type\":\"BasicTicker\"},{\"attributes\":{\"ticker\":{\"id\":\"1317\",\"type\":\"BasicTicker\"}},\"id\":\"1320\",\"type\":\"Grid\"},{\"attributes\":{\"line_alpha\":0.1,\"line_color\":\"#1f77b4\",\"x\":{\"field\":\"x\"},\"y\":{\"field\":\"y\"}},\"id\":\"1341\",\"type\":\"Line\"},{\"attributes\":{\"line_alpha\":0.1,\"line_color\":\"#1f77b4\",\"x\":{\"field\":\"x\"},\"y\":{\"field\":\"y\"}},\"id\":\"1419\",\"type\":\"Line\"},{\"attributes\":{\"text\":\"y = cos(x)\"},\"id\":\"1384\",\"type\":\"Title\"},{\"attributes\":{\"line_color\":\"dodgerblue\",\"x\":{\"field\":\"x\"},\"y\":{\"field\":\"y\"}},\"id\":\"1340\",\"type\":\"Line\"},{\"attributes\":{\"data_source\":{\"id\":\"1339\",\"type\":\"ColumnDataSource\"},\"glyph\":{\"id\":\"1340\",\"type\":\"Line\"},\"hover_glyph\":null,\"muted_glyph\":null,\"nonselection_glyph\":{\"id\":\"1341\",\"type\":\"Line\"},\"selection_glyph\":null,\"view\":{\"id\":\"1343\",\"type\":\"CDSView\"}},\"id\":\"1342\",\"type\":\"GlyphRenderer\"},{\"attributes\":{\"callback\":null},\"id\":\"1386\",\"type\":\"DataRange1d\"},{\"attributes\":{},\"id\":\"1326\",\"type\":\"PanTool\"},{\"attributes\":{\"callback\":null},\"id\":\"1271\",\"type\":\"DataRange1d\"},{\"attributes\":{\"callback\":null},\"id\":\"1388\",\"type\":\"DataRange1d\"},{\"attributes\":{},\"id\":\"1327\",\"type\":\"WheelZoomTool\"},{\"attributes\":{\"below\":[{\"id\":\"1316\",\"type\":\"LinearAxis\"}],\"center\":[{\"id\":\"1320\",\"type\":\"Grid\"},{\"id\":\"1325\",\"type\":\"Grid\"}],\"left\":[{\"id\":\"1321\",\"type\":\"LinearAxis\"}],\"plot_height\":200,\"plot_width\":200,\"renderers\":[{\"id\":\"1342\",\"type\":\"GlyphRenderer\"}],\"title\":{\"id\":\"1306\",\"type\":\"Title\"},\"toolbar\":{\"id\":\"1332\",\"type\":\"Toolbar\"},\"toolbar_location\":null,\"x_range\":{\"id\":\"1308\",\"type\":\"DataRange1d\"},\"x_scale\":{\"id\":\"1312\",\"type\":\"LinearScale\"},\"y_range\":{\"id\":\"1310\",\"type\":\"DataRange1d\"},\"y_scale\":{\"id\":\"1314\",\"type\":\"LinearScale\"}},\"id\":\"1305\",\"subtype\":\"Figure\",\"type\":\"Plot\"},{\"attributes\":{},\"id\":\"1390\",\"type\":\"LinearScale\"},{\"attributes\":{\"overlay\":{\"id\":\"1436\",\"type\":\"BoxAnnotation\"}},\"id\":\"1328\",\"type\":\"BoxZoomTool\"},{\"attributes\":{},\"id\":\"1392\",\"type\":\"LinearScale\"},{\"attributes\":{},\"id\":\"1329\",\"type\":\"SaveTool\"},{\"attributes\":{},\"id\":\"1275\",\"type\":\"LinearScale\"},{\"attributes\":{\"callback\":null},\"id\":\"1269\",\"type\":\"DataRange1d\"},{\"attributes\":{\"formatter\":{\"id\":\"1452\",\"type\":\"BasicTickFormatter\"},\"ticker\":{\"id\":\"1395\",\"type\":\"BasicTicker\"}},\"id\":\"1394\",\"type\":\"LinearAxis\"},{\"attributes\":{},\"id\":\"1330\",\"type\":\"ResetTool\"},{\"attributes\":{},\"id\":\"1395\",\"type\":\"BasicTicker\"},{\"attributes\":{},\"id\":\"1331\",\"type\":\"HelpTool\"},{\"attributes\":{},\"id\":\"1273\",\"type\":\"LinearScale\"},{\"attributes\":{\"ticker\":{\"id\":\"1395\",\"type\":\"BasicTicker\"}},\"id\":\"1398\",\"type\":\"Grid\"},{\"attributes\":{\"text\":\"y = sqrt(x)\"},\"id\":\"1267\",\"type\":\"Title\"},{\"attributes\":{\"active_drag\":\"auto\",\"active_inspect\":\"auto\",\"active_multi\":null,\"active_scroll\":\"auto\",\"active_tap\":\"auto\",\"tools\":[{\"id\":\"1326\",\"type\":\"PanTool\"},{\"id\":\"1327\",\"type\":\"WheelZoomTool\"},{\"id\":\"1328\",\"type\":\"BoxZoomTool\"},{\"id\":\"1329\",\"type\":\"SaveTool\"},{\"id\":\"1330\",\"type\":\"ResetTool\"},{\"id\":\"1331\",\"type\":\"HelpTool\"}]},\"id\":\"1332\",\"type\":\"Toolbar\"},{\"attributes\":{\"formatter\":{\"id\":\"1450\",\"type\":\"BasicTickFormatter\"},\"ticker\":{\"id\":\"1400\",\"type\":\"BasicTicker\"}},\"id\":\"1399\",\"type\":\"LinearAxis\"},{\"attributes\":{\"source\":{\"id\":\"1339\",\"type\":\"ColumnDataSource\"}},\"id\":\"1343\",\"type\":\"CDSView\"},{\"attributes\":{},\"id\":\"1400\",\"type\":\"BasicTicker\"},{\"attributes\":{\"dimension\":1,\"ticker\":{\"id\":\"1400\",\"type\":\"BasicTicker\"}},\"id\":\"1403\",\"type\":\"Grid\"},{\"attributes\":{\"callback\":null,\"data\":{\"x\":{\"__ndarray__\":\"AAAAAAAAFMDMKXg5BS8TwJhT8HIKXhLAY31orA+NEcAvp+DlFLwQwPahsT401g/AjfWhsT40DsAkSZIkSZIMwLycgpdT8ArAVPByCl5OCcDrQ2N9aKwHwIKXU/ByCgbAGutDY31oBMCyPjTWh8YCwEmSJEmSJAHAwMspeDkF/7/wcgpeTsH7vyAa60Njffi/TsHLKXg59b98aKwPjfXxv1gfGutDY+2/uG3btm3b5r8QvJyCl1Pgv+AUvJyCl9O/gMb60Fgfur+AxvrQWB+6P+AUvJyCl9M/GLycgpdT4D+4bdu2bdvmP1gfGutDY+0/gGisD4318T9QwcspeDn1PyAa60Njffg/8HIKXk7B+z/Ayyl4OQX/P0qSJEmSJAFAsj401ofGAkAa60NjfWgEQISXU/ByCgZA7ENjfWisB0BU8HIKXk4JQLycgpdT8ApAJEmSJEmSDECM9aGxPjQOQPihsT401g9AMKfg5RS8EEBkfWisD40RQJhT8HIKXhJAzCl4OQUvE0AAAAAAAAAUQA==\",\"dtype\":\"float64\",\"shape\":[50]},\"y\":{\"__ndarray__\":\"dlMN4D+Zez+gZ1ilZ+yAP4TBY/lAwYQ/LRs0TSp0iT9vM5bqaTePP5GKd/VTJJM/pwnh8sB5lz+KWoL8WcqcP/Fs1D5+p6E/qwfx07KmpT8mPKpNjo2qP61PN19BSLA/fc4t7vD3sz/KG0OWRn24P9Kckf2gCL4/oyGbGalqwj/dcp4vDZbGP7Vf3BEZs8s/n57ITUH80D9xMGNHsdTUPwZxpTsBjNk/UOh0iqZU3z9WHCuGQTbjPxj0ZZW9j+c/Jx8y71Dl7D8RnowgB7jxP2y+1Ab6uvU/P5TSx2ym+j9ok0tKgVcAQB44YbCkCgRA6ZgpSTaUCEBL3SAIwiQOQAUis8XoexJAJjsMjzSrFkBcMTl5Cs0bQE1+js4pDCFAuOcbyjPoJEBmFP597qMpQL7/TIz+cS9A7EFh4T9IM0BDTZrPzqU3QFFsESNhAD1APgy3fp/IQUAf5bU3VM9FQB9ct4xiv0pABw64fc9mUEBeGrf2aR1UQGLVZXc7q1hA7xIQa/1AXkCPM3CZOI1iQA==\",\"dtype\":\"float64\",\"shape\":[50]}},\"selected\":{\"id\":\"1446\",\"type\":\"Selection\"},\"selection_policy\":{\"id\":\"1447\",\"type\":\"UnionRenderers\"}},\"id\":\"1378\",\"type\":\"ColumnDataSource\"},{\"attributes\":{\"line_alpha\":0.1,\"line_color\":\"#1f77b4\",\"x\":{\"field\":\"x\"},\"y\":{\"field\":\"y\"}},\"id\":\"1380\",\"type\":\"Line\"},{\"attributes\":{\"text\":\"y = exp(x)\"},\"id\":\"1345\",\"type\":\"Title\"},{\"attributes\":{\"line_color\":\"green\",\"x\":{\"field\":\"x\"},\"y\":{\"field\":\"y\"}},\"id\":\"1418\",\"type\":\"Line\"},{\"attributes\":{\"children\":[[{\"id\":\"1266\",\"subtype\":\"Figure\",\"type\":\"Plot\"},0,0],[{\"id\":\"1305\",\"subtype\":\"Figure\",\"type\":\"Plot\"},0,1],[{\"id\":\"1344\",\"subtype\":\"Figure\",\"type\":\"Plot\"},0,2],[{\"id\":\"1383\",\"subtype\":\"Figure\",\"type\":\"Plot\"},1,1]]},\"id\":\"1458\",\"type\":\"GridBox\"},{\"attributes\":{\"callback\":null},\"id\":\"1347\",\"type\":\"DataRange1d\"},{\"attributes\":{\"data_source\":{\"id\":\"1417\",\"type\":\"ColumnDataSource\"},\"glyph\":{\"id\":\"1418\",\"type\":\"Line\"},\"hover_glyph\":null,\"muted_glyph\":null,\"nonselection_glyph\":{\"id\":\"1419\",\"type\":\"Line\"},\"selection_glyph\":null,\"view\":{\"id\":\"1421\",\"type\":\"CDSView\"}},\"id\":\"1420\",\"type\":\"GlyphRenderer\"},{\"attributes\":{\"below\":[{\"id\":\"1277\",\"type\":\"LinearAxis\"}],\"center\":[{\"id\":\"1281\",\"type\":\"Grid\"},{\"id\":\"1286\",\"type\":\"Grid\"}],\"left\":[{\"id\":\"1282\",\"type\":\"LinearAxis\"}],\"plot_height\":200,\"plot_width\":200,\"renderers\":[{\"id\":\"1303\",\"type\":\"GlyphRenderer\"}],\"title\":{\"id\":\"1267\",\"type\":\"Title\"},\"toolbar\":{\"id\":\"1293\",\"type\":\"Toolbar\"},\"toolbar_location\":null,\"x_range\":{\"id\":\"1269\",\"type\":\"DataRange1d\"},\"x_scale\":{\"id\":\"1273\",\"type\":\"LinearScale\"},\"y_range\":{\"id\":\"1271\",\"type\":\"DataRange1d\"},\"y_scale\":{\"id\":\"1275\",\"type\":\"LinearScale\"}},\"id\":\"1266\",\"subtype\":\"Figure\",\"type\":\"Plot\"},{\"attributes\":{},\"id\":\"1404\",\"type\":\"PanTool\"},{\"attributes\":{\"callback\":null},\"id\":\"1349\",\"type\":\"DataRange1d\"},{\"attributes\":{},\"id\":\"1405\",\"type\":\"WheelZoomTool\"},{\"attributes\":{},\"id\":\"1351\",\"type\":\"LinearScale\"},{\"attributes\":{\"overlay\":{\"id\":\"1454\",\"type\":\"BoxAnnotation\"}},\"id\":\"1406\",\"type\":\"BoxZoomTool\"},{\"attributes\":{\"callback\":null,\"data\":{\"x\":{\"__ndarray__\":\"AAAAAAAAFMDMKXg5BS8TwJhT8HIKXhLAY31orA+NEcAvp+DlFLwQwPahsT401g/AjfWhsT40DsAkSZIkSZIMwLycgpdT8ArAVPByCl5OCcDrQ2N9aKwHwIKXU/ByCgbAGutDY31oBMCyPjTWh8YCwEmSJEmSJAHAwMspeDkF/7/wcgpeTsH7vyAa60Njffi/TsHLKXg59b98aKwPjfXxv1gfGutDY+2/uG3btm3b5r8QvJyCl1Pgv+AUvJyCl9O/gMb60Fgfur+AxvrQWB+6P+AUvJyCl9M/GLycgpdT4D+4bdu2bdvmP1gfGutDY+0/gGisD4318T9QwcspeDn1PyAa60Njffg/8HIKXk7B+z/Ayyl4OQX/P0qSJEmSJAFAsj401ofGAkAa60NjfWgEQISXU/ByCgZA7ENjfWisB0BU8HIKXk4JQLycgpdT8ApAJEmSJEmSDECM9aGxPjQOQPihsT401g9AMKfg5RS8EEBkfWisD40RQJhT8HIKXhJAzCl4OQUvE0AAAAAAAAAUQA==\",\"dtype\":\"float64\",\"shape\":[50]},\"y\":{\"__ndarray__\":\"AAAAAAAAOUD0uTCXNgA3QNIWaj3AFTVAmhas8pxAM0BPufa2zIAxQN/9kxSfrC9A9M5L2UqCLEDg5RS8nIIpQKNC77yUrSZAPuXa2zIDJECszdcYd4MhQOT3y+fCXB5AHuAK2uMHGkAGVGwIUQgWQJdT8HIKXhJArL0tMyASDkCH67/4wxIIQLswlzYAvgJAjBpn2akn/D9VAio2hCj0P64x7gYf/eo/F7ycgpdT4D+4R7++46jQP45It+lw/bc/KeuiCA9ThT8p66IID1OFP45It+lw/bc/yEe/vuOo0D8XvJyCl1PgP64x7gYf/eo/XgIqNoQo9D+RGmfZqSf8P7swlzYAvgJAh+u/+MMSCECsvS0zIBIOQJlT8HIKXhJABlRsCFEIFkAe4Ara4wcaQOn3y+fCXB5Ars3XGHeDIUA+5drbMgMkQKNC77yUrSZA4OUUvJyCKUDyzkvZSoIsQOP9kxSfrC9AUbn2tsyAMUCcFqzynEAzQNIWaj3AFTVA9LkwlzYAN0AAAAAAAAA5QA==\",\"dtype\":\"float64\",\"shape\":[50]}},\"selected\":{\"id\":\"1428\",\"type\":\"Selection\"},\"selection_policy\":{\"id\":\"1429\",\"type\":\"UnionRenderers\"}},\"id\":\"1300\",\"type\":\"ColumnDataSource\"},{\"attributes\":{},\"id\":\"1353\",\"type\":\"LinearScale\"},{\"attributes\":{},\"id\":\"1407\",\"type\":\"SaveTool\"},{\"attributes\":{\"formatter\":{\"id\":\"1443\",\"type\":\"BasicTickFormatter\"},\"ticker\":{\"id\":\"1356\",\"type\":\"BasicTicker\"}},\"id\":\"1355\",\"type\":\"LinearAxis\"},{\"attributes\":{},\"id\":\"1408\",\"type\":\"ResetTool\"},{\"attributes\":{},\"id\":\"1356\",\"type\":\"BasicTicker\"},{\"attributes\":{},\"id\":\"1409\",\"type\":\"HelpTool\"},{\"attributes\":{\"ticker\":{\"id\":\"1356\",\"type\":\"BasicTicker\"}},\"id\":\"1359\",\"type\":\"Grid\"},{\"attributes\":{\"active_drag\":\"auto\",\"active_inspect\":\"auto\",\"active_multi\":null,\"active_scroll\":\"auto\",\"active_tap\":\"auto\",\"tools\":[{\"id\":\"1404\",\"type\":\"PanTool\"},{\"id\":\"1405\",\"type\":\"WheelZoomTool\"},{\"id\":\"1406\",\"type\":\"BoxZoomTool\"},{\"id\":\"1407\",\"type\":\"SaveTool\"},{\"id\":\"1408\",\"type\":\"ResetTool\"},{\"id\":\"1409\",\"type\":\"HelpTool\"}]},\"id\":\"1410\",\"type\":\"Toolbar\"},{\"attributes\":{\"formatter\":{\"id\":\"1441\",\"type\":\"BasicTickFormatter\"},\"ticker\":{\"id\":\"1361\",\"type\":\"BasicTicker\"}},\"id\":\"1360\",\"type\":\"LinearAxis\"},{\"attributes\":{},\"id\":\"1361\",\"type\":\"BasicTicker\"},{\"attributes\":{\"source\":{\"id\":\"1417\",\"type\":\"ColumnDataSource\"}},\"id\":\"1421\",\"type\":\"CDSView\"},{\"attributes\":{\"dimension\":1,\"ticker\":{\"id\":\"1361\",\"type\":\"BasicTicker\"}},\"id\":\"1364\",\"type\":\"Grid\"},{\"attributes\":{},\"id\":\"1423\",\"type\":\"BasicTickFormatter\"},{\"attributes\":{\"line_color\":\"indigo\",\"x\":{\"field\":\"x\"},\"y\":{\"field\":\"y\"}},\"id\":\"1379\",\"type\":\"Line\"},{\"attributes\":{\"below\":[{\"id\":\"1394\",\"type\":\"LinearAxis\"}],\"center\":[{\"id\":\"1398\",\"type\":\"Grid\"},{\"id\":\"1403\",\"type\":\"Grid\"}],\"left\":[{\"id\":\"1399\",\"type\":\"LinearAxis\"}],\"plot_height\":100,\"plot_width\":200,\"renderers\":[{\"id\":\"1420\",\"type\":\"GlyphRenderer\"}],\"title\":{\"id\":\"1384\",\"type\":\"Title\"},\"toolbar\":{\"id\":\"1410\",\"type\":\"Toolbar\"},\"toolbar_location\":null,\"x_range\":{\"id\":\"1386\",\"type\":\"DataRange1d\"},\"x_scale\":{\"id\":\"1390\",\"type\":\"LinearScale\"},\"y_range\":{\"id\":\"1388\",\"type\":\"DataRange1d\"},\"y_scale\":{\"id\":\"1392\",\"type\":\"LinearScale\"}},\"id\":\"1383\",\"subtype\":\"Figure\",\"type\":\"Plot\"},{\"attributes\":{},\"id\":\"1425\",\"type\":\"BasicTickFormatter\"},{\"attributes\":{\"data_source\":{\"id\":\"1378\",\"type\":\"ColumnDataSource\"},\"glyph\":{\"id\":\"1379\",\"type\":\"Line\"},\"hover_glyph\":null,\"muted_glyph\":null,\"nonselection_glyph\":{\"id\":\"1380\",\"type\":\"Line\"},\"selection_glyph\":null,\"view\":{\"id\":\"1382\",\"type\":\"CDSView\"}},\"id\":\"1381\",\"type\":\"GlyphRenderer\"},{\"attributes\":{\"bottom_units\":\"screen\",\"fill_alpha\":{\"value\":0.5},\"fill_color\":{\"value\":\"lightgrey\"},\"left_units\":\"screen\",\"level\":\"overlay\",\"line_alpha\":{\"value\":1.0},\"line_color\":{\"value\":\"black\"},\"line_dash\":[4,4],\"line_width\":{\"value\":2},\"render_mode\":\"css\",\"right_units\":\"screen\",\"top_units\":\"screen\"},\"id\":\"1427\",\"type\":\"BoxAnnotation\"},{\"attributes\":{},\"id\":\"1365\",\"type\":\"PanTool\"},{\"attributes\":{},\"id\":\"1366\",\"type\":\"WheelZoomTool\"},{\"attributes\":{},\"id\":\"1429\",\"type\":\"UnionRenderers\"},{\"attributes\":{\"overlay\":{\"id\":\"1445\",\"type\":\"BoxAnnotation\"}},\"id\":\"1367\",\"type\":\"BoxZoomTool\"},{\"attributes\":{},\"id\":\"1434\",\"type\":\"BasicTickFormatter\"},{\"attributes\":{},\"id\":\"1368\",\"type\":\"SaveTool\"},{\"attributes\":{\"bottom_units\":\"screen\",\"fill_alpha\":{\"value\":0.5},\"fill_color\":{\"value\":\"lightgrey\"},\"left_units\":\"screen\",\"level\":\"overlay\",\"line_alpha\":{\"value\":1.0},\"line_color\":{\"value\":\"black\"},\"line_dash\":[4,4],\"line_width\":{\"value\":2},\"render_mode\":\"css\",\"right_units\":\"screen\",\"top_units\":\"screen\"},\"id\":\"1436\",\"type\":\"BoxAnnotation\"},{\"attributes\":{},\"id\":\"1369\",\"type\":\"ResetTool\"},{\"attributes\":{},\"id\":\"1437\",\"type\":\"Selection\"},{\"attributes\":{},\"id\":\"1370\",\"type\":\"HelpTool\"},{\"attributes\":{},\"id\":\"1438\",\"type\":\"UnionRenderers\"},{\"attributes\":{\"active_drag\":\"auto\",\"active_inspect\":\"auto\",\"active_multi\":null,\"active_scroll\":\"auto\",\"active_tap\":\"auto\",\"tools\":[{\"id\":\"1365\",\"type\":\"PanTool\"},{\"id\":\"1366\",\"type\":\"WheelZoomTool\"},{\"id\":\"1367\",\"type\":\"BoxZoomTool\"},{\"id\":\"1368\",\"type\":\"SaveTool\"},{\"id\":\"1369\",\"type\":\"ResetTool\"},{\"id\":\"1370\",\"type\":\"HelpTool\"}]},\"id\":\"1371\",\"type\":\"Toolbar\"},{\"attributes\":{},\"id\":\"1428\",\"type\":\"Selection\"},{\"attributes\":{},\"id\":\"1441\",\"type\":\"BasicTickFormatter\"},{\"attributes\":{\"source\":{\"id\":\"1378\",\"type\":\"ColumnDataSource\"}},\"id\":\"1382\",\"type\":\"CDSView\"},{\"attributes\":{},\"id\":\"1443\",\"type\":\"BasicTickFormatter\"},{\"attributes\":{\"bottom_units\":\"screen\",\"fill_alpha\":{\"value\":0.5},\"fill_color\":{\"value\":\"lightgrey\"},\"left_units\":\"screen\",\"level\":\"overlay\",\"line_alpha\":{\"value\":1.0},\"line_color\":{\"value\":\"black\"},\"line_dash\":[4,4],\"line_width\":{\"value\":2},\"render_mode\":\"css\",\"right_units\":\"screen\",\"top_units\":\"screen\"},\"id\":\"1445\",\"type\":\"BoxAnnotation\"},{\"attributes\":{\"callback\":null,\"data\":{\"x\":{\"__ndarray__\":\"AAAAAAAAFMDMKXg5BS8TwJhT8HIKXhLAY31orA+NEcAvp+DlFLwQwPahsT401g/AjfWhsT40DsAkSZIkSZIMwLycgpdT8ArAVPByCl5OCcDrQ2N9aKwHwIKXU/ByCgbAGutDY31oBMCyPjTWh8YCwEmSJEmSJAHAwMspeDkF/7/wcgpeTsH7vyAa60Njffi/TsHLKXg59b98aKwPjfXxv1gfGutDY+2/uG3btm3b5r8QvJyCl1Pgv+AUvJyCl9O/gMb60Fgfur+AxvrQWB+6P+AUvJyCl9M/GLycgpdT4D+4bdu2bdvmP1gfGutDY+0/gGisD4318T9QwcspeDn1PyAa60Njffg/8HIKXk7B+z/Ayyl4OQX/P0qSJEmSJAFAsj401ofGAkAa60NjfWgEQISXU/ByCgZA7ENjfWisB0BU8HIKXk4JQLycgpdT8ApAJEmSJEmSDECM9aGxPjQOQPihsT401g9AMKfg5RS8EEBkfWisD40RQJhT8HIKXhJAzCl4OQUvE0AAAAAAAAAUQA==\",\"dtype\":\"float64\",\"shape\":[50]},\"y\":{\"__ndarray__\":\"2kprcIUn0j8YbeCD0Vu1P7Uv3cRjyb6/tN+Xyt5p1L8chVIuPyTgvx52QbsMaOW/5FM7R2fI6b/m3fnCzhbtv0C6pOghMO+/qWHDfxP+77/hmj5TF3jvvy9hqwO9o+2/o5fe8HSU6r9H2puuwWrmvwvo9ZbeUuG/K2dKodMF17/cnMYrleLEv1Bn1TGXkaQ/LQdbsL30zj91N1GJFb7bPzQBFFaDbeM/TnBG/Y4t6D/JF6DqtOzrP+1ZDOklg+4/rChUWmPV7z+sKFRaY9XvP+1ZDOklg+4/xReg6rTs6z9OcEb9ji3oPzQBFFaDbeM/ZjdRiRW+2z8dB1uwvfTOP1Bn1TGXkaQ/3JzGK5XixL8rZ0qh0wXXvw7o9ZbeUuG/R9qbrsFq5r+jl97wdJTqvzJhqwO9o+2/4po+Uxd477+pYcN/E/7vv0C6pOghMO+/5t35ws4W7b/nUztHZ8jpvxh2QbsMaOW/FYVSLj8k4L+k35fK3mnUv7Uv3cRjyb6/GG3gg9FbtT/aSmtwhSfSPw==\",\"dtype\":\"float64\",\"shape\":[50]}},\"selected\":{\"id\":\"1455\",\"type\":\"Selection\"},\"selection_policy\":{\"id\":\"1456\",\"type\":\"UnionRenderers\"}},\"id\":\"1417\",\"type\":\"ColumnDataSource\"}],\"root_ids\":[\"1461\"]},\"title\":\"Bokeh Application\",\"version\":\"1.3.4\"}};\n",
       "  var render_items = [{\"docid\":\"ec3212b0-fe4a-4218-8ddd-806b3755cfd5\",\"roots\":{\"1461\":\"e939e833-930f-4b4c-adef-c0daf115eb4f\"}}];\n",
       "  root.Bokeh.embed.embed_items_notebook(docs_json, render_items);\n",
       "\n",
       "  }\n",
       "  if (root.Bokeh !== undefined) {\n",
       "    embed_document(root);\n",
       "  } else {\n",
       "    var attempts = 0;\n",
       "    var timer = setInterval(function(root) {\n",
       "      if (root.Bokeh !== undefined) {\n",
       "        embed_document(root);\n",
       "        clearInterval(timer);\n",
       "      }\n",
       "      attempts++;\n",
       "      if (attempts > 100) {\n",
       "        console.log(\"Bokeh: ERROR: Unable to run BokehJS code because BokehJS library is missing\");\n",
       "        clearInterval(timer);\n",
       "      }\n",
       "    }, 10, root)\n",
       "  }\n",
       "})(window);"
      ],
      "application/vnd.bokehjs_exec.v0+json": ""
     },
     "metadata": {
      "application/vnd.bokehjs_exec.v0+json": {
       "id": "1461"
      }
     },
     "output_type": "display_data"
    }
   ],
   "source": [
    "#create plot 1\n",
    "p1 = figure(plot_width=200, plot_height=200, title=\"y = sqrt(x)\")\n",
    "p1.line(x, y_square, line_color = \"coral\")\n",
    "\n",
    "# create plot2\n",
    "p2 = figure(plot_width=200, plot_height=200, title=\"y = log(|x|)\")\n",
    "p2.line(x, y_log, line_color = \"dodgerblue\")\n",
    "\n",
    "# create plot3\n",
    "p3 = figure(plot_width=200, plot_height=200, title=\"y = exp(x)\")\n",
    "p3.line(x, y_exp, line_color = \"indigo\")\n",
    "\n",
    "# create plot4\n",
    "p4 = figure(plot_width=200, plot_height=100, title=\"y = cos(x)\")\n",
    "p4.line(x, y_cos, line_color = \"green\")\n",
    "\n",
    "grid = gridplot([[p1, p2, p3], [None, p4, None]]) # plot with four plots with placeholders at the second row\n",
    "show(grid)"
   ]
  },
  {
   "cell_type": "markdown",
   "metadata": {},
   "source": [
    "## 3. Transforming Data"
   ]
  },
  {
   "cell_type": "markdown",
   "metadata": {},
   "source": [
    "In previous examples, we simply pass lists of values into plotting functions. When you pass in data like this, Bokeh works behind the scenes to make a `ColumnDataSource` for you. But learning to create and use the ColumnDataSource will enable you access more advanced capabilities, such as sharing data between plots, and filtering data.\n",
    "\n",
    "The primary functionality of ColumnDataSource is to map names to the columns of your data. This makes it easier for you to reference elements of your data when building your visualization. \n",
    "\n",
    "The ColumnDataSource takes a data parameter which is a **dict**, with **string column names as keys** and **lists (or arrays) of data values as values**. Once you initialize a ColumnDataSource object, you can pass a column’s name as a stand in for the data values when ploting."
   ]
  },
  {
   "cell_type": "code",
   "execution_count": 7,
   "metadata": {},
   "outputs": [
    {
     "data": {
      "text/html": [
       "\n",
       "\n",
       "\n",
       "\n",
       "\n",
       "\n",
       "  <div class=\"bk-root\" id=\"c64bb975-313f-44dc-a0b2-679a476ae7a5\" data-root-id=\"1705\"></div>\n"
      ]
     },
     "metadata": {},
     "output_type": "display_data"
    },
    {
     "data": {
      "application/javascript": [
       "(function(root) {\n",
       "  function embed_document(root) {\n",
       "    \n",
       "  var docs_json = {\"64c6f3d0-7b5f-49cd-9573-56beb7b5389c\":{\"roots\":{\"references\":[{\"attributes\":{\"below\":[{\"id\":\"1714\",\"type\":\"LinearAxis\"}],\"center\":[{\"id\":\"1718\",\"type\":\"Grid\"},{\"id\":\"1723\",\"type\":\"Grid\"}],\"left\":[{\"id\":\"1719\",\"type\":\"LinearAxis\"}],\"plot_height\":200,\"plot_width\":300,\"renderers\":[{\"id\":\"1740\",\"type\":\"GlyphRenderer\"}],\"title\":{\"id\":\"1793\",\"type\":\"Title\"},\"toolbar\":{\"id\":\"1730\",\"type\":\"Toolbar\"},\"x_range\":{\"id\":\"1706\",\"type\":\"DataRange1d\"},\"x_scale\":{\"id\":\"1710\",\"type\":\"LinearScale\"},\"y_range\":{\"id\":\"1708\",\"type\":\"DataRange1d\"},\"y_scale\":{\"id\":\"1712\",\"type\":\"LinearScale\"}},\"id\":\"1705\",\"subtype\":\"Figure\",\"type\":\"Plot\"},{\"attributes\":{\"formatter\":{\"id\":\"1796\",\"type\":\"BasicTickFormatter\"},\"ticker\":{\"id\":\"1715\",\"type\":\"BasicTicker\"}},\"id\":\"1714\",\"type\":\"LinearAxis\"},{\"attributes\":{},\"id\":\"1796\",\"type\":\"BasicTickFormatter\"},{\"attributes\":{},\"id\":\"1800\",\"type\":\"UnionRenderers\"},{\"attributes\":{\"source\":{\"id\":\"1704\",\"type\":\"ColumnDataSource\"}},\"id\":\"1741\",\"type\":\"CDSView\"},{\"attributes\":{\"data_source\":{\"id\":\"1704\",\"type\":\"ColumnDataSource\"},\"glyph\":{\"id\":\"1738\",\"type\":\"Square\"},\"hover_glyph\":null,\"muted_glyph\":null,\"nonselection_glyph\":{\"id\":\"1739\",\"type\":\"Square\"},\"selection_glyph\":null,\"view\":{\"id\":\"1741\",\"type\":\"CDSView\"}},\"id\":\"1740\",\"type\":\"GlyphRenderer\"},{\"attributes\":{},\"id\":\"1794\",\"type\":\"BasicTickFormatter\"},{\"attributes\":{\"ticker\":{\"id\":\"1715\",\"type\":\"BasicTicker\"}},\"id\":\"1718\",\"type\":\"Grid\"},{\"attributes\":{},\"id\":\"1799\",\"type\":\"Selection\"},{\"attributes\":{\"callback\":null,\"data\":{\"size\":[8.488965790657893,13.770403376096013,13.114702723050481,14.475805826500961,7.100161680558337,15.400968935602581,1.9810490566226076,4.966204209574885,18.362501555518755,16.492615813465754,8.569977802642207,14.720904909599923,0.15105068783791964,3.987534539830423,6.382776233845385,4.215949635451065,8.845506076194276,13.900061175687028,10.009483686474777,6.2933430527966285],\"x_values\":[0,1,2,3,4,5,6,7,8,9,10,11,12,13,14,15,16,17,18,19],\"y_values\":[33.183590290977506,14.213084419063854,19.512624600611154,4.282697636093783,25.176233554213244,3.6081334067046402,-8.993227668752478,11.779009779431078,-1.647771376268775,7.223705809889536,15.462959450987917,10.85524845515546,1.8408269049898873,-6.398645150514216,1.9274965331614862,16.76442529918747,14.432241444234045,11.30388953828572,8.359989886899502,1.0181749908599276]},\"selected\":{\"id\":\"1799\",\"type\":\"Selection\"},\"selection_policy\":{\"id\":\"1800\",\"type\":\"UnionRenderers\"}},\"id\":\"1704\",\"type\":\"ColumnDataSource\"},{\"attributes\":{\"formatter\":{\"id\":\"1794\",\"type\":\"BasicTickFormatter\"},\"ticker\":{\"id\":\"1720\",\"type\":\"BasicTicker\"}},\"id\":\"1719\",\"type\":\"LinearAxis\"},{\"attributes\":{\"active_drag\":\"auto\",\"active_inspect\":\"auto\",\"active_multi\":null,\"active_scroll\":\"auto\",\"active_tap\":\"auto\",\"tools\":[{\"id\":\"1724\",\"type\":\"PanTool\"},{\"id\":\"1725\",\"type\":\"WheelZoomTool\"},{\"id\":\"1726\",\"type\":\"BoxZoomTool\"},{\"id\":\"1727\",\"type\":\"SaveTool\"},{\"id\":\"1728\",\"type\":\"ResetTool\"},{\"id\":\"1729\",\"type\":\"HelpTool\"}]},\"id\":\"1730\",\"type\":\"Toolbar\"},{\"attributes\":{\"fill_alpha\":{\"value\":0.1},\"fill_color\":{\"value\":\"#1f77b4\"},\"line_alpha\":{\"value\":0.1},\"line_color\":{\"value\":\"#1f77b4\"},\"size\":{\"field\":\"size\",\"units\":\"screen\"},\"x\":{\"field\":\"x_values\"},\"y\":{\"field\":\"y_values\"}},\"id\":\"1739\",\"type\":\"Square\"},{\"attributes\":{\"dimension\":1,\"ticker\":{\"id\":\"1720\",\"type\":\"BasicTicker\"}},\"id\":\"1723\",\"type\":\"Grid\"},{\"attributes\":{\"text\":\"\"},\"id\":\"1793\",\"type\":\"Title\"},{\"attributes\":{},\"id\":\"1728\",\"type\":\"ResetTool\"},{\"attributes\":{},\"id\":\"1729\",\"type\":\"HelpTool\"},{\"attributes\":{\"bottom_units\":\"screen\",\"fill_alpha\":{\"value\":0.5},\"fill_color\":{\"value\":\"lightgrey\"},\"left_units\":\"screen\",\"level\":\"overlay\",\"line_alpha\":{\"value\":1.0},\"line_color\":{\"value\":\"black\"},\"line_dash\":[4,4],\"line_width\":{\"value\":2},\"render_mode\":\"css\",\"right_units\":\"screen\",\"top_units\":\"screen\"},\"id\":\"1798\",\"type\":\"BoxAnnotation\"},{\"attributes\":{},\"id\":\"1727\",\"type\":\"SaveTool\"},{\"attributes\":{},\"id\":\"1724\",\"type\":\"PanTool\"},{\"attributes\":{\"callback\":null},\"id\":\"1708\",\"type\":\"DataRange1d\"},{\"attributes\":{},\"id\":\"1725\",\"type\":\"WheelZoomTool\"},{\"attributes\":{\"callback\":null},\"id\":\"1706\",\"type\":\"DataRange1d\"},{\"attributes\":{\"overlay\":{\"id\":\"1798\",\"type\":\"BoxAnnotation\"}},\"id\":\"1726\",\"type\":\"BoxZoomTool\"},{\"attributes\":{},\"id\":\"1710\",\"type\":\"LinearScale\"},{\"attributes\":{},\"id\":\"1712\",\"type\":\"LinearScale\"},{\"attributes\":{\"fill_alpha\":{\"value\":0.7},\"fill_color\":{\"value\":\"lightseagreen\"},\"line_alpha\":{\"value\":0.7},\"line_color\":{\"value\":\"lightseagreen\"},\"size\":{\"field\":\"size\",\"units\":\"screen\"},\"x\":{\"field\":\"x_values\"},\"y\":{\"field\":\"y_values\"}},\"id\":\"1738\",\"type\":\"Square\"},{\"attributes\":{},\"id\":\"1720\",\"type\":\"BasicTicker\"},{\"attributes\":{},\"id\":\"1715\",\"type\":\"BasicTicker\"}],\"root_ids\":[\"1705\"]},\"title\":\"Bokeh Application\",\"version\":\"1.3.4\"}};\n",
       "  var render_items = [{\"docid\":\"64c6f3d0-7b5f-49cd-9573-56beb7b5389c\",\"roots\":{\"1705\":\"c64bb975-313f-44dc-a0b2-679a476ae7a5\"}}];\n",
       "  root.Bokeh.embed.embed_items_notebook(docs_json, render_items);\n",
       "\n",
       "  }\n",
       "  if (root.Bokeh !== undefined) {\n",
       "    embed_document(root);\n",
       "  } else {\n",
       "    var attempts = 0;\n",
       "    var timer = setInterval(function(root) {\n",
       "      if (root.Bokeh !== undefined) {\n",
       "        embed_document(root);\n",
       "        clearInterval(timer);\n",
       "      }\n",
       "      attempts++;\n",
       "      if (attempts > 100) {\n",
       "        console.log(\"Bokeh: ERROR: Unable to run BokehJS code because BokehJS library is missing\");\n",
       "        clearInterval(timer);\n",
       "      }\n",
       "    }, 10, root)\n",
       "  }\n",
       "})(window);"
      ],
      "application/vnd.bokehjs_exec.v0+json": ""
     },
     "metadata": {
      "application/vnd.bokehjs_exec.v0+json": {
       "id": "1705"
      }
     },
     "output_type": "display_data"
    }
   ],
   "source": [
    "data = {'x_values': [i for i in range(20)],\n",
    "        'y_values': np.random.normal(10, 10, size = 20).tolist(),\n",
    "        'size': np.random.normal(10, 5, size = 20).tolist()}\n",
    "\n",
    "source = ColumnDataSource(data=data)# create ColumnDataSource object\n",
    "\n",
    "fig = figure(plot_width=300, plot_height=200)\n",
    "fig.square(x='x_values', y='y_values', size = 'size',source=source,\n",
    "         color=\"lightseagreen\", alpha= 0.7) # use columns names to pass the data\n",
    "show(fig)"
   ]
  },
  {
   "cell_type": "markdown",
   "metadata": {},
   "source": [
    "Aside from quick reference, using ColumnDataSource allows explicitly **transform data themselves to generate useful columns for ploting**. For example, we can create a column of colors to control how the Markers in a scatter plot should be shaded. By doing so, we can reduce both code (i.e. not having to color map data by hand) as well as the amount of data that has to be sent into the browser (only the raw data is sent).\n",
    "\n",
    "Let's create a toy dataset for three popular courses at CMU and corresponding registration student numbers and average scores."
   ]
  },
  {
   "cell_type": "code",
   "execution_count": 8,
   "metadata": {},
   "outputs": [],
   "source": [
    "# generate data\n",
    "average_score = np.random.normal(90, 10, size = 20).tolist()+ np.random.normal(60, 3, size = 20).tolist()+\\\n",
    "              np.random.normal(80, 2, size = 20).tolist()\n",
    "\n",
    "courses = ['Practical DS'] * 20 + ['Intro to ML'] * 20 + ['Deep Learning'] * 20\n",
    "\n",
    "students = np.random.randint(150, size = 20).tolist()+ np.random.randint(200, size = 20).tolist()+\\\n",
    "           np.random.randint(100, size = 20).tolist()\n",
    "\n",
    "source = ColumnDataSource(dict(average_score=average_score, courses = courses, students = students))"
   ]
  },
  {
   "cell_type": "markdown",
   "metadata": {},
   "source": [
    "Now let's create a scatter plot for this dataset. Here, I want to use different color and marker shapes to mark different courses. You can see that we use ColumnDataSource object quickly generate markers and colormap in the line 7 & 8."
   ]
  },
  {
   "cell_type": "code",
   "execution_count": 9,
   "metadata": {},
   "outputs": [
    {
     "data": {
      "text/html": [
       "\n",
       "\n",
       "\n",
       "\n",
       "\n",
       "\n",
       "  <div class=\"bk-root\" id=\"5bf12f0a-eb34-4e7d-8823-e932cf693b64\" data-root-id=\"1856\"></div>\n"
      ]
     },
     "metadata": {},
     "output_type": "display_data"
    },
    {
     "data": {
      "application/javascript": [
       "(function(root) {\n",
       "  function embed_document(root) {\n",
       "    \n",
       "  var docs_json = {\"862cd929-2e12-4a55-b596-83211c008a69\":{\"roots\":{\"references\":[{\"attributes\":{\"below\":[{\"id\":\"1865\",\"type\":\"LinearAxis\"}],\"center\":[{\"id\":\"1869\",\"type\":\"Grid\"},{\"id\":\"1874\",\"type\":\"Grid\"},{\"id\":\"1902\",\"type\":\"Legend\"}],\"left\":[{\"id\":\"1870\",\"type\":\"LinearAxis\"}],\"plot_height\":300,\"plot_width\":500,\"renderers\":[{\"id\":\"1893\",\"type\":\"GlyphRenderer\"}],\"title\":{\"id\":\"1896\",\"type\":\"Title\"},\"toolbar\":{\"id\":\"1881\",\"type\":\"Toolbar\"},\"toolbar_location\":null,\"x_range\":{\"id\":\"1857\",\"type\":\"DataRange1d\"},\"x_scale\":{\"id\":\"1861\",\"type\":\"LinearScale\"},\"y_range\":{\"id\":\"1859\",\"type\":\"DataRange1d\"},\"y_scale\":{\"id\":\"1863\",\"type\":\"LinearScale\"}},\"id\":\"1856\",\"subtype\":\"Figure\",\"type\":\"Plot\"},{\"attributes\":{\"label\":{\"field\":\"courses\"},\"renderers\":[{\"id\":\"1893\",\"type\":\"GlyphRenderer\"}]},\"id\":\"1903\",\"type\":\"LegendItem\"},{\"attributes\":{\"dimension\":1,\"ticker\":{\"id\":\"1871\",\"type\":\"BasicTicker\"}},\"id\":\"1874\",\"type\":\"Grid\"},{\"attributes\":{\"fill_alpha\":{\"value\":0.4},\"fill_color\":{\"field\":\"courses\",\"transform\":{\"id\":\"1889\",\"type\":\"CategoricalColorMapper\"}},\"line_color\":{\"field\":\"courses\",\"transform\":{\"id\":\"1889\",\"type\":\"CategoricalColorMapper\"}},\"marker\":{\"field\":\"courses\",\"transform\":{\"id\":\"1888\",\"type\":\"CategoricalMarkerMapper\"}},\"size\":{\"units\":\"screen\",\"value\":12},\"x\":{\"field\":\"average_score\"},\"y\":{\"field\":\"students\"}},\"id\":\"1891\",\"type\":\"Scatter\"},{\"attributes\":{},\"id\":\"1899\",\"type\":\"BasicTickFormatter\"},{\"attributes\":{},\"id\":\"1971\",\"type\":\"UnionRenderers\"},{\"attributes\":{},\"id\":\"1875\",\"type\":\"PanTool\"},{\"attributes\":{},\"id\":\"1970\",\"type\":\"Selection\"},{\"attributes\":{},\"id\":\"1876\",\"type\":\"WheelZoomTool\"},{\"attributes\":{\"factors\":[\"Practical DS\",\"Intro to ML\",\"Deep Learning\"],\"markers\":[\"hex\",\"circle_x\",\"triangle\"]},\"id\":\"1888\",\"type\":\"CategoricalMarkerMapper\"},{\"attributes\":{\"overlay\":{\"id\":\"1901\",\"type\":\"BoxAnnotation\"}},\"id\":\"1877\",\"type\":\"BoxZoomTool\"},{\"attributes\":{},\"id\":\"1878\",\"type\":\"SaveTool\"},{\"attributes\":{},\"id\":\"1879\",\"type\":\"ResetTool\"},{\"attributes\":{},\"id\":\"1880\",\"type\":\"HelpTool\"},{\"attributes\":{\"callback\":null},\"id\":\"1857\",\"type\":\"DataRange1d\"},{\"attributes\":{\"active_drag\":\"auto\",\"active_inspect\":\"auto\",\"active_multi\":null,\"active_scroll\":\"auto\",\"active_tap\":\"auto\",\"tools\":[{\"id\":\"1875\",\"type\":\"PanTool\"},{\"id\":\"1876\",\"type\":\"WheelZoomTool\"},{\"id\":\"1877\",\"type\":\"BoxZoomTool\"},{\"id\":\"1878\",\"type\":\"SaveTool\"},{\"id\":\"1879\",\"type\":\"ResetTool\"},{\"id\":\"1880\",\"type\":\"HelpTool\"}]},\"id\":\"1881\",\"type\":\"Toolbar\"},{\"attributes\":{\"callback\":null},\"id\":\"1859\",\"type\":\"DataRange1d\"},{\"attributes\":{},\"id\":\"1861\",\"type\":\"LinearScale\"},{\"attributes\":{\"fill_alpha\":{\"value\":0.1},\"fill_color\":{\"value\":\"#1f77b4\"},\"line_alpha\":{\"value\":0.1},\"line_color\":{\"value\":\"#1f77b4\"},\"marker\":{\"field\":\"courses\",\"transform\":{\"id\":\"1888\",\"type\":\"CategoricalMarkerMapper\"}},\"size\":{\"units\":\"screen\",\"value\":12},\"x\":{\"field\":\"average_score\"},\"y\":{\"field\":\"students\"}},\"id\":\"1892\",\"type\":\"Scatter\"},{\"attributes\":{},\"id\":\"1863\",\"type\":\"LinearScale\"},{\"attributes\":{\"data_source\":{\"id\":\"1855\",\"type\":\"ColumnDataSource\"},\"glyph\":{\"id\":\"1891\",\"type\":\"Scatter\"},\"hover_glyph\":null,\"muted_glyph\":null,\"nonselection_glyph\":{\"id\":\"1892\",\"type\":\"Scatter\"},\"selection_glyph\":null,\"view\":{\"id\":\"1894\",\"type\":\"CDSView\"}},\"id\":\"1893\",\"type\":\"GlyphRenderer\"},{\"attributes\":{\"callback\":null,\"data\":{\"average_score\":[109.94972788148684,81.21199276376137,93.5345777454546,57.25692802083779,94.17354669895057,86.19087370605232,93.79815499286721,85.21058840082507,114.56823932667028,82.75860472051869,82.38425768575124,74.55826819417379,95.75977132825656,94.80674145960167,97.09527433914238,86.24220665356842,83.36128455122073,91.81257465006264,98.70083146028517,84.00364617204734,58.97524309293499,56.40603038703912,57.87888438290304,55.35924985797031,56.074746718451,60.19351588562822,61.559431447708306,59.340016136326874,57.904052150433145,60.036923455184024,57.202603302471495,63.32347903209102,63.815622321531,62.56132393509599,56.98021813359381,60.400092982424354,61.35769536140743,57.06024705028987,60.94936502651903,58.70620663418826,82.48964997713054,82.14588228575491,83.20603882381002,79.16269961820885,81.05168905469243,82.63607282213194,77.89713990346101,76.8085482534034,82.2274276532275,80.87020113526124,79.76135310995757,79.95562526379051,78.79089917558876,77.65230457922424,80.95295579533317,81.61692654905355,83.91737241561289,81.68752955577185,79.29821990470498,78.11262162466844],\"courses\":[\"Practical DS\",\"Practical DS\",\"Practical DS\",\"Practical DS\",\"Practical DS\",\"Practical DS\",\"Practical DS\",\"Practical DS\",\"Practical DS\",\"Practical DS\",\"Practical DS\",\"Practical DS\",\"Practical DS\",\"Practical DS\",\"Practical DS\",\"Practical DS\",\"Practical DS\",\"Practical DS\",\"Practical DS\",\"Practical DS\",\"Intro to ML\",\"Intro to ML\",\"Intro to ML\",\"Intro to ML\",\"Intro to ML\",\"Intro to ML\",\"Intro to ML\",\"Intro to ML\",\"Intro to ML\",\"Intro to ML\",\"Intro to ML\",\"Intro to ML\",\"Intro to ML\",\"Intro to ML\",\"Intro to ML\",\"Intro to ML\",\"Intro to ML\",\"Intro to ML\",\"Intro to ML\",\"Intro to ML\",\"Deep Learning\",\"Deep Learning\",\"Deep Learning\",\"Deep Learning\",\"Deep Learning\",\"Deep Learning\",\"Deep Learning\",\"Deep Learning\",\"Deep Learning\",\"Deep Learning\",\"Deep Learning\",\"Deep Learning\",\"Deep Learning\",\"Deep Learning\",\"Deep Learning\",\"Deep Learning\",\"Deep Learning\",\"Deep Learning\",\"Deep Learning\",\"Deep Learning\"],\"students\":[117,60,113,69,90,53,43,92,96,77,51,103,56,12,63,7,72,111,33,48,116,90,121,41,69,65,13,46,14,42,33,53,178,41,159,125,128,132,97,109,89,80,2,30,6,53,33,56,24,8,53,49,44,50,20,30,15,48,57,69]},\"selected\":{\"id\":\"1970\",\"type\":\"Selection\"},\"selection_policy\":{\"id\":\"1971\",\"type\":\"UnionRenderers\"}},\"id\":\"1855\",\"type\":\"ColumnDataSource\"},{\"attributes\":{\"axis_label\":\"Average Score\",\"formatter\":{\"id\":\"1899\",\"type\":\"BasicTickFormatter\"},\"ticker\":{\"id\":\"1866\",\"type\":\"BasicTicker\"}},\"id\":\"1865\",\"type\":\"LinearAxis\"},{\"attributes\":{\"factors\":[\"Practical DS\",\"Intro to ML\",\"Deep Learning\"],\"palette\":[\"#1b9e77\",\"#d95f02\",\"#7570b3\",\"#e7298a\"]},\"id\":\"1889\",\"type\":\"CategoricalColorMapper\"},{\"attributes\":{\"text\":\"\"},\"id\":\"1896\",\"type\":\"Title\"},{\"attributes\":{\"source\":{\"id\":\"1855\",\"type\":\"ColumnDataSource\"}},\"id\":\"1894\",\"type\":\"CDSView\"},{\"attributes\":{},\"id\":\"1866\",\"type\":\"BasicTicker\"},{\"attributes\":{},\"id\":\"1897\",\"type\":\"BasicTickFormatter\"},{\"attributes\":{\"ticker\":{\"id\":\"1866\",\"type\":\"BasicTicker\"}},\"id\":\"1869\",\"type\":\"Grid\"},{\"attributes\":{\"bottom_units\":\"screen\",\"fill_alpha\":{\"value\":0.5},\"fill_color\":{\"value\":\"lightgrey\"},\"left_units\":\"screen\",\"level\":\"overlay\",\"line_alpha\":{\"value\":1.0},\"line_color\":{\"value\":\"black\"},\"line_dash\":[4,4],\"line_width\":{\"value\":2},\"render_mode\":\"css\",\"right_units\":\"screen\",\"top_units\":\"screen\"},\"id\":\"1901\",\"type\":\"BoxAnnotation\"},{\"attributes\":{\"axis_label\":\"Number of students enrolled\",\"formatter\":{\"id\":\"1897\",\"type\":\"BasicTickFormatter\"},\"ticker\":{\"id\":\"1871\",\"type\":\"BasicTicker\"}},\"id\":\"1870\",\"type\":\"LinearAxis\"},{\"attributes\":{\"background_fill_alpha\":{\"value\":0.7},\"items\":[{\"id\":\"1903\",\"type\":\"LegendItem\"}],\"title\":\"Courses\",\"title_text_font_style\":\"bold\"},\"id\":\"1902\",\"type\":\"Legend\"},{\"attributes\":{},\"id\":\"1871\",\"type\":\"BasicTicker\"}],\"root_ids\":[\"1856\"]},\"title\":\"Bokeh Application\",\"version\":\"1.3.4\"}};\n",
       "  var render_items = [{\"docid\":\"862cd929-2e12-4a55-b596-83211c008a69\",\"roots\":{\"1856\":\"5bf12f0a-eb34-4e7d-8823-e932cf693b64\"}}];\n",
       "  root.Bokeh.embed.embed_items_notebook(docs_json, render_items);\n",
       "\n",
       "  }\n",
       "  if (root.Bokeh !== undefined) {\n",
       "    embed_document(root);\n",
       "  } else {\n",
       "    var attempts = 0;\n",
       "    var timer = setInterval(function(root) {\n",
       "      if (root.Bokeh !== undefined) {\n",
       "        embed_document(root);\n",
       "        clearInterval(timer);\n",
       "      }\n",
       "      attempts++;\n",
       "      if (attempts > 100) {\n",
       "        console.log(\"Bokeh: ERROR: Unable to run BokehJS code because BokehJS library is missing\");\n",
       "        clearInterval(timer);\n",
       "      }\n",
       "    }, 10, root)\n",
       "  }\n",
       "})(window);"
      ],
      "application/vnd.bokehjs_exec.v0+json": ""
     },
     "metadata": {
      "application/vnd.bokehjs_exec.v0+json": {
       "id": "1856"
      }
     },
     "output_type": "display_data"
    }
   ],
   "source": [
    "COURSE = ['Practical DS', 'Intro to ML', 'Deep Learning'] \n",
    "MARKERS = ['hex', 'circle_x', 'triangle']\n",
    "\n",
    "fig = figure(plot_height=300, plot_width=500,toolbar_location=None)\n",
    "\n",
    "fig.scatter('average_score', 'students', source = source, legend = 'courses', fill_alpha=0.4, size=12,\n",
    "           marker=factor_mark('courses', MARKERS, COURSE), # use factor_mark() display different markers \n",
    "           color=factor_cmap('courses', all_palettes['Dark2'][4], COURSE)) # use factor_cmap() to colormap different categories\n",
    "fig.xaxis.axis_label = 'Average Score'\n",
    "fig.yaxis.axis_label = 'Number of students enrolled'\n",
    "\n",
    "fig.legend.title = 'Courses'\n",
    "fig.legend.title_text_font_style = \"bold\"\n",
    "fig.legend.background_fill_alpha = 0.7\n",
    "fig.legend.location = 'top_right'\n",
    "\n",
    "show(fig)"
   ]
  },
  {
   "cell_type": "markdown",
   "metadata": {},
   "source": [
    "[factor_cmap()](https://bokeh.pydata.org/en/latest/docs/reference/transform.html#bokeh.transform.factor_cmap) and [factor_mark()](https://bokeh.pydata.org/en/latest/docs/reference/transform.html#bokeh.transform.factor_mark) are used for categorical data. To handle continuous data, you can use [linear_cmap()](https://bokeh.pydata.org/en/latest/docs/reference/transform.html#bokeh.transform.linear_cmap) or [log_cmap()](https://bokeh.pydata.org/en/latest/docs/reference/transform.html#bokeh.transform.log_cmap) to perform color mapping.\n",
    "\n",
    "For more information about ColumnDataSource, please refer the user guide [Providing Data for Plots and Tables](https://bokeh.pydata.org/en/latest/docs/user_guide/data.html)"
   ]
  },
  {
   "cell_type": "markdown",
   "metadata": {},
   "source": [
    "## 4. Adding Interactions"
   ]
  },
  {
   "cell_type": "markdown",
   "metadata": {},
   "source": [
    "#### It's time to create interactions!\n",
    "\n",
    "Aside from the toolbar mentioned above, Bokeh provides addtional two methods to create interactive visualization. They are:\n",
    "- Add widgets to allow readers input values\n",
    "- Link multiple plots with filtered data"
   ]
  },
  {
   "cell_type": "markdown",
   "metadata": {},
   "source": [
    "### 4.1 Interactive Plots with Widgets"
   ]
  },
  {
   "cell_type": "markdown",
   "metadata": {},
   "source": [
    "Widgets are interactive controls that can be added to provide a front end user interface to a visualization. They can drive new computations, update plots, and connect to other programmatic functionality. \n",
    "\n",
    "To use widgets, you must add them to your document and define their functionality. Widgets can be added directly to the document root or nested inside a layout. Bekeh provides two ways to program a widget’s functionality:\n",
    "- Use the CustomJS callback (see [JavaScript Callbacks](#https://docs.bokeh.org/en/latest/docs/user_guide/interaction/callbacks.html#userguide-interaction-jscallbacks)). This will work in standalone HTML documents.\n",
    "- Use bokeh serve to start the Bokeh server and set up event handlers with .on_change.\n",
    "\n",
    "*Using the CustomJS callback will require JavaScript programming skill. Therefore, here we illustrate the interaction fucntion by using the second method.*\n",
    "\n",
    "To make you widgets be able to update values when when certain attributes on the widget are changed, you must define `event handlers` functions and attach them to widgets. These event handlers should be used as parameters in widgets **.on_change** method.\n",
    "\n",
    "Below is a simple example to show how to add widgets and define event handlers."
   ]
  },
  {
   "cell_type": "code",
   "execution_count": 10,
   "metadata": {
    "scrolled": false
   },
   "outputs": [
    {
     "data": {
      "application/vnd.bokehjs_exec.v0+json": "",
      "text/html": [
       "\n",
       "<script src=\"http://localhost:55776/autoload.js?bokeh-autoload-element=2026&bokeh-absolute-url=http://localhost:55776&resources=none\" id=\"2026\"></script>"
      ]
     },
     "metadata": {
      "application/vnd.bokehjs_exec.v0+json": {
       "server_id": "bf5876650ff54bcf8daea4a2084498fa"
      }
     },
     "output_type": "display_data"
    }
   ],
   "source": [
    "# helper function to generate data\n",
    "def get_data(N=200, choice='square'):\n",
    "    x = np.linspace(1,N,N)\n",
    "    if choice == 'square': y = x ** 2\n",
    "    elif choice == 'exp': y = np.exp(x)\n",
    "    elif choice == 'log': y = np.log(x)\n",
    "    elif choice == 'random': y = np.random.random(N)\n",
    "    \n",
    "    return dict(x = x, y = y)\n",
    "\n",
    "# formula choices\n",
    "CHOICE = [\"square\", \"exp\", \"log\", 'random']\n",
    "\n",
    "# main function to create interactive plots\n",
    "def modify_doc(doc):\n",
    "    source = ColumnDataSource(data=get_data(200))\n",
    "\n",
    "    p = figure(plot_height=200, plot_width=400, tools=\"\", toolbar_location=None)\n",
    "    r = p.line(x='x', y='y', source=source,color=\"darkgreen\", alpha=0.6, line_width = 3)\n",
    "\n",
    "    select = Select(title=\"Fomula\", value=\"square\", options=CHOICE)# create a select widget\n",
    "    input = TextInput(title=\"Maximum of X\", value=\"200\")# create a textinput widget\n",
    "    \n",
    "    # event handler for select widget\n",
    "    def update_choice(attrname, old, new):\n",
    "        choice = select.value\n",
    "        N = int(input.value)\n",
    "        source.data = get_data(N,choice = choice)\n",
    "    select.on_change('value', update_choice)# pass event handler to on_change method\n",
    "    \n",
    "    # event handler for textinput widget\n",
    "    def update_points(attrname, old, new):\n",
    "        N = int(input.value)\n",
    "        choice = select.value\n",
    "        source.data = get_data(N, choice = choice)\n",
    "    input.on_change('value', update_points)\n",
    "\n",
    "    layout = column(row(select, input, width=400), row(p))\n",
    "\n",
    "    doc.add_root(layout)\n",
    "\n",
    "show(modify_doc)"
   ]
  },
  {
   "cell_type": "markdown",
   "metadata": {},
   "source": [
    "In the above plot, you can visulize different formulas with different range of value by easily select/input values. \n",
    "\n",
    "Please note that all .on_change method should take an attribute name and one or more event handlers as parameters. These handlers are expected to have the function signature, **(attr, old, new)**, where attr refers to the changed attribute’s name, and old and new refer to the previous and updated values of the attribute. .on_change must be used when you need the previous value of an attribute.\n",
    "\n",
    "For more available, please refer the user guide [Adding Widgets](https://bokeh.pydata.org/en/latest/docs/user_guide/interaction/widgets.html)."
   ]
  },
  {
   "cell_type": "markdown",
   "metadata": {},
   "source": [
    "### 4.2 Linking Behavior"
   ]
  },
  {
   "cell_type": "markdown",
   "metadata": {},
   "source": [
    "As mentioned before, ColumnDataSource allows **shared data selection** between plots automatically, which is the key of interaction in Bokeh. To let Bokeh understand that selection acted on several plots, you can simply pass the same data source to differnt plots. \n",
    "\n",
    "The following code shows an example of linkage between circle plots on two different figure() calls. To see the connection, please use your mouse to **select some data points** in left/right plot and you will see the corresponding data points in another plot."
   ]
  },
  {
   "cell_type": "code",
   "execution_count": 11,
   "metadata": {},
   "outputs": [
    {
     "data": {
      "text/html": [
       "\n",
       "\n",
       "\n",
       "\n",
       "\n",
       "\n",
       "  <div class=\"bk-root\" id=\"fe373e77-e534-42fd-8050-b33bf414edcf\" data-root-id=\"2119\"></div>\n"
      ]
     },
     "metadata": {},
     "output_type": "display_data"
    },
    {
     "data": {
      "application/javascript": [
       "(function(root) {\n",
       "  function embed_document(root) {\n",
       "    \n",
       "  var docs_json = {\"c73eacba-0537-406a-be39-07a353eb1372\":{\"roots\":{\"references\":[{\"attributes\":{\"children\":[{\"id\":\"2118\",\"type\":\"ToolbarBox\"},{\"id\":\"2116\",\"type\":\"GridBox\"}]},\"id\":\"2119\",\"type\":\"Column\"},{\"attributes\":{\"formatter\":{\"id\":\"2099\",\"type\":\"BasicTickFormatter\"},\"ticker\":{\"id\":\"2039\",\"type\":\"BasicTicker\"}},\"id\":\"2038\",\"type\":\"LinearAxis\"},{\"attributes\":{},\"id\":\"2039\",\"type\":\"BasicTicker\"},{\"attributes\":{},\"id\":\"2070\",\"type\":\"LinearScale\"},{\"attributes\":{\"ticker\":{\"id\":\"2039\",\"type\":\"BasicTicker\"}},\"id\":\"2042\",\"type\":\"Grid\"},{\"attributes\":{},\"id\":\"2097\",\"type\":\"BasicTickFormatter\"},{\"attributes\":{\"formatter\":{\"id\":\"2109\",\"type\":\"BasicTickFormatter\"},\"ticker\":{\"id\":\"2073\",\"type\":\"BasicTicker\"}},\"id\":\"2072\",\"type\":\"LinearAxis\"},{\"attributes\":{\"below\":[{\"id\":\"2038\",\"type\":\"LinearAxis\"}],\"center\":[{\"id\":\"2042\",\"type\":\"Grid\"},{\"id\":\"2047\",\"type\":\"Grid\"}],\"left\":[{\"id\":\"2043\",\"type\":\"LinearAxis\"}],\"plot_height\":200,\"plot_width\":300,\"renderers\":[{\"id\":\"2060\",\"type\":\"GlyphRenderer\"}],\"title\":null,\"toolbar\":{\"id\":\"2052\",\"type\":\"Toolbar\"},\"toolbar_location\":null,\"x_range\":{\"id\":\"2030\",\"type\":\"DataRange1d\"},\"x_scale\":{\"id\":\"2034\",\"type\":\"LinearScale\"},\"y_range\":{\"id\":\"2032\",\"type\":\"DataRange1d\"},\"y_scale\":{\"id\":\"2036\",\"type\":\"LinearScale\"}},\"id\":\"2028\",\"subtype\":\"Figure\",\"type\":\"Plot\"},{\"attributes\":{\"formatter\":{\"id\":\"2097\",\"type\":\"BasicTickFormatter\"},\"ticker\":{\"id\":\"2044\",\"type\":\"BasicTicker\"}},\"id\":\"2043\",\"type\":\"LinearAxis\"},{\"attributes\":{},\"id\":\"2099\",\"type\":\"BasicTickFormatter\"},{\"attributes\":{},\"id\":\"2034\",\"type\":\"LinearScale\"},{\"attributes\":{\"fill_alpha\":{\"value\":0.5},\"fill_color\":{\"value\":\"lightgrey\"},\"level\":\"overlay\",\"line_alpha\":{\"value\":1.0},\"line_color\":{\"value\":\"black\"},\"line_dash\":[4,4],\"line_width\":{\"value\":2},\"xs_units\":\"screen\",\"ys_units\":\"screen\"},\"id\":\"2102\",\"type\":\"PolyAnnotation\"},{\"attributes\":{},\"id\":\"2044\",\"type\":\"BasicTicker\"},{\"attributes\":{\"callback\":null,\"data\":{\"x\":[-20,-19,-18,-17,-16,-15,-14,-13,-12,-11,-10,-9,-8,-7,-6,-5,-4,-3,-2,-1,0,1,2,3,4,5,6,7,8,9,10,11,12,13,14,15,16,17,18,19,20],\"y0\":[400,361,324,289,256,225,196,169,144,121,100,81,64,49,36,25,16,9,4,1,0,1,4,9,16,25,36,49,64,81,100,121,144,169,196,225,256,289,324,361,400],\"y1\":[-8000,-6859,-5832,-4913,-4096,-3375,-2744,-2197,-1728,-1331,-1000,-729,-512,-343,-216,-125,-64,-27,-8,-1,0,1,8,27,64,125,216,343,512,729,1000,1331,1728,2197,2744,3375,4096,4913,5832,6859,8000]},\"selected\":{\"id\":\"2103\",\"type\":\"Selection\"},\"selection_policy\":{\"id\":\"2104\",\"type\":\"UnionRenderers\"}},\"id\":\"2027\",\"type\":\"ColumnDataSource\"},{\"attributes\":{},\"id\":\"2073\",\"type\":\"BasicTicker\"},{\"attributes\":{\"bottom_units\":\"screen\",\"fill_alpha\":{\"value\":0.5},\"fill_color\":{\"value\":\"lightgrey\"},\"left_units\":\"screen\",\"level\":\"overlay\",\"line_alpha\":{\"value\":1.0},\"line_color\":{\"value\":\"black\"},\"line_dash\":[4,4],\"line_width\":{\"value\":2},\"render_mode\":\"css\",\"right_units\":\"screen\",\"top_units\":\"screen\"},\"id\":\"2101\",\"type\":\"BoxAnnotation\"},{\"attributes\":{\"ticker\":{\"id\":\"2073\",\"type\":\"BasicTicker\"}},\"id\":\"2076\",\"type\":\"Grid\"},{\"attributes\":{\"dimension\":1,\"ticker\":{\"id\":\"2044\",\"type\":\"BasicTicker\"}},\"id\":\"2047\",\"type\":\"Grid\"},{\"attributes\":{},\"id\":\"2103\",\"type\":\"Selection\"},{\"attributes\":{\"formatter\":{\"id\":\"2107\",\"type\":\"BasicTickFormatter\"},\"ticker\":{\"id\":\"2078\",\"type\":\"BasicTicker\"}},\"id\":\"2077\",\"type\":\"LinearAxis\"},{\"attributes\":{\"fill_color\":{\"value\":\"indianred\"},\"line_color\":{\"value\":\"indianred\"},\"x\":{\"field\":\"x\"},\"y\":{\"field\":\"y0\"}},\"id\":\"2058\",\"type\":\"Circle\"},{\"attributes\":{\"active_drag\":\"auto\",\"active_inspect\":\"auto\",\"active_multi\":null,\"active_scroll\":\"auto\",\"active_tap\":\"auto\",\"tools\":[{\"id\":\"2048\",\"type\":\"BoxSelectTool\"},{\"id\":\"2049\",\"type\":\"LassoSelectTool\"},{\"id\":\"2050\",\"type\":\"ResetTool\"},{\"id\":\"2051\",\"type\":\"HoverTool\"}]},\"id\":\"2052\",\"type\":\"Toolbar\"},{\"attributes\":{},\"id\":\"2104\",\"type\":\"UnionRenderers\"},{\"attributes\":{},\"id\":\"2078\",\"type\":\"BasicTicker\"},{\"attributes\":{\"callback\":null,\"overlay\":{\"id\":\"2101\",\"type\":\"BoxAnnotation\"}},\"id\":\"2048\",\"type\":\"BoxSelectTool\"},{\"attributes\":{\"dimension\":1,\"ticker\":{\"id\":\"2078\",\"type\":\"BasicTicker\"}},\"id\":\"2081\",\"type\":\"Grid\"},{\"attributes\":{\"callback\":null,\"overlay\":{\"id\":\"2102\",\"type\":\"PolyAnnotation\"}},\"id\":\"2049\",\"type\":\"LassoSelectTool\"},{\"attributes\":{\"callback\":null},\"id\":\"2064\",\"type\":\"DataRange1d\"},{\"attributes\":{},\"id\":\"2109\",\"type\":\"BasicTickFormatter\"},{\"attributes\":{\"toolbar\":{\"id\":\"2117\",\"type\":\"ProxyToolbar\"},\"toolbar_location\":\"above\"},\"id\":\"2118\",\"type\":\"ToolbarBox\"},{\"attributes\":{\"fill_color\":{\"value\":\"mediumaquamarine\"},\"line_color\":{\"value\":\"mediumaquamarine\"},\"x\":{\"field\":\"x\"},\"y\":{\"field\":\"y1\"}},\"id\":\"2092\",\"type\":\"Circle\"},{\"attributes\":{},\"id\":\"2050\",\"type\":\"ResetTool\"},{\"attributes\":{\"below\":[{\"id\":\"2072\",\"type\":\"LinearAxis\"}],\"center\":[{\"id\":\"2076\",\"type\":\"Grid\"},{\"id\":\"2081\",\"type\":\"Grid\"}],\"left\":[{\"id\":\"2077\",\"type\":\"LinearAxis\"}],\"plot_height\":200,\"plot_width\":300,\"renderers\":[{\"id\":\"2094\",\"type\":\"GlyphRenderer\"}],\"title\":null,\"toolbar\":{\"id\":\"2086\",\"type\":\"Toolbar\"},\"toolbar_location\":null,\"x_range\":{\"id\":\"2064\",\"type\":\"DataRange1d\"},\"x_scale\":{\"id\":\"2068\",\"type\":\"LinearScale\"},\"y_range\":{\"id\":\"2066\",\"type\":\"DataRange1d\"},\"y_scale\":{\"id\":\"2070\",\"type\":\"LinearScale\"}},\"id\":\"2062\",\"subtype\":\"Figure\",\"type\":\"Plot\"},{\"attributes\":{\"active_drag\":\"auto\",\"active_inspect\":\"auto\",\"active_multi\":null,\"active_scroll\":\"auto\",\"active_tap\":\"auto\",\"tools\":[{\"id\":\"2082\",\"type\":\"BoxSelectTool\"},{\"id\":\"2083\",\"type\":\"LassoSelectTool\"},{\"id\":\"2084\",\"type\":\"ResetTool\"},{\"id\":\"2085\",\"type\":\"HoverTool\"}]},\"id\":\"2086\",\"type\":\"Toolbar\"},{\"attributes\":{\"bottom_units\":\"screen\",\"fill_alpha\":{\"value\":0.5},\"fill_color\":{\"value\":\"lightgrey\"},\"left_units\":\"screen\",\"level\":\"overlay\",\"line_alpha\":{\"value\":1.0},\"line_color\":{\"value\":\"black\"},\"line_dash\":[4,4],\"line_width\":{\"value\":2},\"render_mode\":\"css\",\"right_units\":\"screen\",\"top_units\":\"screen\"},\"id\":\"2111\",\"type\":\"BoxAnnotation\"},{\"attributes\":{\"callback\":null,\"overlay\":{\"id\":\"2111\",\"type\":\"BoxAnnotation\"}},\"id\":\"2082\",\"type\":\"BoxSelectTool\"},{\"attributes\":{\"callback\":null,\"tooltips\":[[\"index\",\"$index\"],[\"square\",\"@y0\"],[\"cube\",\"@y1\"]]},\"id\":\"2051\",\"type\":\"HoverTool\"},{\"attributes\":{\"fill_alpha\":{\"value\":0.5},\"fill_color\":{\"value\":\"lightgrey\"},\"level\":\"overlay\",\"line_alpha\":{\"value\":1.0},\"line_color\":{\"value\":\"black\"},\"line_dash\":[4,4],\"line_width\":{\"value\":2},\"xs_units\":\"screen\",\"ys_units\":\"screen\"},\"id\":\"2112\",\"type\":\"PolyAnnotation\"},{\"attributes\":{\"callback\":null,\"overlay\":{\"id\":\"2112\",\"type\":\"PolyAnnotation\"}},\"id\":\"2083\",\"type\":\"LassoSelectTool\"},{\"attributes\":{\"tools\":[{\"id\":\"2048\",\"type\":\"BoxSelectTool\"},{\"id\":\"2049\",\"type\":\"LassoSelectTool\"},{\"id\":\"2050\",\"type\":\"ResetTool\"},{\"id\":\"2051\",\"type\":\"HoverTool\"},{\"id\":\"2082\",\"type\":\"BoxSelectTool\"},{\"id\":\"2083\",\"type\":\"LassoSelectTool\"},{\"id\":\"2084\",\"type\":\"ResetTool\"},{\"id\":\"2085\",\"type\":\"HoverTool\"}]},\"id\":\"2117\",\"type\":\"ProxyToolbar\"},{\"attributes\":{},\"id\":\"2084\",\"type\":\"ResetTool\"},{\"attributes\":{\"fill_alpha\":{\"value\":0.1},\"fill_color\":{\"value\":\"#1f77b4\"},\"line_alpha\":{\"value\":0.1},\"line_color\":{\"value\":\"#1f77b4\"},\"x\":{\"field\":\"x\"},\"y\":{\"field\":\"y0\"}},\"id\":\"2059\",\"type\":\"Circle\"},{\"attributes\":{\"callback\":null},\"id\":\"2030\",\"type\":\"DataRange1d\"},{\"attributes\":{\"callback\":null,\"tooltips\":[[\"index\",\"$index\"],[\"square\",\"@y0\"],[\"cube\",\"@y1\"]]},\"id\":\"2085\",\"type\":\"HoverTool\"},{\"attributes\":{\"data_source\":{\"id\":\"2027\",\"type\":\"ColumnDataSource\"},\"glyph\":{\"id\":\"2058\",\"type\":\"Circle\"},\"hover_glyph\":null,\"muted_glyph\":null,\"nonselection_glyph\":{\"id\":\"2059\",\"type\":\"Circle\"},\"selection_glyph\":null,\"view\":{\"id\":\"2061\",\"type\":\"CDSView\"}},\"id\":\"2060\",\"type\":\"GlyphRenderer\"},{\"attributes\":{\"callback\":null},\"id\":\"2032\",\"type\":\"DataRange1d\"},{\"attributes\":{\"source\":{\"id\":\"2027\",\"type\":\"ColumnDataSource\"}},\"id\":\"2061\",\"type\":\"CDSView\"},{\"attributes\":{},\"id\":\"2036\",\"type\":\"LinearScale\"},{\"attributes\":{\"children\":[[{\"id\":\"2028\",\"subtype\":\"Figure\",\"type\":\"Plot\"},0,0],[{\"id\":\"2062\",\"subtype\":\"Figure\",\"type\":\"Plot\"},0,1]]},\"id\":\"2116\",\"type\":\"GridBox\"},{\"attributes\":{},\"id\":\"2107\",\"type\":\"BasicTickFormatter\"},{\"attributes\":{\"fill_alpha\":{\"value\":0.1},\"fill_color\":{\"value\":\"#1f77b4\"},\"line_alpha\":{\"value\":0.1},\"line_color\":{\"value\":\"#1f77b4\"},\"x\":{\"field\":\"x\"},\"y\":{\"field\":\"y1\"}},\"id\":\"2093\",\"type\":\"Circle\"},{\"attributes\":{\"data_source\":{\"id\":\"2027\",\"type\":\"ColumnDataSource\"},\"glyph\":{\"id\":\"2092\",\"type\":\"Circle\"},\"hover_glyph\":null,\"muted_glyph\":null,\"nonselection_glyph\":{\"id\":\"2093\",\"type\":\"Circle\"},\"selection_glyph\":null,\"view\":{\"id\":\"2095\",\"type\":\"CDSView\"}},\"id\":\"2094\",\"type\":\"GlyphRenderer\"},{\"attributes\":{\"callback\":null},\"id\":\"2066\",\"type\":\"DataRange1d\"},{\"attributes\":{\"source\":{\"id\":\"2027\",\"type\":\"ColumnDataSource\"}},\"id\":\"2095\",\"type\":\"CDSView\"},{\"attributes\":{},\"id\":\"2068\",\"type\":\"LinearScale\"}],\"root_ids\":[\"2119\"]},\"title\":\"Bokeh Application\",\"version\":\"1.3.4\"}};\n",
       "  var render_items = [{\"docid\":\"c73eacba-0537-406a-be39-07a353eb1372\",\"roots\":{\"2119\":\"fe373e77-e534-42fd-8050-b33bf414edcf\"}}];\n",
       "  root.Bokeh.embed.embed_items_notebook(docs_json, render_items);\n",
       "\n",
       "  }\n",
       "  if (root.Bokeh !== undefined) {\n",
       "    embed_document(root);\n",
       "  } else {\n",
       "    var attempts = 0;\n",
       "    var timer = setInterval(function(root) {\n",
       "      if (root.Bokeh !== undefined) {\n",
       "        embed_document(root);\n",
       "        clearInterval(timer);\n",
       "      }\n",
       "      attempts++;\n",
       "      if (attempts > 100) {\n",
       "        console.log(\"Bokeh: ERROR: Unable to run BokehJS code because BokehJS library is missing\");\n",
       "        clearInterval(timer);\n",
       "      }\n",
       "    }, 10, root)\n",
       "  }\n",
       "})(window);"
      ],
      "application/vnd.bokehjs_exec.v0+json": ""
     },
     "metadata": {
      "application/vnd.bokehjs_exec.v0+json": {
       "id": "2119"
      }
     },
     "output_type": "display_data"
    }
   ],
   "source": [
    "x = list(range(-20, 21))\n",
    "y0 = [i**2 for i in x]\n",
    "y1 = [i**3 for i in x]\n",
    "\n",
    "# create a column data source for the plots to share\n",
    "source = ColumnDataSource(data=dict(x=x, y0=y0, y1=y1))\n",
    "\n",
    "TOOLS = \"box_select,lasso_select,reset\"# define toolbars\n",
    "TOOLTIPS = [(\"index\", \"$index\"),\n",
    "            ('square', '@y0'),\n",
    "            ('cube', '@y1')]# define hovertool\n",
    "\n",
    "# create a new plot\n",
    "left = figure(tools=TOOLS, tooltips = TOOLTIPS, plot_width=300, plot_height=200, title=None)\n",
    "left.circle('x', 'y0', source=source, color = 'indianred')\n",
    "\n",
    "# create another new plot\n",
    "right = figure(tools=TOOLS, tooltips = TOOLTIPS, plot_width=300, plot_height=200, title=None)\n",
    "right.circle('x', 'y1', source=source, color = 'mediumaquamarine')\n",
    "\n",
    "p = gridplot([[left, right]])\n",
    "\n",
    "show(p)"
   ]
  },
  {
   "cell_type": "markdown",
   "metadata": {},
   "source": [
    "In the above plot, we also add a useful tool called `HoverTool` to help user inspect data. It's a passive tool that annotate or report information about the selected data point. It is generally on at all times, but can be configured when ploting. To specify values in hovertool, we need to use filed names.\n",
    "\n",
    "Field names that begin with `$` are “special fields”. These often correspond to values that are intrinsic to the plot, such as the coordinates of the mouse in data or screen space. These some special fields are listed here:\n",
    "    \n",
    "- index: index of selected point in the data source\n",
    "- x: x-coordinate \n",
    "- y: y-coordinate \n",
    "\n",
    "Field names that begin with `@` are associated with columns in a ColumnDataSource.\n",
    "\n",
    "Bokeh also support some advanced hovertool configuration (for example, image hover). To see more details, please [click](#https://bokeh.pydata.org/en/latest/docs/user_guide/tools.html#userguide-tools-inspectors)."
   ]
  },
  {
   "cell_type": "markdown",
   "metadata": {},
   "source": [
    "---\n",
    "### Congratulations! \n",
    "#### You finished the main part of this tutorial. \n",
    "#### Now you can create your own pretty plots!\n",
    "---"
   ]
  },
  {
   "cell_type": "markdown",
   "metadata": {},
   "source": [
    "To help you have an intuitive impression on creating interactive plots to present your data, I provide two examples below using real-world datasets to demonstrate possible usage. Hope it can help you have a better understanding and give you some inspiration."
   ]
  },
  {
   "cell_type": "markdown",
   "metadata": {},
   "source": [
    "## Example application: World Happiness Report"
   ]
  },
  {
   "cell_type": "markdown",
   "metadata": {},
   "source": [
    "Does economy development improve people's happiness? What's the relationship between freedom and life expetancy? Are these relationships differ from different continents? \n",
    "\n",
    "To solve these problem, let's use the data from **World Happiness Report** to visualize these relations. For demonstration, here we only use the 2017 World Happiness Report. To categorize countries into different continents, we also load a country_to_continent dataset.\n",
    "\n",
    "The World Happiness 2017, which ranks 155 countries by their happiness levels, was released at the United Nations at an event celebrating International Day of Happiness on March 20th. The happiness scores and rankings use data from the Gallup World Poll. \n",
    "\n",
    "> *The World Happiness Report dataset and detailed decription can be download from Kaggle: https://www.kaggle.com/unsdsn/world-happiness <br>*\n",
    "> *The country_to_continent dataset can be download from Kaggle: https://www.kaggle.com/statchaitya/country-to-continent*\n",
    "\n"
   ]
  },
  {
   "cell_type": "markdown",
   "metadata": {},
   "source": [
    "Before visualization, let's load and transform the data first."
   ]
  },
  {
   "cell_type": "code",
   "execution_count": 12,
   "metadata": {},
   "outputs": [],
   "source": [
    "# load data\n",
    "country_continent = pd.read_csv('countryContinent.csv', encoding  = 'iso-8859-1')[['country',  'continent']]\n",
    "happy_17 = pd.read_csv('world_happiness_2017.csv')\n",
    "# merge data\n",
    "happy = happy_17.merge(country_continent, left_on = 'Country', right_on = 'country', how = 'left')\n",
    "# drop nan\n",
    "happy.drop(happy[happy['continent'].isnull()].index, inplace = True)\n",
    "# rename\n",
    "happy = happy.rename(columns = {'Happiness.Score': 'happiness_score', \n",
    "                        'Economy..GDP.per.Capita.': 'GDP_per_capita',\n",
    "                       'Health..Life.Expectancy.': 'life_expectancy'})\n",
    "# select useful columns\n",
    "happy = happy[['Country','happiness_score','GDP_per_capita','life_expectancy','Freedom','continent']]"
   ]
  },
  {
   "cell_type": "code",
   "execution_count": 13,
   "metadata": {
    "scrolled": false
   },
   "outputs": [
    {
     "data": {
      "text/html": [
       "<div>\n",
       "<style scoped>\n",
       "    .dataframe tbody tr th:only-of-type {\n",
       "        vertical-align: middle;\n",
       "    }\n",
       "\n",
       "    .dataframe tbody tr th {\n",
       "        vertical-align: top;\n",
       "    }\n",
       "\n",
       "    .dataframe thead th {\n",
       "        text-align: right;\n",
       "    }\n",
       "</style>\n",
       "<table border=\"1\" class=\"dataframe\">\n",
       "  <thead>\n",
       "    <tr style=\"text-align: right;\">\n",
       "      <th></th>\n",
       "      <th>Country</th>\n",
       "      <th>happiness_score</th>\n",
       "      <th>GDP_per_capita</th>\n",
       "      <th>life_expectancy</th>\n",
       "      <th>Freedom</th>\n",
       "      <th>continent</th>\n",
       "    </tr>\n",
       "  </thead>\n",
       "  <tbody>\n",
       "    <tr>\n",
       "      <th>0</th>\n",
       "      <td>Norway</td>\n",
       "      <td>7.537</td>\n",
       "      <td>1.616463</td>\n",
       "      <td>0.796667</td>\n",
       "      <td>0.635423</td>\n",
       "      <td>Europe</td>\n",
       "    </tr>\n",
       "    <tr>\n",
       "      <th>1</th>\n",
       "      <td>Denmark</td>\n",
       "      <td>7.522</td>\n",
       "      <td>1.482383</td>\n",
       "      <td>0.792566</td>\n",
       "      <td>0.626007</td>\n",
       "      <td>Europe</td>\n",
       "    </tr>\n",
       "    <tr>\n",
       "      <th>2</th>\n",
       "      <td>Iceland</td>\n",
       "      <td>7.504</td>\n",
       "      <td>1.480633</td>\n",
       "      <td>0.833552</td>\n",
       "      <td>0.627163</td>\n",
       "      <td>Europe</td>\n",
       "    </tr>\n",
       "    <tr>\n",
       "      <th>3</th>\n",
       "      <td>Switzerland</td>\n",
       "      <td>7.494</td>\n",
       "      <td>1.564980</td>\n",
       "      <td>0.858131</td>\n",
       "      <td>0.620071</td>\n",
       "      <td>Europe</td>\n",
       "    </tr>\n",
       "    <tr>\n",
       "      <th>4</th>\n",
       "      <td>Finland</td>\n",
       "      <td>7.469</td>\n",
       "      <td>1.443572</td>\n",
       "      <td>0.809158</td>\n",
       "      <td>0.617951</td>\n",
       "      <td>Europe</td>\n",
       "    </tr>\n",
       "  </tbody>\n",
       "</table>\n",
       "</div>"
      ],
      "text/plain": [
       "       Country  happiness_score  GDP_per_capita  life_expectancy   Freedom  \\\n",
       "0       Norway            7.537        1.616463         0.796667  0.635423   \n",
       "1      Denmark            7.522        1.482383         0.792566  0.626007   \n",
       "2      Iceland            7.504        1.480633         0.833552  0.627163   \n",
       "3  Switzerland            7.494        1.564980         0.858131  0.620071   \n",
       "4      Finland            7.469        1.443572         0.809158  0.617951   \n",
       "\n",
       "  continent  \n",
       "0    Europe  \n",
       "1    Europe  \n",
       "2    Europe  \n",
       "3    Europe  \n",
       "4    Europe  "
      ]
     },
     "execution_count": 13,
     "metadata": {},
     "output_type": "execute_result"
    }
   ],
   "source": [
    "happy.head()"
   ]
  },
  {
   "cell_type": "markdown",
   "metadata": {},
   "source": [
    "Here, our basic needs and corresponding visualization design are:\n",
    "\n",
    "| Needs      | Design    |\n",
    "| :--------  | :------- |\n",
    "| Visualizing relationships between:<br> - happiness score and GDP<br>- life expectancy and freedom | Creating two scatter plots |\n",
    "|Presenting connection between the above two relationship |Bridging two scatter plots|\n",
    "|Labelling different continents| Using different colors and markers for different continents|\n",
    "|Providing details for sepecific data point| Adding hovertool to annotate data|\n",
    "\n",
    "Moreover, we want to provide some interaction choices. Given the visualization design above, we can offer the following interaction options:\n",
    "- Select multiple continents\n",
    "- Define range of happiness score\n",
    "- Define range of life expectancy\n",
    "\n",
    "Now we have our visualization design, let's start create the plot."
   ]
  },
  {
   "cell_type": "code",
   "execution_count": 14,
   "metadata": {},
   "outputs": [],
   "source": [
    "# helper function: create corresponding dataset for plot given interaction choices\n",
    "def make_dataset(select, range_start = 0, range_end = 10, life_start = 0, life_end = 1):\n",
    "    new_data = pd.DataFrame(columns = happy.columns)\n",
    "    for i in select:\n",
    "        new_data = new_data.append(happy.loc[happy['continent'] == i])\n",
    "    new_data = new_data.loc[(new_data['happiness_score'] > range_start) & \n",
    "                            (new_data['happiness_score'] < range_end)]\n",
    "    new_data = new_data.loc[(new_data['life_expectancy'] > life_start) & \n",
    "                            (new_data['life_expectancy'] < life_end)]\n",
    "    cds = ColumnDataSource(new_data)\n",
    "    return cds"
   ]
  },
  {
   "cell_type": "code",
   "execution_count": 16,
   "metadata": {
    "scrolled": false
   },
   "outputs": [
    {
     "data": {
      "application/vnd.bokehjs_exec.v0+json": "",
      "text/html": [
       "\n",
       "<script src=\"http://localhost:55778/autoload.js?bokeh-autoload-element=2606&bokeh-absolute-url=http://localhost:55778&resources=none\" id=\"2606\"></script>"
      ]
     },
     "metadata": {
      "application/vnd.bokehjs_exec.v0+json": {
       "server_id": "c545995e4e8849f2922e711ad8500da9"
      }
     },
     "output_type": "display_data"
    }
   ],
   "source": [
    "def modify_doc(doc):\n",
    "    source = ColumnDataSource(happy)\n",
    "    \n",
    "    # variables needed in plot configuration\n",
    "    CONTINENT = happy['continent'].unique().tolist()\n",
    "    MARKERS = ['hex', 'circle_x', 'triangle', 'square', 'asterisk']\n",
    "    TOOLS = \"box_select,lasso_select,reset\" # set toolbar\n",
    "    TOOLTIPS_left = [(\"index\", \"$index\"),\n",
    "                ('Country', '@Country'),\n",
    "                ('Happiness score',\"@happiness_score\"),\n",
    "                ('GDP per capita', '@GDP_per_capita')]# set hovertool for the left plot\n",
    "    TOOLTIPS_right = [(\"index\", \"$index\"),\n",
    "                ('Country', '@Country'),\n",
    "                ('Life Expectancy',\"@life_expectancy\"),\n",
    "                ('Freedom', '@Freedom')]# set hovertool for the right plot\n",
    "\n",
    "    left = figure(plot_width=400, plot_height=350, title = 'Happiness Score vs. GDP per Capita',\n",
    "                  tools = TOOLS, tooltips = TOOLTIPS_left)\n",
    "    left.scatter('happiness_score', 'GDP_per_capita',legend = 'continent',\n",
    "                  size=8, hover_color=\"firebrick\", source=source, \n",
    "                  marker=factor_mark('continent', MARKERS, CONTINENT),\n",
    "                  color=factor_cmap('continent', 'Category20_5', CONTINENT))\n",
    "    left.xaxis[0].axis_label = 'Happiness Score'\n",
    "    left.yaxis[0].axis_label = 'GDP per Capita'\n",
    "    left.legend.location = \"bottom_right\"\n",
    "    left.legend.title = 'Continent'\n",
    "    left.legend.title_text_font_style = \"bold\"\n",
    "    left.legend.background_fill_alpha = 0.5\n",
    "    \n",
    "\n",
    "    right = figure(plot_width=400, plot_height=350, title = 'Life Expectancy vs. Freedom',\n",
    "                   tools = TOOLS, tooltips = TOOLTIPS_right)\n",
    "    right.scatter('life_expectancy', 'Freedom', legend = 'continent',\n",
    "                   size=8, hover_color=\"firebrick\", source=source, \n",
    "                   marker=factor_mark('continent', MARKERS, CONTINENT),\n",
    "                   color=factor_cmap('continent', 'Category20_5', CONTINENT))\n",
    "    right.xaxis[0].axis_label = 'Life Expectancy'\n",
    "    right.yaxis[0].axis_label = 'Freedom'\n",
    "    right.legend.location = \"bottom_right\"\n",
    "    right.legend.title = 'Continent'\n",
    "    right.legend.title_text_font_style = \"bold\"\n",
    "    right.legend.background_fill_alpha = 0.5\n",
    "    \n",
    "    # create widgets: 1 checkbox, 2 sliders(1 for happiness socre, 1 for life expectancy)\n",
    "    checkbox = CheckboxGroup(labels=CONTINENT, active=[0,1,2,3,4])\n",
    "    \n",
    "    range_slider_1 = RangeSlider(start=2, end=8, value=(2,8), step=.1, title=\"Happiness Score\")\n",
    "    \n",
    "    range_slider_2 = RangeSlider(start=0, end=1, value=(0,1), step=.01, title=\"Life Expectancy\")\n",
    "    \n",
    "    # define event handlers\n",
    "    def update_check(attr, old, new):\n",
    "        checked = [CONTINENT[i] for i in checkbox.active]\n",
    "        new_src = make_dataset(checked)\n",
    "        source.data.update(new_src.data)\n",
    "    checkbox.on_change('active', update_check)\n",
    "    \n",
    "    def update_slider_1(attr, old, new):\n",
    "        range_start = range_slider_1.value[0]\n",
    "        range_end = range_slider_1.value[1]\n",
    "        checked = [CONTINENT[i] for i in checkbox.active]\n",
    "        new_src = make_dataset(checked, range_start = range_start, range_end = range_end)\n",
    "        source.data.update(new_src.data)\n",
    "    range_slider_1.on_change('value', update_slider_1)\n",
    "    \n",
    "    def update_slider_2(attr, old, new):\n",
    "        range_start = range_slider_2.value[0]\n",
    "        range_end = range_slider_2.value[1]\n",
    "        checked = [CONTINENT[i] for i in checkbox.active]\n",
    "        new_src = make_dataset(checked, life_start = range_start, life_end = range_end)\n",
    "        source.data.update(new_src.data)\n",
    "    range_slider_2.on_change('value', update_slider_2)\n",
    "    \n",
    "    layout = column(row(checkbox,column(range_slider_1,range_slider_2)), row(left, right))\n",
    "    \n",
    "    doc.add_root(layout)\n",
    "\n",
    "show(modify_doc)"
   ]
  },
  {
   "cell_type": "markdown",
   "metadata": {},
   "source": [
    "Now we have our first real-world dataset interactive visualization! \n",
    "\n",
    "The above plot offers the following interactions: \n",
    "- Select continents to plot\n",
    "- Select happiness socreand life expectancy range\n",
    "- Select specific data point to check corresponding values\n",
    "- Select mutliple data points in one plot to see corresponding point in another plot (you can use the toolbar to choice different select mothods (box select/lasso select)\n",
    "\n",
    "In next example, we will include more complex data transformation and interactive visualization methods."
   ]
  },
  {
   "cell_type": "markdown",
   "metadata": {},
   "source": [
    "## Example application: Airbnb NYC data"
   ]
  },
  {
   "cell_type": "markdown",
   "metadata": {},
   "source": [
    "In this example, we will use the Airbnb NYC dataset. This dataset describes listing activity and metrics in NYC, NY for 2019. It contains 48895 observations with 16 columns.\n",
    "\n",
    "> You can downlaod this dataset from Kaggle: https://www.kaggle.com/dgomonov/new-york-city-airbnb-open-data"
   ]
  },
  {
   "cell_type": "code",
   "execution_count": 17,
   "metadata": {},
   "outputs": [],
   "source": [
    "AB_nyc = pd.read_csv('AB_NYC_2019.csv')"
   ]
  },
  {
   "cell_type": "code",
   "execution_count": 18,
   "metadata": {
    "scrolled": true
   },
   "outputs": [
    {
     "data": {
      "text/html": [
       "<div>\n",
       "<style scoped>\n",
       "    .dataframe tbody tr th:only-of-type {\n",
       "        vertical-align: middle;\n",
       "    }\n",
       "\n",
       "    .dataframe tbody tr th {\n",
       "        vertical-align: top;\n",
       "    }\n",
       "\n",
       "    .dataframe thead th {\n",
       "        text-align: right;\n",
       "    }\n",
       "</style>\n",
       "<table border=\"1\" class=\"dataframe\">\n",
       "  <thead>\n",
       "    <tr style=\"text-align: right;\">\n",
       "      <th></th>\n",
       "      <th>id</th>\n",
       "      <th>name</th>\n",
       "      <th>host_id</th>\n",
       "      <th>host_name</th>\n",
       "      <th>neighbourhood_group</th>\n",
       "      <th>neighbourhood</th>\n",
       "      <th>latitude</th>\n",
       "      <th>longitude</th>\n",
       "      <th>room_type</th>\n",
       "      <th>price</th>\n",
       "      <th>minimum_nights</th>\n",
       "      <th>number_of_reviews</th>\n",
       "      <th>last_review</th>\n",
       "      <th>reviews_per_month</th>\n",
       "      <th>calculated_host_listings_count</th>\n",
       "      <th>availability_365</th>\n",
       "    </tr>\n",
       "  </thead>\n",
       "  <tbody>\n",
       "    <tr>\n",
       "      <th>0</th>\n",
       "      <td>2539</td>\n",
       "      <td>Clean &amp; quiet apt home by the park</td>\n",
       "      <td>2787</td>\n",
       "      <td>John</td>\n",
       "      <td>Brooklyn</td>\n",
       "      <td>Kensington</td>\n",
       "      <td>40.64749</td>\n",
       "      <td>-73.97237</td>\n",
       "      <td>Private room</td>\n",
       "      <td>149</td>\n",
       "      <td>1</td>\n",
       "      <td>9</td>\n",
       "      <td>2018-10-19</td>\n",
       "      <td>0.21</td>\n",
       "      <td>6</td>\n",
       "      <td>365</td>\n",
       "    </tr>\n",
       "    <tr>\n",
       "      <th>1</th>\n",
       "      <td>2595</td>\n",
       "      <td>Skylit Midtown Castle</td>\n",
       "      <td>2845</td>\n",
       "      <td>Jennifer</td>\n",
       "      <td>Manhattan</td>\n",
       "      <td>Midtown</td>\n",
       "      <td>40.75362</td>\n",
       "      <td>-73.98377</td>\n",
       "      <td>Entire home/apt</td>\n",
       "      <td>225</td>\n",
       "      <td>1</td>\n",
       "      <td>45</td>\n",
       "      <td>2019-05-21</td>\n",
       "      <td>0.38</td>\n",
       "      <td>2</td>\n",
       "      <td>355</td>\n",
       "    </tr>\n",
       "    <tr>\n",
       "      <th>2</th>\n",
       "      <td>3647</td>\n",
       "      <td>THE VILLAGE OF HARLEM....NEW YORK !</td>\n",
       "      <td>4632</td>\n",
       "      <td>Elisabeth</td>\n",
       "      <td>Manhattan</td>\n",
       "      <td>Harlem</td>\n",
       "      <td>40.80902</td>\n",
       "      <td>-73.94190</td>\n",
       "      <td>Private room</td>\n",
       "      <td>150</td>\n",
       "      <td>3</td>\n",
       "      <td>0</td>\n",
       "      <td>NaN</td>\n",
       "      <td>NaN</td>\n",
       "      <td>1</td>\n",
       "      <td>365</td>\n",
       "    </tr>\n",
       "    <tr>\n",
       "      <th>3</th>\n",
       "      <td>3831</td>\n",
       "      <td>Cozy Entire Floor of Brownstone</td>\n",
       "      <td>4869</td>\n",
       "      <td>LisaRoxanne</td>\n",
       "      <td>Brooklyn</td>\n",
       "      <td>Clinton Hill</td>\n",
       "      <td>40.68514</td>\n",
       "      <td>-73.95976</td>\n",
       "      <td>Entire home/apt</td>\n",
       "      <td>89</td>\n",
       "      <td>1</td>\n",
       "      <td>270</td>\n",
       "      <td>2019-07-05</td>\n",
       "      <td>4.64</td>\n",
       "      <td>1</td>\n",
       "      <td>194</td>\n",
       "    </tr>\n",
       "    <tr>\n",
       "      <th>4</th>\n",
       "      <td>5022</td>\n",
       "      <td>Entire Apt: Spacious Studio/Loft by central park</td>\n",
       "      <td>7192</td>\n",
       "      <td>Laura</td>\n",
       "      <td>Manhattan</td>\n",
       "      <td>East Harlem</td>\n",
       "      <td>40.79851</td>\n",
       "      <td>-73.94399</td>\n",
       "      <td>Entire home/apt</td>\n",
       "      <td>80</td>\n",
       "      <td>10</td>\n",
       "      <td>9</td>\n",
       "      <td>2018-11-19</td>\n",
       "      <td>0.10</td>\n",
       "      <td>1</td>\n",
       "      <td>0</td>\n",
       "    </tr>\n",
       "  </tbody>\n",
       "</table>\n",
       "</div>"
      ],
      "text/plain": [
       "     id                                              name  host_id  \\\n",
       "0  2539                Clean & quiet apt home by the park     2787   \n",
       "1  2595                             Skylit Midtown Castle     2845   \n",
       "2  3647               THE VILLAGE OF HARLEM....NEW YORK !     4632   \n",
       "3  3831                   Cozy Entire Floor of Brownstone     4869   \n",
       "4  5022  Entire Apt: Spacious Studio/Loft by central park     7192   \n",
       "\n",
       "     host_name neighbourhood_group neighbourhood  latitude  longitude  \\\n",
       "0         John            Brooklyn    Kensington  40.64749  -73.97237   \n",
       "1     Jennifer           Manhattan       Midtown  40.75362  -73.98377   \n",
       "2    Elisabeth           Manhattan        Harlem  40.80902  -73.94190   \n",
       "3  LisaRoxanne            Brooklyn  Clinton Hill  40.68514  -73.95976   \n",
       "4        Laura           Manhattan   East Harlem  40.79851  -73.94399   \n",
       "\n",
       "         room_type  price  minimum_nights  number_of_reviews last_review  \\\n",
       "0     Private room    149               1                  9  2018-10-19   \n",
       "1  Entire home/apt    225               1                 45  2019-05-21   \n",
       "2     Private room    150               3                  0         NaN   \n",
       "3  Entire home/apt     89               1                270  2019-07-05   \n",
       "4  Entire home/apt     80              10                  9  2018-11-19   \n",
       "\n",
       "   reviews_per_month  calculated_host_listings_count  availability_365  \n",
       "0               0.21                               6               365  \n",
       "1               0.38                               2               355  \n",
       "2                NaN                               1               365  \n",
       "3               4.64                               1               194  \n",
       "4               0.10                               1                 0  "
      ]
     },
     "execution_count": 18,
     "metadata": {},
     "output_type": "execute_result"
    }
   ],
   "source": [
    "AB_nyc.head()"
   ]
  },
  {
   "cell_type": "markdown",
   "metadata": {},
   "source": [
    "Imagine you are planning a travel to New York City. What are factors you would consider when choosing a room to book on Airbnb? \n",
    "\n",
    "**Price** definitely will be a key factor determining your final decision. Also, **location** and **room type** might be another two main factors impacting your choice. However, being unfamilair with New York city, you have no idea about which neighborhood or what type of room that you are most likely to find a place within your price range. \n",
    "\n",
    "Consider other traverlers with the similar needs illustrated above, let's use the dataset to generate a interacitve plots satisfying uers' needs."
   ]
  },
  {
   "cell_type": "code",
   "execution_count": 19,
   "metadata": {},
   "outputs": [],
   "source": [
    "# helper function to generate corresponding dataset\n",
    "# flag refers to which column(neighbourhood/room type) we want to use to categorize data\n",
    "def make_dataset(flag, input_list, range_start = 0, range_end = 1500, bin_width = 50):\n",
    "    new_data = pd.DataFrame(columns = ['proportion', 'left', 'right', 'room_type'])\n",
    "    range_extent = range_end - range_start\n",
    "  \n",
    "    for i in input_list:\n",
    "        if flag == 'neighbourhood':\n",
    "            subset = AB_nyc.loc[AB_nyc['neighbourhood_group'] == i]\n",
    "            # Bokeh cannot plot histogram automatically given raw data, to create a histogram, you need to use\n",
    "            # np.histogram to compute the historgram before ploting\n",
    "            hist, edges = np.histogram(subset['price'], bins = int(range_extent / bin_width), \n",
    "                                       range = [range_start, range_end])\n",
    "            room_df = pd.DataFrame({'proportion': hist / np.sum(hist), \n",
    "                                   'left': edges[:-1], 'right': edges[1:] })\n",
    "            room_df['neighbourhood_group'] = i\n",
    "            new_data = new_data.append(room_df)\n",
    "        if flag == 'room_type':\n",
    "            subset = AB_nyc.loc[AB_nyc['room_type'] == i]\n",
    "            hist, edges = np.histogram(subset['price'], bins = int(range_extent / bin_width), \n",
    "                                       range = [range_start, range_end])\n",
    "            room_df = pd.DataFrame({'proportion': hist / np.sum(hist), \n",
    "                                   'left': edges[:-1], 'right': edges[1:] })\n",
    "            room_df['room_type'] = i\n",
    "            new_data = new_data.append(room_df)\n",
    "            \n",
    "    new_data = ColumnDataSource(new_data)\n",
    "    return new_data"
   ]
  },
  {
   "cell_type": "markdown",
   "metadata": {},
   "source": [
    "This time we will add a new feature - `Tab`. Instead of presenting two plots in parallel to show visualization results at the same time, we want to only display the plot that user desire to see. Therefore, we can create two tabs for two category choices to present our result.\n",
    "\n",
    "To add a tab, you just group your plots and widgets using `Panel` and then pass all the panels to Tab. Please see the last few lines in the following cell to see how it works."
   ]
  },
  {
   "cell_type": "code",
   "execution_count": 20,
   "metadata": {},
   "outputs": [
    {
     "data": {
      "application/vnd.bokehjs_exec.v0+json": "",
      "text/html": [
       "\n",
       "<script src=\"http://localhost:55781/autoload.js?bokeh-autoload-element=2607&bokeh-absolute-url=http://localhost:55781&resources=none\" id=\"2607\"></script>"
      ]
     },
     "metadata": {
      "application/vnd.bokehjs_exec.v0+json": {
       "server_id": "b114800b54b74e69bc5d92f02ab781d4"
      }
     },
     "output_type": "display_data"
    }
   ],
   "source": [
    "def modify_doc(doc):\n",
    "    source_1 = make_dataset('neighbourhood', AB_nyc['neighbourhood_group'].unique().tolist())\n",
    "    source_2 = make_dataset('room_type', AB_nyc['room_type'].unique().tolist())\n",
    "    NEIGHBOUR = AB_nyc['neighbourhood_group'].unique().tolist()\n",
    "    ROOM = AB_nyc['room_type'].unique().tolist()\n",
    "    \n",
    "    fig_1 = figure(plot_width = 500, plot_height = 400)\n",
    "    fig_1.quad(source = source_1, bottom = 0, top = 'proportion', left = 'left', right = 'right',\n",
    "            legend = 'neighbourhood_group', fill_alpha = 0.66, line_color = 'black',\n",
    "            color=factor_cmap('neighbourhood_group', 'Category10_5', NEIGHBOUR))\n",
    "    fig_2 = figure(plot_width = 500, plot_height = 400)\n",
    "    fig_2.quad(source = source_2, bottom = 0, top = 'proportion', left = 'left', right = 'right',\n",
    "            legend = 'room_type', fill_alpha = 0.75, line_color = 'black',\n",
    "            color=factor_cmap('room_type', all_palettes['RdYlBu'][3], ROOM))\n",
    "    \n",
    "    checkbox_1 = CheckboxGroup(labels=NEIGHBOUR, active=[0,1,2,3,4])\n",
    "    checkbox_2 = CheckboxGroup(labels=ROOM, active=[0,1,2])\n",
    "    \n",
    "    range_slider_1 = RangeSlider(start=0, end=1500, value=(0,1500), step=100, title=\"Price\")\n",
    "    range_slider_2 = RangeSlider(start=0, end=1500, value=(0,1500), step=100, title=\"Price\")\n",
    "    \n",
    "    binwidth_slider_1 = Slider(start=20, end=100, value=50, step=10, title=\"Price Width\")\n",
    "    binwidth_slider_2 = Slider(start=20, end=100, value=50, step=10, title=\"Price Width\")\n",
    "    \n",
    "    def update_check_1(attr, old, new):\n",
    "        checked_1 = [NEIGHBOUR[i] for i in checkbox_1.active]\n",
    "        new_src = make_dataset('neighbourhood', checked_1)\n",
    "        source_1.data.update(new_src.data)\n",
    "    checkbox_1.on_change('active', update_check_1)\n",
    "    \n",
    "    def update_check_2(attr, old, new):\n",
    "        checked_2 = [ROOM[i] for i in checkbox_2.active]\n",
    "        new_src = make_dataset('room_type', checked_2)\n",
    "        source_2.data.update(new_src.data)\n",
    "    checkbox_2.on_change('active', update_check_2)\n",
    "    \n",
    "    def update_slider_1(attr, old, new):\n",
    "        range_start = range_slider_1.value[0]\n",
    "        range_end = range_slider_1.value[1]\n",
    "        checked = [NEIGHBOUR[i] for i in checkbox_1.active]\n",
    "        new_src = make_dataset('neighbourhood',checked, range_start = range_start, range_end = range_end)\n",
    "        source_1.data.update(new_src.data)\n",
    "    range_slider_1.on_change('value', update_slider_1)\n",
    "    \n",
    "    def update_slider_2(attr, old, new):\n",
    "        range_start = range_slider_2.value[0]\n",
    "        range_end = range_slider_2.value[1]\n",
    "        checked = [ROOM[i] for i in checkbox_2.active]\n",
    "        new_src = make_dataset('room_type', checked, range_start = range_start, range_end = range_end)\n",
    "        source_2.data.update(new_src.data)\n",
    "    range_slider_2.on_change('value', update_slider_2)\n",
    "    \n",
    "    def update_width_slider_1(attr, old, new):\n",
    "        bin_w = binwidth_slider_1.value\n",
    "        range_start = range_slider_1.value[0]\n",
    "        range_end = range_slider_1.value[1]\n",
    "        checked = [NEIGHBOUR[i] for i in checkbox_1.active]\n",
    "        new_src = make_dataset('neighbourhood',checked, range_start = range_start, range_end = range_end,bin_width = bin_w)\n",
    "        source_1.data.update(new_src.data)\n",
    "    binwidth_slider_1.on_change('value', update_width_slider_1)\n",
    "    \n",
    "    def update_width_slider_2(attr, old, new):\n",
    "        bin_w = binwidth_slider_2.value\n",
    "        range_start = range_slider_2.value[0]\n",
    "        range_end = range_slider_2.value[1]\n",
    "        checked = [ROOM[i] for i in checkbox_2.active]\n",
    "        new_src = make_dataset('room_type', checked, range_start = range_start, range_end = range_end,bin_width = bin_w)\n",
    "        source_2.data.update(new_src.data)\n",
    "\n",
    "    binwidth_slider_2.on_change('value', update_width_slider_2)\n",
    "\n",
    "    tab1 = Panel(child = row(column(checkbox_1,range_slider_1,binwidth_slider_1),fig_1), title = 'Neighbourhood')\n",
    "    tab2 = Panel(child = row(column(checkbox_2,range_slider_2,binwidth_slider_2), fig_2), title = 'Room Type')\n",
    "    \n",
    "    layout = Tabs(tabs = [tab1, tab2])\n",
    "    \n",
    "    doc.add_root(layout)\n",
    "\n",
    "show(modify_doc)"
   ]
  },
  {
   "cell_type": "markdown",
   "metadata": {},
   "source": [
    "The plot above offers two options for ploting histogram of price. Also, it provides range selection of price and price width. By using this interactive visualization, people can easily have a deeper understanding of price disctribution in New York City for different neighbourhoods and room types. "
   ]
  },
  {
   "cell_type": "markdown",
   "metadata": {},
   "source": [
    "## Summary and Reference"
   ]
  },
  {
   "cell_type": "markdown",
   "metadata": {},
   "source": [
    "This tutorial highlighted just a few elements of what is possible with interactive data visualization in Jupyter Notebook using Bokeh. Bokeh works very well in creating web-based dashboard and applications. Much more detail about the libraries and examplers are available from the following links.\n",
    "\n",
    "1. Bokeh user guide: https://docs.bokeh.org/en/latest/docs/user_guide.html\n",
    "2. Gallery: https://docs.bokeh.org/en/latest/docs/gallery.html\n",
    "3. The World Happiness Report dataset: https://www.kaggle.com/unsdsn/world-happiness\n",
    "4. The country_to_continent dataset: https://www.kaggle.com/statchaitya/country-to-continent\n",
    "5. Airbnb NYC open data: https://www.kaggle.com/dgomonov/new-york-city-airbnb-open-data\n",
    "6. Interactive Data Visualization in Python With Bokeh: https://realpython.com/python-data-visualization-bokeh/\n",
    "7. Data Visualization with Bokeh in Python, Part II: Interactions: https://towardsdatascience.com/data-visualization-with-bokeh-in-python-part-ii-interactions-a4cf994e2512"
   ]
  }
 ],
 "metadata": {
  "kernelspec": {
   "display_name": "Python 3",
   "language": "python",
   "name": "python3"
  },
  "language_info": {
   "codemirror_mode": {
    "name": "ipython",
    "version": 3
   },
   "file_extension": ".py",
   "mimetype": "text/x-python",
   "name": "python",
   "nbconvert_exporter": "python",
   "pygments_lexer": "ipython3",
   "version": "3.7.0"
  }
 },
 "nbformat": 4,
 "nbformat_minor": 2
}
